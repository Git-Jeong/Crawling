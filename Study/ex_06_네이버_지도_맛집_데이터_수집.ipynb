{
 "cells": [
  {
   "cell_type": "markdown",
   "id": "36e9f2ec-1937-4a23-a982-424973bb43c8",
   "metadata": {},
   "source": [
    "### 목표\n",
    "- selenium 라이브러리를 통해서 네이버 지도 맛집 데이터를 수집해보기"
   ]
  },
  {
   "cell_type": "code",
   "execution_count": 27,
   "id": "a332d714-802e-48b6-af3f-a7fc6c5825de",
   "metadata": {},
   "outputs": [
    {
     "name": "stdout",
     "output_type": "stream",
     "text": [
      "필요한 라이브러리 import 완료\n"
     ]
    }
   ],
   "source": [
    "# 라이브러리 불러오기\n",
    "  \n",
    "try :\n",
    "    import os  # 운영체제 관련 작업 (폴더 생성, 삭제 등)\n",
    "except ModuleNotFoundError:\n",
    "    !pip install os\n",
    "    \n",
    "try :\n",
    "    # 페이지 로딩 시간을 부여하는 라이브러리\n",
    "    import time  # 시간 관련 기능 (대기, 지연)\n",
    "except ModuleNotFoundError:\n",
    "    !pip install time \n",
    "    \n",
    "try:\n",
    "    # 컴퓨터용 브라우저\n",
    "    # 컴퓨터용 키보드\n",
    "    # 선택지 지정방식\n",
    "    from selenium import webdriver as wb\n",
    "    from selenium.webdriver.common.keys import Keys\n",
    "    from selenium.webdriver.common.by import By\n",
    "except ModuleNotFoundError:\n",
    "    !pip install selenium\n",
    "    \n",
    "try : \n",
    "    # 반복문 진행 상황을 확인할 수 있는 도구\n",
    "    from tqdm import tqdm\n",
    "except ModuleNotFoundError :\n",
    "    !pip install tqdm\n",
    "\n",
    "try :\n",
    "    # 랭과 열로 이루어진 표와 같은 형태를 다룰 수 있는 라이브러리\n",
    "    import pandas as pd \n",
    "except ModuleNotFoundError :\n",
    "    !pip install pandas\n",
    "\n",
    "print(f'필요한 라이브러리 import 완료')"
   ]
  },
  {
   "cell_type": "code",
   "execution_count": 28,
   "id": "e58b135a-ce1e-4a23-80a6-20d39b56603d",
   "metadata": {},
   "outputs": [],
   "source": [
    "# 정보\n",
    "\n",
    "URL = 'https://map.naver.com/p?c=15.00,0,0,0,dh'\n",
    "\n",
    "# 메인폴더 위치\n",
    "ORIGIN_URL = \"C:\\\\Users\\\\smhrd1\\\\Documents\\\\GitHub\\\\Crawling\\\\Study\"\n",
    "\n",
    "# 지도의 검색창 위치\n",
    "MAP_IMPUT = 'input.input_search'\n",
    "\n",
    "# 지도에서 식당의 이름\n",
    "MAP_NAME = 'TYaxT'\n",
    "\n",
    "# 지도에서 식당의 주소들\n",
    "MAP_ADDRESS_1 = 'LDgIH'\n",
    "MAP_ADDRESS_2 = 'PkgBl'\n",
    "\n",
    "# 지도에서 end를 위한 위치 선택\n",
    "MAP_SCROLL = 'Ryr1F'\n",
    "\n",
    "# 지도에서  다음 페이지의 버튼\n",
    "NEXT_BUTTON = 'a.mBN2s + a.eUTV2 > svg.yUtES' "
   ]
  },
  {
   "cell_type": "code",
   "execution_count": 29,
   "id": "07387ee3-05ef-42b5-9b66-efc3e6ff747f",
   "metadata": {},
   "outputs": [],
   "source": [
    "driver = wb.Chrome()\n",
    "driver.get(URL) \n",
    "time.sleep(3)"
   ]
  },
  {
   "cell_type": "code",
   "execution_count": 30,
   "id": "7d295b6a-08bb-4526-923f-f38792c859b8",
   "metadata": {},
   "outputs": [],
   "source": [
    "map_input = driver.find_element(By.CSS_SELECTOR, MAP_IMPUT)  \n",
    "for i in range(10) :\n",
    "    map_input.send_keys(Keys.BACK_SPACE)\n",
    "map_input.send_keys('순천 맛집')\n",
    "map_input.send_keys(Keys.ENTER)\n",
    "\n",
    "time.sleep(2)   "
   ]
  },
  {
   "cell_type": "code",
   "execution_count": 31,
   "id": "edb8451e-66ef-4222-b956-06f47d0ffaad",
   "metadata": {},
   "outputs": [],
   "source": [
    "origin_get_All_List = driver.find_elements(By.CSS_SELECTOR, MAP_NAME)"
   ]
  },
  {
   "cell_type": "code",
   "execution_count": 32,
   "id": "e0976eae-d5ad-46a9-9454-bbfa048e076b",
   "metadata": {},
   "outputs": [],
   "source": [
    "# iframe 창 전환하는 함수\n",
    "\n",
    "driver.switch_to.frame('searchIframe') # id 값만 "
   ]
  },
  {
   "cell_type": "code",
   "execution_count": 33,
   "id": "e5ed7207-fccc-42bd-9ec7-2377d0344b5c",
   "metadata": {},
   "outputs": [],
   "source": [
    "get_All_List = []\n",
    "get_All_name_List = []\n",
    "\n",
    "def find_name():\n",
    "    get_All_name_List.clear()\n",
    "    get_All_List.clear()\n",
    "\n",
    "    while True:\n",
    "        map_scr = driver.find_element(By.CLASS_NAME, MAP_SCROLL)\n",
    "        origin_len = len(driver.find_elements(By.CSS_SELECTOR, 'li'))\n",
    "\n",
    "        for _ in range(2):  # 두 번 스크롤 내림\n",
    "            map_scr.send_keys(Keys.END)\n",
    "            time.sleep(0.5)\n",
    "\n",
    "        later_len = len(driver.find_elements(By.CSS_SELECTOR, 'li'))\n",
    "\n",
    "        if origin_len == later_len:  # 스크롤 후 변화가 없으면 마지막 페이지\n",
    "            print(\"페이지의 끝인지 검사 중\")\n",
    "            map_scr.send_keys(Keys.END)\n",
    "            time.sleep(1)\n",
    "            check_len = len(driver.find_elements(By.CSS_SELECTOR, 'li'))\n",
    "\n",
    "            if later_len == check_len:\n",
    "                print(\"페이지가 끝났습니다.\")\n",
    "                break\n",
    "            else:\n",
    "                print(\"페이지가 끝나지 않아서 다시 스크롤을 시작합니다.\")\n",
    "\n",
    "    time.sleep(2) \n",
    "    get_All_List.extend(driver.find_elements(By.CLASS_NAME, MAP_NAME))\n",
    " \n",
    "    get_All_name_List.extend([element.text for element in get_All_List])\n",
    " \n"
   ]
  },
  {
   "cell_type": "code",
   "execution_count": 34,
   "id": "b1333073-8924-467e-b23b-745390833280",
   "metadata": {},
   "outputs": [],
   "source": [
    "store_info = [] \n",
    "# 첫 번째 가게를 클릭   \n",
    "store_info = [] \n",
    "# 첫 번째 가게를 클릭   \n",
    "def find_address():\n",
    "    store_info.clear()\n",
    "    for i in tqdm(range(len(get_All_List))):\n",
    "        while True:  # 무한 루프를 돌려서 실패 시 재시도\n",
    "            try:\n",
    "                get_All_List[i].click()\n",
    "                time.sleep(0.5)\n",
    "                \n",
    "                driver.switch_to.default_content()\n",
    "                time.sleep(0.3)\n",
    "                driver.switch_to.frame('entryIframe') \n",
    "                try :\n",
    "                    check = driver.find_element(By.CLASS_NAME, MAP_ADDRESS_1) \n",
    "                except :\n",
    "                    check = driver.find_element(By.CLASS_NAME, MAP_ADDRESS_2) \n",
    "                store_info.append(check.text)\n",
    "                \n",
    "                driver.switch_to.default_content()\n",
    "                time.sleep(0.3)\n",
    "                driver.switch_to.frame('searchIframe')\n",
    "                \n",
    "                time.sleep(0.8)\n",
    "                break  # 클릭 성공하면 루프 종료\n",
    "            except Exception as e:\n",
    "                driver.switch_to.default_content()\n",
    "                driver.switch_to.frame('searchIframe')\n",
    "                print(f\"Error occurred: {e}, 1초 후 재시도: {i}\")\n",
    "                time.sleep(1)  # 실패 시 1초 후 재시도\n",
    "                continue  # 실패 시 다시 시도"
   ]
  },
  {
   "cell_type": "code",
   "execution_count": 35,
   "id": "0fe439be-fc4d-424c-87ac-6269a7d583a5",
   "metadata": {},
   "outputs": [
    {
     "data": {
      "text/plain": [
       "[]"
      ]
     },
     "execution_count": 35,
     "metadata": {},
     "output_type": "execute_result"
    }
   ],
   "source": [
    "address_list = [i for i in store_info] \n",
    "address_list"
   ]
  },
  {
   "cell_type": "code",
   "execution_count": 36,
   "id": "e3064149-b866-4452-af56-a548d5c0a504",
   "metadata": {},
   "outputs": [],
   "source": [
    "def next_page() :\n",
    "    try :\n",
    "        origin_page_num = driver.find_element(By.CLASS_NAME, 'mBN2s.qxokY')\n",
    "        find_the_button = driver.find_element(By.CSS_SELECTOR, NEXT_BUTTON) \n",
    "        find_the_button.click()\n",
    "        time.sleep(2) \n",
    "        later_page_num = driver.find_element(By.CLASS_NAME, 'mBN2s.qxokY')\n",
    "        if(origin_page_num == later_page_num) :\n",
    "            return False\n",
    "        else :\n",
    "            return True\n",
    "    except :\n",
    "        return False  "
   ]
  },
  {
   "cell_type": "code",
   "execution_count": null,
   "id": "b24a1f16-57d2-4e11-8979-fb89b5a5c87e",
   "metadata": {},
   "outputs": [
    {
     "name": "stdout",
     "output_type": "stream",
     "text": [
      "페이지의 끝인지 검사 중\n",
      "페이지가 끝났습니다.\n"
     ]
    },
    {
     "name": "stderr",
     "output_type": "stream",
     "text": [
      "100%|██████████████████████████████████████████████████████████████████████████████████| 76/76 [02:43<00:00,  2.16s/it]\n"
     ]
    },
    {
     "name": "stdout",
     "output_type": "stream",
     "text": [
      "페이지의 끝인지 검사 중\n",
      "페이지가 끝났습니다.\n"
     ]
    },
    {
     "name": "stderr",
     "output_type": "stream",
     "text": [
      "100%|██████████████████████████████████████████████████████████████████████████████████| 76/76 [02:47<00:00,  2.20s/it]\n"
     ]
    },
    {
     "name": "stdout",
     "output_type": "stream",
     "text": [
      "페이지의 끝인지 검사 중\n",
      "페이지가 끝났습니다.\n"
     ]
    },
    {
     "name": "stderr",
     "output_type": "stream",
     "text": [
      "100%|██████████████████████████████████████████████████████████████████████████████████| 70/70 [02:36<00:00,  2.24s/it]\n"
     ]
    },
    {
     "name": "stdout",
     "output_type": "stream",
     "text": [
      "페이지의 끝인지 검사 중\n",
      "페이지가 끝났습니다.\n"
     ]
    },
    {
     "name": "stderr",
     "output_type": "stream",
     "text": [
      " 67%|███████████████████████████████████████████████████████                           | 47/70 [01:46<00:53,  2.33s/it]"
     ]
    }
   ],
   "source": [
    "result_name = []\n",
    "result_address = []\n",
    "\n",
    "while(True) :\n",
    "    find_name() \n",
    "    find_address()\n",
    "\n",
    "    for i in get_All_List :\n",
    "        result_name.append(i)\n",
    "    for i in store_info :\n",
    "         result_address.append(i)\n",
    "\n",
    "    page_check = next_page()\n",
    "    if not page_check :\n",
    "        break   "
   ]
  },
  {
   "cell_type": "code",
   "execution_count": null,
   "id": "4d004cfb-c21d-421d-9b47-b9548480024b",
   "metadata": {},
   "outputs": [],
   "source": [
    "print(\"식당 수 : \", len(result_name))\n",
    "print(\"주소 수 : \", len(result_address))"
   ]
  },
  {
   "cell_type": "code",
   "execution_count": null,
   "id": "a80d520c-e81f-4f1e-b193-24ce5af43608",
   "metadata": {},
   "outputs": [],
   "source": [
    "df = pd.DataFrame({'식당이름' : result_name, '식당주소' : result_address}) \n",
    "df = df.reset_index(drop=True)  # 인덱스를 0부터 다시 설정\n",
    "df.index = df.index + 1  # 인덱스를 1부터 시작하도록 변경\n",
    "df"
   ]
  },
  {
   "cell_type": "code",
   "execution_count": null,
   "id": "a72173c1-f438-4935-bd63-1d77ed518ccd",
   "metadata": {},
   "outputs": [],
   "source": [
    "df.to_csv('순천시_맛집_목록.csv', encoding = 'utf-8')"
   ]
  },
  {
   "cell_type": "code",
   "execution_count": null,
   "id": "ead3f328-2242-4711-8734-34b6a80a82ec",
   "metadata": {},
   "outputs": [],
   "source": []
  },
  {
   "cell_type": "code",
   "execution_count": null,
   "id": "baa67695-9987-4cfb-b20d-ce4b0ed0db9b",
   "metadata": {},
   "outputs": [],
   "source": []
  },
  {
   "cell_type": "code",
   "execution_count": null,
   "id": "d7681bfc-db02-4dc5-b78f-2873430b5fe8",
   "metadata": {},
   "outputs": [],
   "source": []
  },
  {
   "cell_type": "code",
   "execution_count": null,
   "id": "44e88c86-e6e4-43b5-92f6-798df33152b7",
   "metadata": {},
   "outputs": [],
   "source": []
  }
 ],
 "metadata": {
  "kernelspec": {
   "display_name": "Python 3 (ipykernel)",
   "language": "python",
   "name": "python3"
  },
  "language_info": {
   "codemirror_mode": {
    "name": "ipython",
    "version": 3
   },
   "file_extension": ".py",
   "mimetype": "text/x-python",
   "name": "python",
   "nbconvert_exporter": "python",
   "pygments_lexer": "ipython3",
   "version": "3.13.2"
  }
 },
 "nbformat": 4,
 "nbformat_minor": 5
}
