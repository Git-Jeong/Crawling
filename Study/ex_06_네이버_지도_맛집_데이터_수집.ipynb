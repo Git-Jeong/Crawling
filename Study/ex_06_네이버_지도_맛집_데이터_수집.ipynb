{
 "cells": [
  {
   "cell_type": "markdown",
   "id": "36e9f2ec-1937-4a23-a982-424973bb43c8",
   "metadata": {},
   "source": [
    "### 목표\n",
    "- selenium 라이브러리를 통해서 네이버 지도 맛집 데이터를 수집해보기"
   ]
  },
  {
   "cell_type": "code",
   "execution_count": 352,
   "id": "a332d714-802e-48b6-af3f-a7fc6c5825de",
   "metadata": {},
   "outputs": [
    {
     "name": "stdout",
     "output_type": "stream",
     "text": [
      "필요한 라이브러리 import 완료\n"
     ]
    }
   ],
   "source": [
    "# 라이브러리 불러오기\n",
    "  \n",
    "try :\n",
    "    import os  # 운영체제 관련 작업 (폴더 생성, 삭제 등)\n",
    "except ModuleNotFoundError:\n",
    "    !pip install os\n",
    "    \n",
    "try :\n",
    "    # 페이지 로딩 시간을 부여하는 라이브러리\n",
    "    import time  # 시간 관련 기능 (대기, 지연)\n",
    "except ModuleNotFoundError:\n",
    "    !pip install time \n",
    "    \n",
    "try:\n",
    "    # 컴퓨터용 브라우저\n",
    "    # 컴퓨터용 키보드\n",
    "    # 선택지 지정방식\n",
    "    from selenium import webdriver as wb\n",
    "    from selenium.webdriver.common.keys import Keys\n",
    "    from selenium.webdriver.common.by import By\n",
    "except ModuleNotFoundError:\n",
    "    !pip install selenium\n",
    "    \n",
    "try : \n",
    "    # 반복문 진행 상황을 확인할 수 있는 도구\n",
    "    from tqdm import tqdm\n",
    "except ModuleNotFoundError :\n",
    "    !pip install tqdm\n",
    "\n",
    "try :\n",
    "    # 랭과 열로 이루어진 표와 같은 형태를 다룰 수 있는 라이브러리\n",
    "    import pandas as pd \n",
    "except ModuleNotFoundError :\n",
    "    !pip install pandas\n",
    "\n",
    "print(f'필요한 라이브러리 import 완료')"
   ]
  },
  {
   "cell_type": "code",
   "execution_count": 353,
   "id": "e58b135a-ce1e-4a23-80a6-20d39b56603d",
   "metadata": {},
   "outputs": [],
   "source": [
    "# 정보\n",
    "\n",
    "URL = 'https://map.naver.com/p?c=15.00,0,0,0,dh'\n",
    "\n",
    "# 메인폴더 위치\n",
    "ORIGIN_URL = \"C:\\\\Users\\\\smhrd1\\\\Documents\\\\GitHub\\\\Crawling\\\\Study\"\n",
    "\n",
    "# 지도의 검색창 위치\n",
    "MAP_IMPUT = 'input.input_search'\n",
    "\n",
    "# 지도에서 식당의 이름\n",
    "MAP_NAME = 'TYaxT'\n",
    "\n",
    "# 지도에서 end를 위한 위치 선택\n",
    "MAP_SCROLL = 'Ryr1F'\n",
    "\n"
   ]
  },
  {
   "cell_type": "code",
   "execution_count": 354,
   "id": "07387ee3-05ef-42b5-9b66-efc3e6ff747f",
   "metadata": {},
   "outputs": [],
   "source": [
    "driver = wb.Chrome()\n",
    "driver.get(URL) \n",
    "time.sleep(3)"
   ]
  },
  {
   "cell_type": "code",
   "execution_count": 355,
   "id": "7d295b6a-08bb-4526-923f-f38792c859b8",
   "metadata": {},
   "outputs": [],
   "source": [
    "map_input = driver.find_element(By.CSS_SELECTOR, MAP_IMPUT)  \n",
    "for i in range(10) :\n",
    "    map_input.send_keys(Keys.BACK_SPACE)\n",
    "map_input.send_keys('순천 맛집')\n",
    "map_input.send_keys(Keys.ENTER)\n",
    "\n",
    "time.sleep(2)   "
   ]
  },
  {
   "cell_type": "code",
   "execution_count": 356,
   "id": "edb8451e-66ef-4222-b956-06f47d0ffaad",
   "metadata": {},
   "outputs": [],
   "source": [
    "origin_get_All_List = driver.find_elements(By.CSS_SELECTOR, MAP_NAME)"
   ]
  },
  {
   "cell_type": "code",
   "execution_count": 357,
   "id": "e0976eae-d5ad-46a9-9454-bbfa048e076b",
   "metadata": {},
   "outputs": [],
   "source": [
    "# iframe 창 전환하는 함수\n",
    "\n",
    "driver.switch_to.frame('searchIframe') # id 값만 "
   ]
  },
  {
   "cell_type": "code",
   "execution_count": 358,
   "id": "e5ed7207-fccc-42bd-9ec7-2377d0344b5c",
   "metadata": {},
   "outputs": [
    {
     "name": "stdout",
     "output_type": "stream",
     "text": [
      "페이지의 끝은지 검사 중\n",
      "66\n",
      "페이지가 끝났습니다. \n"
     ]
    }
   ],
   "source": [
    "while(True) :\n",
    "    map_scr = driver.find_element(By.CLASS_NAME, MAP_SCROLL) \n",
    "    origin_len = len(driver.find_elements(By.CSS_SELECTOR, 'li'))\n",
    "    map_scr.send_keys(Keys.END) \n",
    "    time.sleep(0.5)\n",
    "    map_scr.send_keys(Keys.END) \n",
    "    time.sleep(0.5)\n",
    "    later_len = len(driver.find_elements(By.CSS_SELECTOR, 'li'))\n",
    "    if(origin_len == later_len) :\n",
    "        print(\"페이지의 끝은지 검사 중\") \n",
    "        map_scr.send_keys(Keys.END)\n",
    "        print(len(driver.find_elements(By.CSS_SELECTOR, 'li')))\n",
    "        time.sleep(1) \n",
    "        check_len = len(driver.find_elements(By.CSS_SELECTOR, 'li'))\n",
    "        if(later_len == check_len) :\n",
    "            print(\"페이지가 끝났습니다. \")\n",
    "            break\n",
    "        else :\n",
    "            print(\"페이지가 끝나지 않아서 다시 스크롤을 시작합니다. \")"
   ]
  },
  {
   "cell_type": "code",
   "execution_count": 359,
   "id": "4b06eef6-ded3-4865-9ade-17e755cbb57e",
   "metadata": {},
   "outputs": [],
   "source": [
    "get_All_List = driver.find_elements(By.CLASS_NAME, MAP_NAME)"
   ]
  },
  {
   "cell_type": "code",
   "execution_count": 360,
   "id": "a870c9c3-7fc8-47b8-af2d-21d0e0ebe567",
   "metadata": {},
   "outputs": [
    {
     "name": "stdout",
     "output_type": "stream",
     "text": [
      "66\n"
     ]
    },
    {
     "data": {
      "text/plain": [
       "['유유샤브 순천점',\n",
       " '잉글우드',\n",
       " '밥꽃이야기 들마루',\n",
       " '대원식당',\n",
       " '거목순대국밥',\n",
       " '덕수파스타 순천 직영점',\n",
       " '참조은시골집 한정식',\n",
       " '도원경',\n",
       " '순천만전라도밥상',\n",
       " '순천 한정식 명궁관',\n",
       " '별미정 순천조례점',\n",
       " '순천 건봉국밥',\n",
       " '하남돼지집 순천신대점',\n",
       " '최군네 숯불구이',\n",
       " '조훈모과자점 죽도봉점',\n",
       " '희야 소머리국밥 설렁탕 도가니탕',\n",
       " '힐링포차',\n",
       " '아삐에노',\n",
       " '꽃잎 한정식',\n",
       " '모토이시 순천점',\n",
       " '에스가든청담 브런치가든 순천점',\n",
       " '꾸석지돌판한우 순천조례점',\n",
       " '벽오동',\n",
       " '어나더키친 순천점',\n",
       " '풍미통닭',\n",
       " '신화정',\n",
       " '최대감벌교꼬막',\n",
       " '서식',\n",
       " '밀림슈퍼',\n",
       " '카페집',\n",
       " '육지향 정육식당 신대점',\n",
       " '오리명가',\n",
       " '화월당',\n",
       " '구이대장쪽갈비 신대점',\n",
       " '순천갈대장어 연향점',\n",
       " '남흥회관 순천시청본점',\n",
       " '금빈회관',\n",
       " '봉화식당',\n",
       " '향토정',\n",
       " '한우식껍',\n",
       " '주복',\n",
       " '하고스',\n",
       " '힉',\n",
       " '히바치텐',\n",
       " '육안 순천고기집',\n",
       " '고데레',\n",
       " '순천 산들담은 순천본점',\n",
       " '수련산방',\n",
       " '여수갓육고 순천본점',\n",
       " '태경원조동경낙지',\n",
       " '나루',\n",
       " '홍성준양푼갈비',\n",
       " '옛날할머니순대국밥',\n",
       " '양지쌈밥',\n",
       " '괴목국밥',\n",
       " '향촌식당',\n",
       " '지리산순한한우명품관 본점',\n",
       " '순천만정문식당',\n",
       " '제일식당',\n",
       " '광춘원',\n",
       " '참이맛감자탕&순대국 순천법원점',\n",
       " '슬로우프로젝트 즐거운식탁',\n",
       " '순천만 일번가',\n",
       " '육사 순희집밥',\n",
       " '코우텐동',\n",
       " '바바베이커스']"
      ]
     },
     "execution_count": 360,
     "metadata": {},
     "output_type": "execute_result"
    }
   ],
   "source": [
    "name_list = [i.text for i in get_All_List]\n",
    "print(len(name_list))\n",
    "name_list"
   ]
  },
  {
   "cell_type": "code",
   "execution_count": 362,
   "id": "b1333073-8924-467e-b23b-745390833280",
   "metadata": {},
   "outputs": [
    {
     "name": "stderr",
     "output_type": "stream",
     "text": [
      "  0%|                                                                                           | 0/66 [00:00<?, ?it/s]"
     ]
    },
    {
     "name": "stdout",
     "output_type": "stream",
     "text": [
      "전남 순천시 왕지4길 10-16 1층\n"
     ]
    },
    {
     "name": "stderr",
     "output_type": "stream",
     "text": [
      "  2%|█▎                                                                                 | 1/66 [00:01<01:56,  1.80s/it]"
     ]
    },
    {
     "name": "stdout",
     "output_type": "stream",
     "text": [
      "전남 순천시 해룡면 남가1길 2 잉글우드\n"
     ]
    },
    {
     "name": "stderr",
     "output_type": "stream",
     "text": [
      "  3%|██▌                                                                                | 2/66 [00:03<01:55,  1.80s/it]"
     ]
    },
    {
     "name": "stdout",
     "output_type": "stream",
     "text": [
      "전남 순천시 순천만길 496 밥꽃이야기 들마루\n"
     ]
    },
    {
     "name": "stderr",
     "output_type": "stream",
     "text": [
      "  5%|███▊                                                                               | 3/66 [00:05<01:49,  1.74s/it]"
     ]
    },
    {
     "name": "stdout",
     "output_type": "stream",
     "text": [
      "전남 순천시 장천2길 30-29 대원식당\n"
     ]
    },
    {
     "name": "stderr",
     "output_type": "stream",
     "text": [
      "  6%|█████                                                                              | 4/66 [00:06<01:46,  1.72s/it]"
     ]
    },
    {
     "name": "stdout",
     "output_type": "stream",
     "text": [
      "전남 순천시 장평로 50\n"
     ]
    },
    {
     "name": "stderr",
     "output_type": "stream",
     "text": [
      "  8%|██████▎                                                                            | 5/66 [00:08<01:43,  1.69s/it]"
     ]
    },
    {
     "name": "stdout",
     "output_type": "stream",
     "text": [
      "전남 순천시 왕지2길 13-12 1층\n"
     ]
    },
    {
     "name": "stderr",
     "output_type": "stream",
     "text": [
      "  9%|███████▌                                                                           | 6/66 [00:10<01:42,  1.71s/it]"
     ]
    },
    {
     "name": "stdout",
     "output_type": "stream",
     "text": [
      "전남 순천시 해룡면 해룡로 579 참조은시골집\n"
     ]
    },
    {
     "name": "stderr",
     "output_type": "stream",
     "text": [
      " 11%|████████▊                                                                          | 7/66 [00:12<01:40,  1.70s/it]"
     ]
    },
    {
     "name": "stdout",
     "output_type": "stream",
     "text": [
      "전남 순천시 순천만길 309 1층 도원경\n"
     ]
    },
    {
     "name": "stderr",
     "output_type": "stream",
     "text": [
      " 12%|██████████                                                                         | 8/66 [00:13<01:38,  1.69s/it]"
     ]
    },
    {
     "name": "stdout",
     "output_type": "stream",
     "text": [
      "전남 순천시 순천만길 496-1\n"
     ]
    },
    {
     "name": "stderr",
     "output_type": "stream",
     "text": [
      " 14%|███████████▎                                                                       | 9/66 [00:15<01:36,  1.70s/it]"
     ]
    },
    {
     "name": "stdout",
     "output_type": "stream",
     "text": [
      "전남 순천시 중앙2길 7\n"
     ]
    },
    {
     "name": "stderr",
     "output_type": "stream",
     "text": [
      " 15%|████████████▍                                                                     | 10/66 [00:17<01:35,  1.70s/it]"
     ]
    },
    {
     "name": "stdout",
     "output_type": "stream",
     "text": [
      "전남 순천시 조례2길 40 별미정\n"
     ]
    },
    {
     "name": "stderr",
     "output_type": "stream",
     "text": [
      " 17%|█████████████▋                                                                    | 11/66 [00:18<01:35,  1.74s/it]"
     ]
    },
    {
     "name": "stdout",
     "output_type": "stream",
     "text": [
      "전남 순천시 장평로 65 1층\n"
     ]
    },
    {
     "name": "stderr",
     "output_type": "stream",
     "text": [
      " 18%|██████████████▉                                                                   | 12/66 [00:20<01:34,  1.74s/it]"
     ]
    },
    {
     "name": "stdout",
     "output_type": "stream",
     "text": [
      "전남 순천시 해룡면 매안로 109 1층 102호\n"
     ]
    },
    {
     "name": "stderr",
     "output_type": "stream",
     "text": [
      " 20%|████████████████▏                                                                 | 13/66 [00:22<01:32,  1.75s/it]"
     ]
    },
    {
     "name": "stdout",
     "output_type": "stream",
     "text": [
      "전남 순천시 팔마4길 37 1층\n"
     ]
    },
    {
     "name": "stderr",
     "output_type": "stream",
     "text": [
      " 21%|█████████████████▍                                                                | 14/66 [00:24<01:30,  1.75s/it]"
     ]
    },
    {
     "name": "stdout",
     "output_type": "stream",
     "text": [
      "전남 순천시 봉화로 46 조훈모과자점\n"
     ]
    },
    {
     "name": "stderr",
     "output_type": "stream",
     "text": [
      " 21%|█████████████████▍                                                                | 14/66 [00:25<01:36,  1.85s/it]\n"
     ]
    },
    {
     "ename": "KeyboardInterrupt",
     "evalue": "",
     "output_type": "error",
     "traceback": [
      "\u001b[1;31m---------------------------------------------------------------------------\u001b[0m",
      "\u001b[1;31mKeyboardInterrupt\u001b[0m                         Traceback (most recent call last)",
      "Cell \u001b[1;32mIn[362], line 18\u001b[0m\n\u001b[0;32m     15\u001b[0m driver\u001b[38;5;241m.\u001b[39mswitch_to\u001b[38;5;241m.\u001b[39mdefault_content()\n\u001b[0;32m     16\u001b[0m driver\u001b[38;5;241m.\u001b[39mswitch_to\u001b[38;5;241m.\u001b[39mframe(\u001b[38;5;124m'\u001b[39m\u001b[38;5;124msearchIframe\u001b[39m\u001b[38;5;124m'\u001b[39m)\n\u001b[1;32m---> 18\u001b[0m \u001b[43mtime\u001b[49m\u001b[38;5;241;43m.\u001b[39;49m\u001b[43msleep\u001b[49m\u001b[43m(\u001b[49m\u001b[38;5;241;43m0.5\u001b[39;49m\u001b[43m)\u001b[49m\n",
      "\u001b[1;31mKeyboardInterrupt\u001b[0m: "
     ]
    }
   ],
   "source": [
    "store_info = []\n",
    "\n",
    "# 첫 번째 가게를 클릭  \n",
    "for i in  tqdm( range(len(name_list))) :\n",
    "    get_All_List[i].click()\n",
    "    \n",
    "    time.sleep(1)\n",
    "    \n",
    "    driver.switch_to.default_content()\n",
    "    driver.switch_to.frame('entryIframe')\n",
    "    check = driver.find_element(By.CLASS_NAME, 'LDgIH') \n",
    "    store_info.append(check.text)\n",
    "    \n",
    "    driver.switch_to.default_content()\n",
    "    driver.switch_to.frame('searchIframe')\n",
    "    \n",
    "    time.sleep(0.2)"
   ]
  },
  {
   "cell_type": "code",
   "execution_count": null,
   "id": "0fe439be-fc4d-424c-87ac-6269a7d583a5",
   "metadata": {},
   "outputs": [],
   "source": [
    "address_list = [i.text for i in store_info] \n",
    "address_list"
   ]
  },
  {
   "cell_type": "code",
   "execution_count": null,
   "id": "b24a1f16-57d2-4e11-8979-fb89b5a5c87e",
   "metadata": {},
   "outputs": [],
   "source": [
    "driver.close()"
   ]
  },
  {
   "cell_type": "code",
   "execution_count": null,
   "id": "5b8be157-a937-4064-acd4-341645b3b874",
   "metadata": {},
   "outputs": [],
   "source": []
  }
 ],
 "metadata": {
  "kernelspec": {
   "display_name": "Python 3 (ipykernel)",
   "language": "python",
   "name": "python3"
  },
  "language_info": {
   "codemirror_mode": {
    "name": "ipython",
    "version": 3
   },
   "file_extension": ".py",
   "mimetype": "text/x-python",
   "name": "python",
   "nbconvert_exporter": "python",
   "pygments_lexer": "ipython3",
   "version": "3.13.2"
  }
 },
 "nbformat": 4,
 "nbformat_minor": 5
}
