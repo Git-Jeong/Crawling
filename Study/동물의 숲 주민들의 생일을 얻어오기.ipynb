{
 "cells": [
  {
   "cell_type": "code",
   "execution_count": 1,
   "id": "48e11441-5836-4f1e-a031-f05bd602ad2c",
   "metadata": {},
   "outputs": [],
   "source": [
    "# 라이브러리 불러오기\n",
    "\n",
    "while(True) :\n",
    "    try :\n",
    "        import os  # 운영체제 관련 작업 (폴더 생성, 삭제 등)\n",
    "        break\n",
    "    except ModuleNotFoundError:\n",
    "        !pip install --break-system-packages  os\n",
    "    \n",
    "while(True) :\n",
    "    try :\n",
    "        # 페이지 로딩 시간을 부여하는 라이브러리\n",
    "        import time  # 시간 관련 기능 (대기, 지연)\n",
    "        break\n",
    "    except ModuleNotFoundError:\n",
    "        !pip install --break-system-packages  time \n",
    "    \n",
    "while(True) :\n",
    "    try:\n",
    "        # 컴퓨터용 브라우저\n",
    "        # 컴퓨터용 키보드\n",
    "        # 선택지 지정방식\n",
    "        from selenium import webdriver as wb\n",
    "        from selenium.webdriver.common.keys import Keys\n",
    "        from selenium.webdriver.common.by import By \n",
    "        from selenium.webdriver.chrome.service import Service\n",
    "        from selenium.webdriver.chrome.options import Options\n",
    "        break\n",
    "    except ModuleNotFoundError:\n",
    "        !pip install --break-system-packages  selenium\n",
    "\n",
    "while(True) :\n",
    "    try :\n",
    "        # 랭과 열로 이루어진 표와 같은 형태를 다룰 수 있는 라이브러리\n",
    "        import pandas as pd \n",
    "        break\n",
    "    except ModuleNotFoundError :\n",
    "        !pip install --break-system-packages  pandas\n",
    "while(True) :\n",
    "    try : \n",
    "        from collections import Counter \n",
    "        break\n",
    "    except :\n",
    "        !pip install --break-system-packages  collections \n",
    "        "
   ]
  },
  {
   "cell_type": "code",
   "execution_count": 14,
   "id": "889dfa09-a53e-4eef-bd23-cc1cf6b2fee7",
   "metadata": {},
   "outputs": [],
   "source": [
    "# 동물의 숲 url \n",
    "url = 'https://www.nintendo.com/kr/switch/acbaa/namelist/m01.html'\n",
    "\n",
    "# 브라우저 \n",
    "driver = None\n",
    "\n",
    "# 생일의 월 CLASS\n",
    "birthday_month_button_class = 'ul.p-namelist-sort > li'\n",
    "\n",
    "# 캐릭터의 이미지, 이름\n",
    "character_class = 'ul.p-namelist-chara > li > img'\n",
    "\n",
    "# 각 월의 버튼 위치를 담아둘 공간\n",
    "month_button_list = []\n",
    "\n",
    "# 모든 사진의 정보를 담아둘 공간\n",
    "get_img_list = []"
   ]
  },
  {
   "cell_type": "code",
   "execution_count": 3,
   "id": "e754b06c-9f12-403a-ab3a-6ce2815bc311",
   "metadata": {},
   "outputs": [],
   "source": [
    "def web_start() :\n",
    "    global driver\n",
    "    driver = wb.Chrome()\n",
    "    driver.get(url) "
   ]
  },
  {
   "cell_type": "code",
   "execution_count": 11,
   "id": "1597b70c-0009-4c22-b38b-a509834d9dcc",
   "metadata": {},
   "outputs": [],
   "source": [
    "def get_all_month() :\n",
    "    global month_button_list\n",
    "    # 각 월의 버튼 위치를 담아둘 공간\n",
    "    temp = find_elements_css(birthday_month_button_class)\n",
    "    for i in temp :\n",
    "        month_button_list.append(i)"
   ]
  },
  {
   "cell_type": "code",
   "execution_count": null,
   "id": "ba63160c-5a5c-4a60-a60a-c9f171497c29",
   "metadata": {},
   "outputs": [],
   "source": [
    "def get_all_img() :\n",
    "    temp = find_elements_css(character_class)   \n",
    "    get_img_list = [temp.get_attribtte('src')]\n",
    "    get_"
   ]
  },
  {
   "cell_type": "code",
   "execution_count": 12,
   "id": "aede4d0a-280e-491e-8f62-01e5f52fe269",
   "metadata": {},
   "outputs": [],
   "source": [
    "def start_get_all_img() :\n",
    "    get_all_month()\n",
    "    get_all_img"
   ]
  },
  {
   "cell_type": "code",
   "execution_count": 5,
   "id": "10df526f-9707-461c-82ea-db1774163686",
   "metadata": {},
   "outputs": [],
   "source": [
    "def find_elements_css(input) :\n",
    "    try :\n",
    "        result = driver.find_elements(By.CSS_SELECTOR, input)\n",
    "        return result\n",
    "    except :\n",
    "        return None"
   ]
  },
  {
   "cell_type": "code",
   "execution_count": 6,
   "id": "a134d8e4-08cb-4d4d-b346-43a60d342f31",
   "metadata": {},
   "outputs": [],
   "source": [
    "web_start()"
   ]
  },
  {
   "cell_type": "code",
   "execution_count": 7,
   "id": "cde83c07-4f56-4500-b0e1-8dc56603cc46",
   "metadata": {},
   "outputs": [],
   "source": [
    "start_get_all_img()"
   ]
  },
  {
   "cell_type": "code",
   "execution_count": null,
   "id": "c036b2dc-854b-4226-b2f6-a40ffa2ba603",
   "metadata": {},
   "outputs": [],
   "source": []
  },
  {
   "cell_type": "code",
   "execution_count": null,
   "id": "a327cd2e-5e18-4cff-bc6a-6d1cfee4f53e",
   "metadata": {},
   "outputs": [],
   "source": []
  },
  {
   "cell_type": "code",
   "execution_count": null,
   "id": "5ae9e45c-1c81-4cd8-bc8a-a875fdda80f4",
   "metadata": {},
   "outputs": [],
   "source": []
  },
  {
   "cell_type": "code",
   "execution_count": null,
   "id": "ce46e1fe-6fe7-4dfb-9b33-f4d547bdf886",
   "metadata": {},
   "outputs": [],
   "source": []
  },
  {
   "cell_type": "code",
   "execution_count": null,
   "id": "c956730d-54ac-42d1-9689-c71ec6a5cb59",
   "metadata": {},
   "outputs": [],
   "source": []
  },
  {
   "cell_type": "code",
   "execution_count": null,
   "id": "146f7832-5507-4c41-ad60-cc846125b6de",
   "metadata": {},
   "outputs": [],
   "source": []
  },
  {
   "cell_type": "code",
   "execution_count": null,
   "id": "db8ce7cd-793a-4c43-a256-248957a0c314",
   "metadata": {},
   "outputs": [],
   "source": []
  },
  {
   "cell_type": "code",
   "execution_count": null,
   "id": "9eb70977-d1dd-48a1-a5ef-798cbe54ea41",
   "metadata": {},
   "outputs": [],
   "source": []
  }
 ],
 "metadata": {
  "kernelspec": {
   "display_name": "Python 3 (ipykernel)",
   "language": "python",
   "name": "python3"
  },
  "language_info": {
   "codemirror_mode": {
    "name": "ipython",
    "version": 3
   },
   "file_extension": ".py",
   "mimetype": "text/x-python",
   "name": "python",
   "nbconvert_exporter": "python",
   "pygments_lexer": "ipython3",
   "version": "3.13.2"
  }
 },
 "nbformat": 4,
 "nbformat_minor": 5
}
