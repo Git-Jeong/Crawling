{
 "cells": [
  {
   "cell_type": "markdown",
   "id": "11b63808-764e-49bf-a720-eca5c7eabaae",
   "metadata": {},
   "source": [
    "### 포켓몬 이미지 수집을 위한 파이썬 코드\n",
    "- 웹 크롤링을 통한 이미지 파일의 수집\n",
    "- 폴더 생성\n",
    "- 이미지 링크 수집 후 다운로드 자동화"
   ]
  },
  {
   "cell_type": "code",
   "execution_count": 173,
   "id": "c6afb269-6302-4c36-afec-91eec6d1aa59",
   "metadata": {},
   "outputs": [],
   "source": [
    "# 필요한 라이브러리 import\n",
    "\n",
    "import os  # 운영체제 관련 작업 (폴더 생성, 삭제 등)\n",
    "import time  # 시간 관련 기능 (대기, 지연)\n",
    "\n",
    "try:\n",
    "    from selenium import webdriver as wb\n",
    "    from selenium.webdriver.common.keys import Keys\n",
    "    from selenium.webdriver.common.by import By\n",
    "except ModuleNotFoundError:\n",
    "    !pip install selenium"
   ]
  },
  {
   "cell_type": "code",
   "execution_count": 174,
   "id": "db76d313-104e-44bb-a6ab-7ce2c4b38e6a",
   "metadata": {},
   "outputs": [],
   "source": [
    "# 필요한 것들 정리\n",
    "\n",
    "# 포켓몬 이미지 파일의 위치\n",
    "POKEMON_URL = 'https://www.pokemonkorea.co.kr/pokedex#pokedex_1'\n",
    "\n",
    "# 메인폴더 위치\n",
    "ORIGIN_URL = \"C:\\\\Users\\\\smhrd1\\\\Documents\\\\GitHub\\\\Crawling\\\\Study\"\n",
    "\n",
    "# 생성할 폴더의 이름\n",
    "MKDIR_NAME = 'pokemon'\n",
    "\n",
    "# 1,225개?의 이미지가 나올 것\n",
    "# class = 'img-fluid' 인 img를 크롤링\n",
    "TARGET_IMG_CLASS = 'img-fluid'\n",
    "TARGET_NAME_CLASS = 'div.bx-txt > h3'"
   ]
  },
  {
   "cell_type": "code",
   "execution_count": 175,
   "id": "8801e802-db87-4e95-9dd3-69cd7892d083",
   "metadata": {},
   "outputs": [
    {
     "name": "stdout",
     "output_type": "stream",
     "text": [
      "현재 위치 : C:\\Users\\smhrd1\\Documents\\GitHub\\Crawling\\Study\n",
      "메인 폴더가 이미 존재합니다.\n",
      "pokemon폴더로 이동합니다.\n",
      "현재 위치 : C:\\Users\\smhrd1\\Documents\\GitHub\\Crawling\\Study\\pokemon\n",
      "4 폴더를 생성했습니다.\n",
      "4 폴더로 이동합니다.\n",
      "현재 위치 : C:\\Users\\smhrd1\\Documents\\GitHub\\Crawling\\Study\\pokemon\\4\n"
     ]
    }
   ],
   "source": [
    "os.chdir(ORIGIN_URL)\n",
    "\n",
    "print(f'현재 위치 : {os.getcwd()}')\n",
    "\n",
    "try :\n",
    "    os.mkdir(MKDIR_NAME) \n",
    "    print(f'{MKDIR_NAME}폴더를 생성했습니다.')\n",
    "except FileExistsError:\n",
    "    print(\"메인 폴더가 이미 존재합니다.\") \n",
    "except :\n",
    "    print(\"폴더 생성 에러\")\n",
    " \n",
    "try : \n",
    "    os.chdir(MKDIR_NAME)\n",
    "    print(f'{MKDIR_NAME}폴더로 이동합니다.')\n",
    "except NameError :\n",
    "    print('이동할 폴더가 없습니다.')\n",
    "\n",
    "print(f'현재 위치 : {os.getcwd()}')\n",
    "\n",
    "index = 1\n",
    "while(True):\n",
    "    index_str = str(index)  # 정수를 문자열로 변환\n",
    "    if not os.path.isdir(index_str):\n",
    "        os.mkdir(index_str)\n",
    "        print(f'{index_str} 폴더를 생성했습니다.')\n",
    "        break\n",
    "    else:\n",
    "        index += 1\n",
    "\n",
    "try:\n",
    "    os.chdir(index_str)\n",
    "    print(f'{index_str} 폴더로 이동합니다.')\n",
    "except OSError:\n",
    "    print('이동할 폴더가 없습니다.')\n",
    "\n",
    "print(f'현재 위치 : {os.getcwd()}')"
   ]
  },
  {
   "cell_type": "code",
   "execution_count": 176,
   "id": "84c181a1-1d1c-4f51-96c3-dbbe892f456a",
   "metadata": {},
   "outputs": [],
   "source": [
    "# 크롬 실행\n",
    "driver = wb.Edge()\n",
    "driver.get(POKEMON_URL)\n",
    "time.sleep(3)"
   ]
  },
  {
   "cell_type": "code",
   "execution_count": 177,
   "id": "0ac6229c-dcf6-4554-89a9-a639bd3dcb2b",
   "metadata": {},
   "outputs": [
    {
     "name": "stdout",
     "output_type": "stream",
     "text": [
      "페이지가 끝났는지 검사 중... \n",
      "페이지가 끝나지 않았음\n",
      "페이지가 끝났는지 검사 중... \n",
      "페이지가 끝나서 반복을 종료합니다.\n"
     ]
    }
   ],
   "source": [
    "# selenium 을 통해 스크롤을 내릴 수 없음. 그럼 어찌 해야 되나??\n",
    "# 대안 : 키보드의 end키를 눌러야 됨.\n",
    "\n",
    " \n",
    "while(True) :  \n",
    "    body = driver.find_element(By.TAG_NAME, 'body')\n",
    "    before_find = len(driver.find_elements(By.CSS_SELECTOR, 'li')) \n",
    "    body.send_keys(Keys.END)\n",
    "    time.sleep(0.5) \n",
    "    later_find = len(driver.find_elements(By.CSS_SELECTOR, 'li')) \n",
    "    \n",
    "    if (before_find == later_find): \n",
    "        # 느린 인터넷의 에러를 보정\n",
    "        print(f'페이지가 끝났는지 검사 중... ')\n",
    "        time.sleep(2) \n",
    "        later_find_check = len(driver.find_elements(By.CSS_SELECTOR, 'li')) \n",
    "        if(later_find == later_find_check) :\n",
    "            print(f'페이지가 끝나서 반복을 종료합니다.')\n",
    "            break \n",
    "        else :\n",
    "            print(f'페이지가 끝나지 않았음')"
   ]
  },
  {
   "cell_type": "code",
   "execution_count": 178,
   "id": "1f05c1d6-dd05-472f-b42b-d612850cf4dd",
   "metadata": {
    "scrolled": true
   },
   "outputs": [],
   "source": [
    "get_All_IMG = driver.find_elements(By.CLASS_NAME, TARGET_IMG_CLASS)\n",
    "\n",
    "get_name = driver.find_elements(By.CSS_SELECTOR, TARGET_NAME_CLASS) \n",
    "temp_get_All_Name = [name.text.split('\\n')[1] for name in get_name]\n",
    "get_All_Name = [name.replace(\"'\", \"\") for name in temp_get_All_Name] "
   ]
  },
  {
   "cell_type": "code",
   "execution_count": 179,
   "id": "60086284-1243-4afa-8506-c7f8b737bfcf",
   "metadata": {},
   "outputs": [],
   "source": [
    "# 반복분  \n",
    "try : \n",
    "    from tqdm import tqdm\n",
    "except ModuleNotFoundError :\n",
    "    !pip install tqdm"
   ]
  },
  {
   "cell_type": "code",
   "execution_count": 180,
   "id": "be365742-815d-44e4-90e9-5fec38ca6116",
   "metadata": {
    "scrolled": true
   },
   "outputs": [
    {
     "name": "stderr",
     "output_type": "stream",
     "text": [
      "100%|█████████████████████████████████████████████████████████████████████████████| 1252/1252 [00:03<00:00, 369.54it/s]\n"
     ]
    },
    {
     "data": {
      "text/plain": [
       "['https://data1.pokemonkorea.co.kr/newdata/pokedex/mid/000101.png',\n",
       " 'https://data1.pokemonkorea.co.kr/newdata/pokedex/mid/000201.png',\n",
       " 'https://data1.pokemonkorea.co.kr/newdata/pokedex/mid/000301.png',\n",
       " 'https://data1.pokemonkorea.co.kr/newdata/pokedex/mid/000302.png',\n",
       " 'https://data1.pokemonkorea.co.kr/newdata/pokedex/mid/000303.png',\n",
       " 'https://data1.pokemonkorea.co.kr/newdata/pokedex/mid/000401.png',\n",
       " 'https://data1.pokemonkorea.co.kr/newdata/pokedex/mid/000501.png',\n",
       " 'https://data1.pokemonkorea.co.kr/newdata/pokedex/mid/000601.png',\n",
       " 'https://data1.pokemonkorea.co.kr/newdata/pokedex/mid/000602.png',\n",
       " 'https://data1.pokemonkorea.co.kr/newdata/pokedex/mid/000603.png',\n",
       " 'https://data1.pokemonkorea.co.kr/newdata/pokedex/mid/000604.png',\n",
       " 'https://data1.pokemonkorea.co.kr/newdata/pokedex/mid/000701.png',\n",
       " 'https://data1.pokemonkorea.co.kr/newdata/pokedex/mid/000801.png',\n",
       " 'https://data1.pokemonkorea.co.kr/newdata/pokedex/mid/000901.png',\n",
       " 'https://data1.pokemonkorea.co.kr/newdata/pokedex/mid/000902.png',\n",
       " 'https://data1.pokemonkorea.co.kr/newdata/pokedex/mid/000903.png',\n",
       " 'https://data1.pokemonkorea.co.kr/newdata/pokedex/mid/001001.png',\n",
       " 'https://data1.pokemonkorea.co.kr/newdata/pokedex/mid/001101.png',\n",
       " 'https://data1.pokemonkorea.co.kr/newdata/pokedex/mid/001201.png',\n",
       " 'https://data1.pokemonkorea.co.kr/newdata/pokedex/mid/001202.png',\n",
       " 'https://data1.pokemonkorea.co.kr/newdata/pokedex/mid/001301.png',\n",
       " 'https://data1.pokemonkorea.co.kr/newdata/pokedex/mid/001401.png',\n",
       " 'https://data1.pokemonkorea.co.kr/newdata/pokedex/mid/001501.png',\n",
       " 'https://data1.pokemonkorea.co.kr/newdata/pokedex/mid/001502.png',\n",
       " 'https://data1.pokemonkorea.co.kr/newdata/pokedex/mid/001601.png',\n",
       " 'https://data1.pokemonkorea.co.kr/newdata/pokedex/mid/001701.png',\n",
       " 'https://data1.pokemonkorea.co.kr/newdata/pokedex/mid/001801.png',\n",
       " 'https://data1.pokemonkorea.co.kr/newdata/pokedex/mid/001802.png',\n",
       " 'https://data1.pokemonkorea.co.kr/newdata/pokedex/mid/001901.png',\n",
       " 'https://data1.pokemonkorea.co.kr/newdata/pokedex/mid/001902.png',\n",
       " 'https://data1.pokemonkorea.co.kr/newdata/pokedex/mid/002001.png',\n",
       " 'https://data1.pokemonkorea.co.kr/newdata/pokedex/mid/002002.png',\n",
       " 'https://data1.pokemonkorea.co.kr/newdata/pokedex/mid/002101.png',\n",
       " 'https://data1.pokemonkorea.co.kr/newdata/pokedex/mid/002201.png',\n",
       " 'https://data1.pokemonkorea.co.kr/newdata/pokedex/mid/002301.png',\n",
       " 'https://data1.pokemonkorea.co.kr/newdata/pokedex/mid/002401.png',\n",
       " 'https://data1.pokemonkorea.co.kr/newdata/pokedex/mid/002501.png',\n",
       " 'https://data1.pokemonkorea.co.kr/newdata/pokedex/mid/002502.png',\n",
       " 'https://data1.pokemonkorea.co.kr/newdata/pokedex/mid/002601.png',\n",
       " 'https://data1.pokemonkorea.co.kr/newdata/pokedex/mid/002602.png',\n",
       " 'https://data1.pokemonkorea.co.kr/newdata/pokedex/mid/002701.png',\n",
       " 'https://data1.pokemonkorea.co.kr/newdata/pokedex/mid/002702.png',\n",
       " 'https://data1.pokemonkorea.co.kr/newdata/pokedex/mid/002801.png',\n",
       " 'https://data1.pokemonkorea.co.kr/newdata/pokedex/mid/002802.png',\n",
       " 'https://data1.pokemonkorea.co.kr/newdata/pokedex/mid/002901.png',\n",
       " 'https://data1.pokemonkorea.co.kr/newdata/pokedex/mid/003001.png',\n",
       " 'https://data1.pokemonkorea.co.kr/newdata/pokedex/mid/003101.png',\n",
       " 'https://data1.pokemonkorea.co.kr/newdata/pokedex/mid/003201.png',\n",
       " 'https://data1.pokemonkorea.co.kr/newdata/pokedex/mid/003301.png',\n",
       " 'https://data1.pokemonkorea.co.kr/newdata/pokedex/mid/003401.png',\n",
       " 'https://data1.pokemonkorea.co.kr/newdata/pokedex/mid/003501.png',\n",
       " 'https://data1.pokemonkorea.co.kr/newdata/pokedex/mid/003601.png',\n",
       " 'https://data1.pokemonkorea.co.kr/newdata/pokedex/mid/003701.png',\n",
       " 'https://data1.pokemonkorea.co.kr/newdata/pokedex/mid/003702.png',\n",
       " 'https://data1.pokemonkorea.co.kr/newdata/pokedex/mid/003801.png',\n",
       " 'https://data1.pokemonkorea.co.kr/newdata/pokedex/mid/003802.png',\n",
       " 'https://data1.pokemonkorea.co.kr/newdata/pokedex/mid/003901.png',\n",
       " 'https://data1.pokemonkorea.co.kr/newdata/pokedex/mid/004001.png',\n",
       " 'https://data1.pokemonkorea.co.kr/newdata/pokedex/mid/004101.png',\n",
       " 'https://data1.pokemonkorea.co.kr/newdata/pokedex/mid/004201.png',\n",
       " 'https://data1.pokemonkorea.co.kr/newdata/pokedex/mid/004301.png',\n",
       " 'https://data1.pokemonkorea.co.kr/newdata/pokedex/mid/004401.png',\n",
       " 'https://data1.pokemonkorea.co.kr/newdata/pokedex/mid/004501.png',\n",
       " 'https://data1.pokemonkorea.co.kr/newdata/pokedex/mid/004601.png',\n",
       " 'https://data1.pokemonkorea.co.kr/newdata/pokedex/mid/004701.png',\n",
       " 'https://data1.pokemonkorea.co.kr/newdata/pokedex/mid/004801.png',\n",
       " 'https://data1.pokemonkorea.co.kr/newdata/pokedex/mid/004901.png',\n",
       " 'https://data1.pokemonkorea.co.kr/newdata/pokedex/mid/005001.png',\n",
       " 'https://data1.pokemonkorea.co.kr/newdata/pokedex/mid/005002.png',\n",
       " 'https://data1.pokemonkorea.co.kr/newdata/pokedex/mid/005101.png',\n",
       " 'https://data1.pokemonkorea.co.kr/newdata/pokedex/mid/005102.png',\n",
       " 'https://data1.pokemonkorea.co.kr/newdata/pokedex/mid/005201.png',\n",
       " 'https://data1.pokemonkorea.co.kr/newdata/pokedex/mid/005202.png',\n",
       " 'https://data1.pokemonkorea.co.kr/newdata/pokedex/mid/005203.png',\n",
       " 'https://data1.pokemonkorea.co.kr/newdata/pokedex/mid/005204.png',\n",
       " 'https://data1.pokemonkorea.co.kr/newdata/pokedex/mid/005301.png',\n",
       " 'https://data1.pokemonkorea.co.kr/newdata/pokedex/mid/005302.png',\n",
       " 'https://data1.pokemonkorea.co.kr/newdata/pokedex/mid/005401.png',\n",
       " 'https://data1.pokemonkorea.co.kr/newdata/pokedex/mid/005501.png',\n",
       " 'https://data1.pokemonkorea.co.kr/newdata/pokedex/mid/005601.png',\n",
       " 'https://data1.pokemonkorea.co.kr/newdata/pokedex/mid/005701.png',\n",
       " 'https://data1.pokemonkorea.co.kr/newdata/pokedex/mid/005801.png',\n",
       " 'https://data1.pokemonkorea.co.kr/newdata/pokedex/mid/005802.png',\n",
       " 'https://data1.pokemonkorea.co.kr/newdata/pokedex/mid/005901.png',\n",
       " 'https://data1.pokemonkorea.co.kr/newdata/pokedex/mid/005902.png',\n",
       " 'https://data1.pokemonkorea.co.kr/newdata/pokedex/mid/006001.png',\n",
       " 'https://data1.pokemonkorea.co.kr/newdata/pokedex/mid/006101.png',\n",
       " 'https://data1.pokemonkorea.co.kr/newdata/pokedex/mid/006201.png',\n",
       " 'https://data1.pokemonkorea.co.kr/newdata/pokedex/mid/006301.png',\n",
       " 'https://data1.pokemonkorea.co.kr/newdata/pokedex/mid/006401.png',\n",
       " 'https://data1.pokemonkorea.co.kr/newdata/pokedex/mid/006501.png',\n",
       " 'https://data1.pokemonkorea.co.kr/newdata/pokedex/mid/006502.png',\n",
       " 'https://data1.pokemonkorea.co.kr/newdata/pokedex/mid/006601.png',\n",
       " 'https://data1.pokemonkorea.co.kr/newdata/pokedex/mid/006701.png',\n",
       " 'https://data1.pokemonkorea.co.kr/newdata/pokedex/mid/006801.png',\n",
       " 'https://data1.pokemonkorea.co.kr/newdata/pokedex/mid/006802.png',\n",
       " 'https://data1.pokemonkorea.co.kr/newdata/pokedex/mid/006901.png',\n",
       " 'https://data1.pokemonkorea.co.kr/newdata/pokedex/mid/007001.png',\n",
       " 'https://data1.pokemonkorea.co.kr/newdata/pokedex/mid/007101.png',\n",
       " 'https://data1.pokemonkorea.co.kr/newdata/pokedex/mid/007201.png',\n",
       " 'https://data1.pokemonkorea.co.kr/newdata/pokedex/mid/007301.png',\n",
       " 'https://data1.pokemonkorea.co.kr/newdata/pokedex/mid/007401.png',\n",
       " 'https://data1.pokemonkorea.co.kr/newdata/pokedex/mid/007402.png',\n",
       " 'https://data1.pokemonkorea.co.kr/newdata/pokedex/mid/007501.png',\n",
       " 'https://data1.pokemonkorea.co.kr/newdata/pokedex/mid/007502.png',\n",
       " 'https://data1.pokemonkorea.co.kr/newdata/pokedex/mid/007601.png',\n",
       " 'https://data1.pokemonkorea.co.kr/newdata/pokedex/mid/007602.png',\n",
       " 'https://data1.pokemonkorea.co.kr/newdata/pokedex/mid/007701.png',\n",
       " 'https://data1.pokemonkorea.co.kr/newdata/pokedex/mid/007702.png',\n",
       " 'https://data1.pokemonkorea.co.kr/newdata/pokedex/mid/007801.png',\n",
       " 'https://data1.pokemonkorea.co.kr/newdata/pokedex/mid/007802.png',\n",
       " 'https://data1.pokemonkorea.co.kr/newdata/pokedex/mid/007901.png',\n",
       " 'https://data1.pokemonkorea.co.kr/newdata/pokedex/mid/007902.png',\n",
       " 'https://data1.pokemonkorea.co.kr/newdata/pokedex/mid/008001.png',\n",
       " 'https://data1.pokemonkorea.co.kr/newdata/pokedex/mid/008002.png',\n",
       " 'https://data1.pokemonkorea.co.kr/newdata/pokedex/mid/008003.png',\n",
       " 'https://data1.pokemonkorea.co.kr/newdata/pokedex/mid/008101.png',\n",
       " 'https://data1.pokemonkorea.co.kr/newdata/pokedex/mid/008201.png',\n",
       " 'https://data1.pokemonkorea.co.kr/newdata/pokedex/mid/008301.png',\n",
       " 'https://data1.pokemonkorea.co.kr/newdata/pokedex/mid/008302.png',\n",
       " 'https://data1.pokemonkorea.co.kr/newdata/pokedex/mid/008401.png',\n",
       " 'https://data1.pokemonkorea.co.kr/newdata/pokedex/mid/008501.png',\n",
       " 'https://data1.pokemonkorea.co.kr/newdata/pokedex/mid/008601.png',\n",
       " 'https://data1.pokemonkorea.co.kr/newdata/pokedex/mid/008701.png',\n",
       " 'https://data1.pokemonkorea.co.kr/newdata/pokedex/mid/008801.png',\n",
       " 'https://data1.pokemonkorea.co.kr/newdata/pokedex/mid/008802.png',\n",
       " 'https://data1.pokemonkorea.co.kr/newdata/pokedex/mid/008901.png',\n",
       " 'https://data1.pokemonkorea.co.kr/newdata/pokedex/mid/008902.png',\n",
       " 'https://data1.pokemonkorea.co.kr/newdata/pokedex/mid/009001.png',\n",
       " 'https://data1.pokemonkorea.co.kr/newdata/pokedex/mid/009101.png',\n",
       " 'https://data1.pokemonkorea.co.kr/newdata/pokedex/mid/009201.png',\n",
       " 'https://data1.pokemonkorea.co.kr/newdata/pokedex/mid/009301.png',\n",
       " 'https://data1.pokemonkorea.co.kr/newdata/pokedex/mid/009401.png',\n",
       " 'https://data1.pokemonkorea.co.kr/newdata/pokedex/mid/009402.png',\n",
       " 'https://data1.pokemonkorea.co.kr/newdata/pokedex/mid/009403.png',\n",
       " 'https://data1.pokemonkorea.co.kr/newdata/pokedex/mid/009501.png',\n",
       " 'https://data1.pokemonkorea.co.kr/newdata/pokedex/mid/009601.png',\n",
       " 'https://data1.pokemonkorea.co.kr/newdata/pokedex/mid/009701.png',\n",
       " 'https://data1.pokemonkorea.co.kr/newdata/pokedex/mid/009801.png',\n",
       " 'https://data1.pokemonkorea.co.kr/newdata/pokedex/mid/009901.png',\n",
       " 'https://data1.pokemonkorea.co.kr/newdata/pokedex/mid/009902.png',\n",
       " 'https://data1.pokemonkorea.co.kr/newdata/pokedex/mid/010001.png',\n",
       " 'https://data1.pokemonkorea.co.kr/newdata/pokedex/mid/010002.png',\n",
       " 'https://data1.pokemonkorea.co.kr/newdata/pokedex/mid/010101.png',\n",
       " 'https://data1.pokemonkorea.co.kr/newdata/pokedex/mid/010102.png',\n",
       " 'https://data1.pokemonkorea.co.kr/newdata/pokedex/mid/010201.png',\n",
       " 'https://data1.pokemonkorea.co.kr/newdata/pokedex/mid/010301.png',\n",
       " 'https://data1.pokemonkorea.co.kr/newdata/pokedex/mid/010302.png',\n",
       " 'https://data1.pokemonkorea.co.kr/newdata/pokedex/mid/010401.png',\n",
       " 'https://data1.pokemonkorea.co.kr/newdata/pokedex/mid/010501.png',\n",
       " 'https://data1.pokemonkorea.co.kr/newdata/pokedex/mid/010502.png',\n",
       " 'https://data1.pokemonkorea.co.kr/newdata/pokedex/mid/010601.png',\n",
       " 'https://data1.pokemonkorea.co.kr/newdata/pokedex/mid/010701.png',\n",
       " 'https://data1.pokemonkorea.co.kr/newdata/pokedex/mid/010801.png',\n",
       " 'https://data1.pokemonkorea.co.kr/newdata/pokedex/mid/010901.png',\n",
       " 'https://data1.pokemonkorea.co.kr/newdata/pokedex/mid/011001.png',\n",
       " 'https://data1.pokemonkorea.co.kr/newdata/pokedex/mid/011002.png',\n",
       " 'https://data1.pokemonkorea.co.kr/newdata/pokedex/mid/011101.png',\n",
       " 'https://data1.pokemonkorea.co.kr/newdata/pokedex/mid/011201.png',\n",
       " 'https://data1.pokemonkorea.co.kr/newdata/pokedex/mid/011301.png',\n",
       " 'https://data1.pokemonkorea.co.kr/newdata/pokedex/mid/011401.png',\n",
       " 'https://data1.pokemonkorea.co.kr/newdata/pokedex/mid/011501.png',\n",
       " 'https://data1.pokemonkorea.co.kr/newdata/pokedex/mid/011502.png',\n",
       " 'https://data1.pokemonkorea.co.kr/newdata/pokedex/mid/011601.png',\n",
       " 'https://data1.pokemonkorea.co.kr/newdata/pokedex/mid/011701.png',\n",
       " 'https://data1.pokemonkorea.co.kr/newdata/pokedex/mid/011801.png',\n",
       " 'https://data1.pokemonkorea.co.kr/newdata/pokedex/mid/011901.png',\n",
       " 'https://data1.pokemonkorea.co.kr/newdata/pokedex/mid/012001.png',\n",
       " 'https://data1.pokemonkorea.co.kr/newdata/pokedex/mid/012101.png',\n",
       " 'https://data1.pokemonkorea.co.kr/newdata/pokedex/mid/012201.png',\n",
       " 'https://data1.pokemonkorea.co.kr/newdata/pokedex/mid/012202.png',\n",
       " 'https://data1.pokemonkorea.co.kr/newdata/pokedex/mid/012301.png',\n",
       " 'https://data1.pokemonkorea.co.kr/newdata/pokedex/mid/012401.png',\n",
       " 'https://data1.pokemonkorea.co.kr/newdata/pokedex/mid/012501.png',\n",
       " 'https://data1.pokemonkorea.co.kr/newdata/pokedex/mid/012601.png',\n",
       " 'https://data1.pokemonkorea.co.kr/newdata/pokedex/mid/012701.png',\n",
       " 'https://data1.pokemonkorea.co.kr/newdata/pokedex/mid/012702.png',\n",
       " 'https://data1.pokemonkorea.co.kr/newdata/pokedex/mid/012801.png',\n",
       " 'https://data1.pokemonkorea.co.kr/newdata/pokedex/mid/012802.png',\n",
       " 'https://data1.pokemonkorea.co.kr/newdata/pokedex/mid/012803.png',\n",
       " 'https://data1.pokemonkorea.co.kr/newdata/pokedex/mid/012804.png',\n",
       " 'https://data1.pokemonkorea.co.kr/newdata/pokedex/mid/012901.png',\n",
       " 'https://data1.pokemonkorea.co.kr/newdata/pokedex/mid/013001.png',\n",
       " 'https://data1.pokemonkorea.co.kr/newdata/pokedex/mid/013002.png',\n",
       " 'https://data1.pokemonkorea.co.kr/newdata/pokedex/mid/013103.png',\n",
       " 'https://data1.pokemonkorea.co.kr/newdata/pokedex/mid/013104.png',\n",
       " 'https://data1.pokemonkorea.co.kr/newdata/pokedex/mid/013201.png',\n",
       " 'https://data1.pokemonkorea.co.kr/newdata/pokedex/mid/013301.png',\n",
       " 'https://data1.pokemonkorea.co.kr/newdata/pokedex/mid/013302.png',\n",
       " 'https://data1.pokemonkorea.co.kr/newdata/pokedex/mid/013401.png',\n",
       " 'https://data1.pokemonkorea.co.kr/newdata/pokedex/mid/013501.png',\n",
       " 'https://data1.pokemonkorea.co.kr/newdata/pokedex/mid/013601.png',\n",
       " 'https://data1.pokemonkorea.co.kr/newdata/pokedex/mid/013701.png',\n",
       " 'https://data1.pokemonkorea.co.kr/newdata/pokedex/mid/013801.png',\n",
       " 'https://data1.pokemonkorea.co.kr/newdata/pokedex/mid/013901.png',\n",
       " 'https://data1.pokemonkorea.co.kr/newdata/pokedex/mid/014001.png',\n",
       " 'https://data1.pokemonkorea.co.kr/newdata/pokedex/mid/014101.png',\n",
       " 'https://data1.pokemonkorea.co.kr/newdata/pokedex/mid/014201.png',\n",
       " 'https://data1.pokemonkorea.co.kr/newdata/pokedex/mid/014202.png',\n",
       " 'https://data1.pokemonkorea.co.kr/newdata/pokedex/mid/014301.png',\n",
       " 'https://data1.pokemonkorea.co.kr/newdata/pokedex/mid/014302.png',\n",
       " 'https://data1.pokemonkorea.co.kr/newdata/pokedex/mid/014401.png',\n",
       " 'https://data1.pokemonkorea.co.kr/newdata/pokedex/mid/014402.png',\n",
       " 'https://data1.pokemonkorea.co.kr/newdata/pokedex/mid/014501.png',\n",
       " 'https://data1.pokemonkorea.co.kr/newdata/pokedex/mid/014502.png',\n",
       " 'https://data1.pokemonkorea.co.kr/newdata/pokedex/mid/014601.png',\n",
       " 'https://data1.pokemonkorea.co.kr/newdata/pokedex/mid/014602.png',\n",
       " 'https://data1.pokemonkorea.co.kr/newdata/pokedex/mid/014701.png',\n",
       " 'https://data1.pokemonkorea.co.kr/newdata/pokedex/mid/014801.png',\n",
       " 'https://data1.pokemonkorea.co.kr/newdata/pokedex/mid/014901.png',\n",
       " 'https://data1.pokemonkorea.co.kr/newdata/pokedex/mid/015001.png',\n",
       " 'https://data1.pokemonkorea.co.kr/newdata/pokedex/mid/015002.png',\n",
       " 'https://data1.pokemonkorea.co.kr/newdata/pokedex/mid/015003.png',\n",
       " 'https://data1.pokemonkorea.co.kr/newdata/pokedex/mid/015101.png',\n",
       " 'https://data1.pokemonkorea.co.kr/newdata/pokedex/mid/015201.png',\n",
       " 'https://data1.pokemonkorea.co.kr/newdata/pokedex/mid/015301.png',\n",
       " 'https://data1.pokemonkorea.co.kr/newdata/pokedex/mid/015401.png',\n",
       " 'https://data1.pokemonkorea.co.kr/newdata/pokedex/mid/015501.png',\n",
       " 'https://data1.pokemonkorea.co.kr/newdata/pokedex/mid/015601.png',\n",
       " 'https://data1.pokemonkorea.co.kr/newdata/pokedex/mid/015701.png',\n",
       " 'https://data1.pokemonkorea.co.kr/newdata/pokedex/mid/015702.png',\n",
       " 'https://data1.pokemonkorea.co.kr/newdata/pokedex/mid/015801.png',\n",
       " 'https://data1.pokemonkorea.co.kr/newdata/pokedex/mid/015901.png',\n",
       " 'https://data1.pokemonkorea.co.kr/newdata/pokedex/mid/016001.png',\n",
       " 'https://data1.pokemonkorea.co.kr/newdata/pokedex/mid/016101.png',\n",
       " 'https://data1.pokemonkorea.co.kr/newdata/pokedex/mid/016201.png',\n",
       " 'https://data1.pokemonkorea.co.kr/newdata/pokedex/mid/016301.png',\n",
       " 'https://data1.pokemonkorea.co.kr/newdata/pokedex/mid/016401.png',\n",
       " 'https://data1.pokemonkorea.co.kr/newdata/pokedex/mid/016501.png',\n",
       " 'https://data1.pokemonkorea.co.kr/newdata/pokedex/mid/016601.png',\n",
       " 'https://data1.pokemonkorea.co.kr/newdata/pokedex/mid/016701.png',\n",
       " 'https://data1.pokemonkorea.co.kr/newdata/pokedex/mid/016801.png',\n",
       " 'https://data1.pokemonkorea.co.kr/newdata/pokedex/mid/016901.png',\n",
       " 'https://data1.pokemonkorea.co.kr/newdata/pokedex/mid/017001.png',\n",
       " 'https://data1.pokemonkorea.co.kr/newdata/pokedex/mid/017101.png',\n",
       " 'https://data1.pokemonkorea.co.kr/newdata/pokedex/mid/017201.png',\n",
       " 'https://data1.pokemonkorea.co.kr/newdata/pokedex/mid/017301.png',\n",
       " 'https://data1.pokemonkorea.co.kr/newdata/pokedex/mid/017401.png',\n",
       " 'https://data1.pokemonkorea.co.kr/newdata/pokedex/mid/017501.png',\n",
       " 'https://data1.pokemonkorea.co.kr/newdata/pokedex/mid/017601.png',\n",
       " 'https://data1.pokemonkorea.co.kr/newdata/pokedex/mid/017701.png',\n",
       " 'https://data1.pokemonkorea.co.kr/newdata/pokedex/mid/017801.png',\n",
       " 'https://data1.pokemonkorea.co.kr/newdata/pokedex/mid/017901.png',\n",
       " 'https://data1.pokemonkorea.co.kr/newdata/pokedex/mid/018001.png',\n",
       " 'https://data1.pokemonkorea.co.kr/newdata/pokedex/mid/018101.png',\n",
       " 'https://data1.pokemonkorea.co.kr/newdata/pokedex/mid/018102.png',\n",
       " 'https://data1.pokemonkorea.co.kr/newdata/pokedex/mid/018201.png',\n",
       " 'https://data1.pokemonkorea.co.kr/newdata/pokedex/mid/018301.png',\n",
       " 'https://data1.pokemonkorea.co.kr/newdata/pokedex/mid/018401.png',\n",
       " 'https://data1.pokemonkorea.co.kr/newdata/pokedex/mid/018501.png',\n",
       " 'https://data1.pokemonkorea.co.kr/newdata/pokedex/mid/018601.png',\n",
       " 'https://data1.pokemonkorea.co.kr/newdata/pokedex/mid/018701.png',\n",
       " 'https://data1.pokemonkorea.co.kr/newdata/pokedex/mid/018801.png',\n",
       " 'https://data1.pokemonkorea.co.kr/newdata/pokedex/mid/018901.png',\n",
       " 'https://data1.pokemonkorea.co.kr/newdata/pokedex/mid/019001.png',\n",
       " 'https://data1.pokemonkorea.co.kr/newdata/pokedex/mid/019101.png',\n",
       " 'https://data1.pokemonkorea.co.kr/newdata/pokedex/mid/019201.png',\n",
       " 'https://data1.pokemonkorea.co.kr/newdata/pokedex/mid/019301.png',\n",
       " 'https://data1.pokemonkorea.co.kr/newdata/pokedex/mid/019401.png',\n",
       " 'https://data1.pokemonkorea.co.kr/newdata/pokedex/mid/019402.png',\n",
       " 'https://data1.pokemonkorea.co.kr/newdata/pokedex/mid/019501.png',\n",
       " 'https://data1.pokemonkorea.co.kr/newdata/pokedex/mid/019601.png',\n",
       " 'https://data1.pokemonkorea.co.kr/newdata/pokedex/mid/019701.png',\n",
       " 'https://data1.pokemonkorea.co.kr/newdata/pokedex/mid/019801.png',\n",
       " 'https://data1.pokemonkorea.co.kr/newdata/pokedex/mid/019901.png',\n",
       " 'https://data1.pokemonkorea.co.kr/newdata/pokedex/mid/019902.png',\n",
       " 'https://data1.pokemonkorea.co.kr/newdata/pokedex/mid/020001.png',\n",
       " 'https://data1.pokemonkorea.co.kr/newdata/pokedex/mid/020101.png',\n",
       " 'https://data1.pokemonkorea.co.kr/newdata/pokedex/mid/020201.png',\n",
       " 'https://data1.pokemonkorea.co.kr/newdata/pokedex/mid/020301.png',\n",
       " 'https://data1.pokemonkorea.co.kr/newdata/pokedex/mid/020401.png',\n",
       " 'https://data1.pokemonkorea.co.kr/newdata/pokedex/mid/020501.png',\n",
       " 'https://data1.pokemonkorea.co.kr/newdata/pokedex/mid/020601.png',\n",
       " 'https://data1.pokemonkorea.co.kr/newdata/pokedex/mid/020701.png',\n",
       " 'https://data1.pokemonkorea.co.kr/newdata/pokedex/mid/020801.png',\n",
       " 'https://data1.pokemonkorea.co.kr/newdata/pokedex/mid/020802.png',\n",
       " 'https://data1.pokemonkorea.co.kr/newdata/pokedex/mid/020901.png',\n",
       " 'https://data1.pokemonkorea.co.kr/newdata/pokedex/mid/021001.png',\n",
       " 'https://data1.pokemonkorea.co.kr/newdata/pokedex/mid/021101.png',\n",
       " 'https://data1.pokemonkorea.co.kr/newdata/pokedex/mid/021102.png',\n",
       " 'https://data1.pokemonkorea.co.kr/newdata/pokedex/mid/021201.png',\n",
       " 'https://data1.pokemonkorea.co.kr/newdata/pokedex/mid/021202.png',\n",
       " 'https://data1.pokemonkorea.co.kr/newdata/pokedex/mid/021301.png',\n",
       " 'https://data1.pokemonkorea.co.kr/newdata/pokedex/mid/021401.png',\n",
       " 'https://data1.pokemonkorea.co.kr/newdata/pokedex/mid/021402.png',\n",
       " 'https://data1.pokemonkorea.co.kr/newdata/pokedex/mid/021501.png',\n",
       " 'https://data1.pokemonkorea.co.kr/newdata/pokedex/mid/021502.png',\n",
       " 'https://data1.pokemonkorea.co.kr/newdata/pokedex/mid/021601.png',\n",
       " 'https://data1.pokemonkorea.co.kr/newdata/pokedex/mid/021701.png',\n",
       " 'https://data1.pokemonkorea.co.kr/newdata/pokedex/mid/021801.png',\n",
       " 'https://data1.pokemonkorea.co.kr/newdata/pokedex/mid/021901.png',\n",
       " 'https://data1.pokemonkorea.co.kr/newdata/pokedex/mid/022001.png',\n",
       " 'https://data1.pokemonkorea.co.kr/newdata/pokedex/mid/022101.png',\n",
       " 'https://data1.pokemonkorea.co.kr/newdata/pokedex/mid/022201.png',\n",
       " 'https://data1.pokemonkorea.co.kr/newdata/pokedex/mid/022202.png',\n",
       " 'https://data1.pokemonkorea.co.kr/newdata/pokedex/mid/022301.png',\n",
       " 'https://data1.pokemonkorea.co.kr/newdata/pokedex/mid/022401.png',\n",
       " 'https://data1.pokemonkorea.co.kr/newdata/pokedex/mid/022501.png',\n",
       " 'https://data1.pokemonkorea.co.kr/newdata/pokedex/mid/022601.png',\n",
       " 'https://data1.pokemonkorea.co.kr/newdata/pokedex/mid/022701.png',\n",
       " 'https://data1.pokemonkorea.co.kr/newdata/pokedex/mid/022801.png',\n",
       " 'https://data1.pokemonkorea.co.kr/newdata/pokedex/mid/022901.png',\n",
       " 'https://data1.pokemonkorea.co.kr/newdata/pokedex/mid/022902.png',\n",
       " 'https://data1.pokemonkorea.co.kr/newdata/pokedex/mid/023001.png',\n",
       " 'https://data1.pokemonkorea.co.kr/newdata/pokedex/mid/023101.png',\n",
       " 'https://data1.pokemonkorea.co.kr/newdata/pokedex/mid/023201.png',\n",
       " 'https://data1.pokemonkorea.co.kr/newdata/pokedex/mid/023301.png',\n",
       " 'https://data1.pokemonkorea.co.kr/newdata/pokedex/mid/023401.png',\n",
       " 'https://data1.pokemonkorea.co.kr/newdata/pokedex/mid/023501.png',\n",
       " 'https://data1.pokemonkorea.co.kr/newdata/pokedex/mid/023601.png',\n",
       " 'https://data1.pokemonkorea.co.kr/newdata/pokedex/mid/023701.png',\n",
       " 'https://data1.pokemonkorea.co.kr/newdata/pokedex/mid/023801.png',\n",
       " 'https://data1.pokemonkorea.co.kr/newdata/pokedex/mid/023901.png',\n",
       " 'https://data1.pokemonkorea.co.kr/newdata/pokedex/mid/024001.png',\n",
       " 'https://data1.pokemonkorea.co.kr/newdata/pokedex/mid/024101.png',\n",
       " 'https://data1.pokemonkorea.co.kr/newdata/pokedex/mid/024201.png',\n",
       " 'https://data1.pokemonkorea.co.kr/newdata/pokedex/mid/024301.png',\n",
       " 'https://data1.pokemonkorea.co.kr/newdata/pokedex/mid/024401.png',\n",
       " 'https://data1.pokemonkorea.co.kr/newdata/pokedex/mid/024501.png',\n",
       " 'https://data1.pokemonkorea.co.kr/newdata/pokedex/mid/024601.png',\n",
       " 'https://data1.pokemonkorea.co.kr/newdata/pokedex/mid/024701.png',\n",
       " 'https://data1.pokemonkorea.co.kr/newdata/pokedex/mid/024801.png',\n",
       " 'https://data1.pokemonkorea.co.kr/newdata/pokedex/mid/024802.png',\n",
       " 'https://data1.pokemonkorea.co.kr/newdata/pokedex/mid/024901.png',\n",
       " 'https://data1.pokemonkorea.co.kr/newdata/pokedex/mid/025001.png',\n",
       " 'https://data1.pokemonkorea.co.kr/newdata/pokedex/mid/025101.png',\n",
       " 'https://data1.pokemonkorea.co.kr/newdata/pokedex/mid/025201.png',\n",
       " 'https://data1.pokemonkorea.co.kr/newdata/pokedex/mid/025301.png',\n",
       " 'https://data1.pokemonkorea.co.kr/newdata/pokedex/mid/025401.png',\n",
       " 'https://data1.pokemonkorea.co.kr/newdata/pokedex/mid/025402.png',\n",
       " 'https://data1.pokemonkorea.co.kr/newdata/pokedex/mid/025501.png',\n",
       " 'https://data1.pokemonkorea.co.kr/newdata/pokedex/mid/025601.png',\n",
       " 'https://data1.pokemonkorea.co.kr/newdata/pokedex/mid/025701.png',\n",
       " 'https://data1.pokemonkorea.co.kr/newdata/pokedex/mid/025702.png',\n",
       " 'https://data1.pokemonkorea.co.kr/newdata/pokedex/mid/025801.png',\n",
       " 'https://data1.pokemonkorea.co.kr/newdata/pokedex/mid/025901.png',\n",
       " 'https://data1.pokemonkorea.co.kr/newdata/pokedex/mid/026001.png',\n",
       " 'https://data1.pokemonkorea.co.kr/newdata/pokedex/mid/026002.png',\n",
       " 'https://data1.pokemonkorea.co.kr/newdata/pokedex/mid/026101.png',\n",
       " 'https://data1.pokemonkorea.co.kr/newdata/pokedex/mid/026201.png',\n",
       " 'https://data1.pokemonkorea.co.kr/newdata/pokedex/mid/026301.png',\n",
       " 'https://data1.pokemonkorea.co.kr/newdata/pokedex/mid/026302.png',\n",
       " 'https://data1.pokemonkorea.co.kr/newdata/pokedex/mid/026401.png',\n",
       " 'https://data1.pokemonkorea.co.kr/newdata/pokedex/mid/026402.png',\n",
       " 'https://data1.pokemonkorea.co.kr/newdata/pokedex/mid/026501.png',\n",
       " 'https://data1.pokemonkorea.co.kr/newdata/pokedex/mid/026601.png',\n",
       " 'https://data1.pokemonkorea.co.kr/newdata/pokedex/mid/026701.png',\n",
       " 'https://data1.pokemonkorea.co.kr/newdata/pokedex/mid/026801.png',\n",
       " 'https://data1.pokemonkorea.co.kr/newdata/pokedex/mid/026901.png',\n",
       " 'https://data1.pokemonkorea.co.kr/newdata/pokedex/mid/027001.png',\n",
       " 'https://data1.pokemonkorea.co.kr/newdata/pokedex/mid/027101.png',\n",
       " 'https://data1.pokemonkorea.co.kr/newdata/pokedex/mid/027201.png',\n",
       " 'https://data1.pokemonkorea.co.kr/newdata/pokedex/mid/027301.png',\n",
       " 'https://data1.pokemonkorea.co.kr/newdata/pokedex/mid/027401.png',\n",
       " 'https://data1.pokemonkorea.co.kr/newdata/pokedex/mid/027501.png',\n",
       " 'https://data1.pokemonkorea.co.kr/newdata/pokedex/mid/027601.png',\n",
       " 'https://data1.pokemonkorea.co.kr/newdata/pokedex/mid/027701.png',\n",
       " 'https://data1.pokemonkorea.co.kr/newdata/pokedex/mid/027801.png',\n",
       " 'https://data1.pokemonkorea.co.kr/newdata/pokedex/mid/027901.png',\n",
       " 'https://data1.pokemonkorea.co.kr/newdata/pokedex/mid/028001.png',\n",
       " 'https://data1.pokemonkorea.co.kr/newdata/pokedex/mid/028101.png',\n",
       " 'https://data1.pokemonkorea.co.kr/newdata/pokedex/mid/028201.png',\n",
       " 'https://data1.pokemonkorea.co.kr/newdata/pokedex/mid/028202.png',\n",
       " 'https://data1.pokemonkorea.co.kr/newdata/pokedex/mid/028301.png',\n",
       " 'https://data1.pokemonkorea.co.kr/newdata/pokedex/mid/028401.png',\n",
       " 'https://data1.pokemonkorea.co.kr/newdata/pokedex/mid/028501.png',\n",
       " 'https://data1.pokemonkorea.co.kr/newdata/pokedex/mid/028601.png',\n",
       " 'https://data1.pokemonkorea.co.kr/newdata/pokedex/mid/028701.png',\n",
       " 'https://data1.pokemonkorea.co.kr/newdata/pokedex/mid/028801.png',\n",
       " 'https://data1.pokemonkorea.co.kr/newdata/pokedex/mid/028901.png',\n",
       " 'https://data1.pokemonkorea.co.kr/newdata/pokedex/mid/029001.png',\n",
       " 'https://data1.pokemonkorea.co.kr/newdata/pokedex/mid/029101.png',\n",
       " 'https://data1.pokemonkorea.co.kr/newdata/pokedex/mid/029201.png',\n",
       " 'https://data1.pokemonkorea.co.kr/newdata/pokedex/mid/029301.png',\n",
       " 'https://data1.pokemonkorea.co.kr/newdata/pokedex/mid/029401.png',\n",
       " 'https://data1.pokemonkorea.co.kr/newdata/pokedex/mid/029501.png',\n",
       " 'https://data1.pokemonkorea.co.kr/newdata/pokedex/mid/029601.png',\n",
       " 'https://data1.pokemonkorea.co.kr/newdata/pokedex/mid/029701.png',\n",
       " 'https://data1.pokemonkorea.co.kr/newdata/pokedex/mid/029801.png',\n",
       " 'https://data1.pokemonkorea.co.kr/newdata/pokedex/mid/029901.png',\n",
       " 'https://data1.pokemonkorea.co.kr/newdata/pokedex/mid/030001.png',\n",
       " 'https://data1.pokemonkorea.co.kr/newdata/pokedex/mid/030101.png',\n",
       " 'https://data1.pokemonkorea.co.kr/newdata/pokedex/mid/030201.png',\n",
       " 'https://data1.pokemonkorea.co.kr/newdata/pokedex/mid/030202.png',\n",
       " 'https://data1.pokemonkorea.co.kr/newdata/pokedex/mid/030301.png',\n",
       " 'https://data1.pokemonkorea.co.kr/newdata/pokedex/mid/030302.png',\n",
       " 'https://data1.pokemonkorea.co.kr/newdata/pokedex/mid/030401.png',\n",
       " 'https://data1.pokemonkorea.co.kr/newdata/pokedex/mid/030501.png',\n",
       " 'https://data1.pokemonkorea.co.kr/newdata/pokedex/mid/030601.png',\n",
       " 'https://data1.pokemonkorea.co.kr/newdata/pokedex/mid/030602.png',\n",
       " 'https://data1.pokemonkorea.co.kr/newdata/pokedex/mid/030701.png',\n",
       " 'https://data1.pokemonkorea.co.kr/newdata/pokedex/mid/030801.png',\n",
       " 'https://data1.pokemonkorea.co.kr/newdata/pokedex/mid/030802.png',\n",
       " 'https://data1.pokemonkorea.co.kr/newdata/pokedex/mid/030901.png',\n",
       " 'https://data1.pokemonkorea.co.kr/newdata/pokedex/mid/031001.png',\n",
       " 'https://data1.pokemonkorea.co.kr/newdata/pokedex/mid/031002.png',\n",
       " 'https://data1.pokemonkorea.co.kr/newdata/pokedex/mid/031101.png',\n",
       " 'https://data1.pokemonkorea.co.kr/newdata/pokedex/mid/031201.png',\n",
       " 'https://data1.pokemonkorea.co.kr/newdata/pokedex/mid/031301.png',\n",
       " 'https://data1.pokemonkorea.co.kr/newdata/pokedex/mid/031401.png',\n",
       " 'https://data1.pokemonkorea.co.kr/newdata/pokedex/mid/031501.png',\n",
       " 'https://data1.pokemonkorea.co.kr/newdata/pokedex/mid/031601.png',\n",
       " 'https://data1.pokemonkorea.co.kr/newdata/pokedex/mid/031701.png',\n",
       " 'https://data1.pokemonkorea.co.kr/newdata/pokedex/mid/031801.png',\n",
       " 'https://data1.pokemonkorea.co.kr/newdata/pokedex/mid/031901.png',\n",
       " 'https://data1.pokemonkorea.co.kr/newdata/pokedex/mid/031902.png',\n",
       " 'https://data1.pokemonkorea.co.kr/newdata/pokedex/mid/032001.png',\n",
       " 'https://data1.pokemonkorea.co.kr/newdata/pokedex/mid/032101.png',\n",
       " 'https://data1.pokemonkorea.co.kr/newdata/pokedex/mid/032201.png',\n",
       " 'https://data1.pokemonkorea.co.kr/newdata/pokedex/mid/032301.png',\n",
       " 'https://data1.pokemonkorea.co.kr/newdata/pokedex/mid/032302.png',\n",
       " 'https://data1.pokemonkorea.co.kr/newdata/pokedex/mid/032401.png',\n",
       " 'https://data1.pokemonkorea.co.kr/newdata/pokedex/mid/032501.png',\n",
       " 'https://data1.pokemonkorea.co.kr/newdata/pokedex/mid/032601.png',\n",
       " 'https://data1.pokemonkorea.co.kr/newdata/pokedex/mid/032701.png',\n",
       " 'https://data1.pokemonkorea.co.kr/newdata/pokedex/mid/032801.png',\n",
       " 'https://data1.pokemonkorea.co.kr/newdata/pokedex/mid/032901.png',\n",
       " 'https://data1.pokemonkorea.co.kr/newdata/pokedex/mid/033001.png',\n",
       " 'https://data1.pokemonkorea.co.kr/newdata/pokedex/mid/033101.png',\n",
       " 'https://data1.pokemonkorea.co.kr/newdata/pokedex/mid/033201.png',\n",
       " 'https://data1.pokemonkorea.co.kr/newdata/pokedex/mid/033301.png',\n",
       " 'https://data1.pokemonkorea.co.kr/newdata/pokedex/mid/033401.png',\n",
       " 'https://data1.pokemonkorea.co.kr/newdata/pokedex/mid/033402.png',\n",
       " 'https://data1.pokemonkorea.co.kr/newdata/pokedex/mid/033501.png',\n",
       " 'https://data1.pokemonkorea.co.kr/newdata/pokedex/mid/033601.png',\n",
       " 'https://data1.pokemonkorea.co.kr/newdata/pokedex/mid/033701.png',\n",
       " 'https://data1.pokemonkorea.co.kr/newdata/pokedex/mid/033801.png',\n",
       " 'https://data1.pokemonkorea.co.kr/newdata/pokedex/mid/033901.png',\n",
       " 'https://data1.pokemonkorea.co.kr/newdata/pokedex/mid/034001.png',\n",
       " 'https://data1.pokemonkorea.co.kr/newdata/pokedex/mid/034101.png',\n",
       " 'https://data1.pokemonkorea.co.kr/newdata/pokedex/mid/034201.png',\n",
       " 'https://data1.pokemonkorea.co.kr/newdata/pokedex/mid/034301.png',\n",
       " 'https://data1.pokemonkorea.co.kr/newdata/pokedex/mid/034401.png',\n",
       " 'https://data1.pokemonkorea.co.kr/newdata/pokedex/mid/034501.png',\n",
       " 'https://data1.pokemonkorea.co.kr/newdata/pokedex/mid/034601.png',\n",
       " 'https://data1.pokemonkorea.co.kr/newdata/pokedex/mid/034701.png',\n",
       " 'https://data1.pokemonkorea.co.kr/newdata/pokedex/mid/034801.png',\n",
       " 'https://data1.pokemonkorea.co.kr/newdata/pokedex/mid/034901.png',\n",
       " 'https://data1.pokemonkorea.co.kr/newdata/pokedex/mid/035001.png',\n",
       " 'https://data1.pokemonkorea.co.kr/newdata/pokedex/mid/035101.png',\n",
       " 'https://data1.pokemonkorea.co.kr/newdata/pokedex/mid/035201.png',\n",
       " 'https://data1.pokemonkorea.co.kr/newdata/pokedex/mid/035301.png',\n",
       " 'https://data1.pokemonkorea.co.kr/newdata/pokedex/mid/035401.png',\n",
       " 'https://data1.pokemonkorea.co.kr/newdata/pokedex/mid/035402.png',\n",
       " 'https://data1.pokemonkorea.co.kr/newdata/pokedex/mid/035501.png',\n",
       " 'https://data1.pokemonkorea.co.kr/newdata/pokedex/mid/035601.png',\n",
       " 'https://data1.pokemonkorea.co.kr/newdata/pokedex/mid/035701.png',\n",
       " 'https://data1.pokemonkorea.co.kr/newdata/pokedex/mid/035801.png',\n",
       " 'https://data1.pokemonkorea.co.kr/newdata/pokedex/mid/035901.png',\n",
       " 'https://data1.pokemonkorea.co.kr/newdata/pokedex/mid/035902.png',\n",
       " 'https://data1.pokemonkorea.co.kr/newdata/pokedex/mid/036001.png',\n",
       " 'https://data1.pokemonkorea.co.kr/newdata/pokedex/mid/036101.png',\n",
       " 'https://data1.pokemonkorea.co.kr/newdata/pokedex/mid/036201.png',\n",
       " 'https://data1.pokemonkorea.co.kr/newdata/pokedex/mid/036202.png',\n",
       " 'https://data1.pokemonkorea.co.kr/newdata/pokedex/mid/036301.png',\n",
       " 'https://data1.pokemonkorea.co.kr/newdata/pokedex/mid/036401.png',\n",
       " 'https://data1.pokemonkorea.co.kr/newdata/pokedex/mid/036501.png',\n",
       " 'https://data1.pokemonkorea.co.kr/newdata/pokedex/mid/036601.png',\n",
       " 'https://data1.pokemonkorea.co.kr/newdata/pokedex/mid/036701.png',\n",
       " 'https://data1.pokemonkorea.co.kr/newdata/pokedex/mid/036801.png',\n",
       " 'https://data1.pokemonkorea.co.kr/newdata/pokedex/mid/036901.png',\n",
       " 'https://data1.pokemonkorea.co.kr/newdata/pokedex/mid/037001.png',\n",
       " 'https://data1.pokemonkorea.co.kr/newdata/pokedex/mid/037101.png',\n",
       " 'https://data1.pokemonkorea.co.kr/newdata/pokedex/mid/037201.png',\n",
       " 'https://data1.pokemonkorea.co.kr/newdata/pokedex/mid/037301.png',\n",
       " 'https://data1.pokemonkorea.co.kr/newdata/pokedex/mid/037302.png',\n",
       " 'https://data1.pokemonkorea.co.kr/newdata/pokedex/mid/037401.png',\n",
       " 'https://data1.pokemonkorea.co.kr/newdata/pokedex/mid/037501.png',\n",
       " 'https://data1.pokemonkorea.co.kr/newdata/pokedex/mid/037601.png',\n",
       " 'https://data1.pokemonkorea.co.kr/newdata/pokedex/mid/037602.png',\n",
       " 'https://data1.pokemonkorea.co.kr/newdata/pokedex/mid/037701.png',\n",
       " 'https://data1.pokemonkorea.co.kr/newdata/pokedex/mid/037801.png',\n",
       " 'https://data1.pokemonkorea.co.kr/newdata/pokedex/mid/037901.png',\n",
       " 'https://data1.pokemonkorea.co.kr/newdata/pokedex/mid/038001.png',\n",
       " 'https://data1.pokemonkorea.co.kr/newdata/pokedex/mid/038002.png',\n",
       " 'https://data1.pokemonkorea.co.kr/newdata/pokedex/mid/038101.png',\n",
       " 'https://data1.pokemonkorea.co.kr/newdata/pokedex/mid/038102.png',\n",
       " 'https://data1.pokemonkorea.co.kr/newdata/pokedex/mid/038201.png',\n",
       " 'https://data1.pokemonkorea.co.kr/newdata/pokedex/mid/038202.png',\n",
       " 'https://data1.pokemonkorea.co.kr/newdata/pokedex/mid/038301.png',\n",
       " 'https://data1.pokemonkorea.co.kr/newdata/pokedex/mid/038302.png',\n",
       " 'https://data1.pokemonkorea.co.kr/newdata/pokedex/mid/038401.png',\n",
       " 'https://data1.pokemonkorea.co.kr/newdata/pokedex/mid/038402.png',\n",
       " 'https://data1.pokemonkorea.co.kr/newdata/pokedex/mid/038501.png',\n",
       " 'https://data1.pokemonkorea.co.kr/newdata/pokedex/mid/038601.png',\n",
       " 'https://data1.pokemonkorea.co.kr/newdata/pokedex/mid/038602.png',\n",
       " 'https://data1.pokemonkorea.co.kr/newdata/pokedex/mid/038603.png',\n",
       " 'https://data1.pokemonkorea.co.kr/newdata/pokedex/mid/038604.png',\n",
       " 'https://data1.pokemonkorea.co.kr/newdata/pokedex/mid/038701.png',\n",
       " 'https://data1.pokemonkorea.co.kr/newdata/pokedex/mid/038801.png',\n",
       " 'https://data1.pokemonkorea.co.kr/newdata/pokedex/mid/038901.png',\n",
       " 'https://data1.pokemonkorea.co.kr/newdata/pokedex/mid/039001.png',\n",
       " 'https://data1.pokemonkorea.co.kr/newdata/pokedex/mid/039101.png',\n",
       " 'https://data1.pokemonkorea.co.kr/newdata/pokedex/mid/039201.png',\n",
       " 'https://data1.pokemonkorea.co.kr/newdata/pokedex/mid/039301.png',\n",
       " 'https://data1.pokemonkorea.co.kr/newdata/pokedex/mid/039401.png',\n",
       " 'https://data1.pokemonkorea.co.kr/newdata/pokedex/mid/039501.png',\n",
       " 'https://data1.pokemonkorea.co.kr/newdata/pokedex/mid/039601.png',\n",
       " 'https://data1.pokemonkorea.co.kr/newdata/pokedex/mid/039701.png',\n",
       " 'https://data1.pokemonkorea.co.kr/newdata/pokedex/mid/039801.png',\n",
       " 'https://data1.pokemonkorea.co.kr/newdata/pokedex/mid/039901.png',\n",
       " 'https://data1.pokemonkorea.co.kr/newdata/pokedex/mid/040001.png',\n",
       " 'https://data1.pokemonkorea.co.kr/newdata/pokedex/mid/040101.png',\n",
       " 'https://data1.pokemonkorea.co.kr/newdata/pokedex/mid/040201.png',\n",
       " 'https://data1.pokemonkorea.co.kr/newdata/pokedex/mid/040301.png',\n",
       " 'https://data1.pokemonkorea.co.kr/newdata/pokedex/mid/040401.png',\n",
       " 'https://data1.pokemonkorea.co.kr/newdata/pokedex/mid/040501.png',\n",
       " 'https://data1.pokemonkorea.co.kr/newdata/pokedex/mid/040601.png',\n",
       " 'https://data1.pokemonkorea.co.kr/newdata/pokedex/mid/040701.png',\n",
       " 'https://data1.pokemonkorea.co.kr/newdata/pokedex/mid/040801.png',\n",
       " 'https://data1.pokemonkorea.co.kr/newdata/pokedex/mid/040901.png',\n",
       " 'https://data1.pokemonkorea.co.kr/newdata/pokedex/mid/041001.png',\n",
       " 'https://data1.pokemonkorea.co.kr/newdata/pokedex/mid/041101.png',\n",
       " 'https://data1.pokemonkorea.co.kr/newdata/pokedex/mid/041201.png',\n",
       " 'https://data1.pokemonkorea.co.kr/newdata/pokedex/mid/041202.png',\n",
       " 'https://data1.pokemonkorea.co.kr/newdata/pokedex/mid/041203.png',\n",
       " 'https://data1.pokemonkorea.co.kr/newdata/pokedex/mid/041301.png',\n",
       " 'https://data1.pokemonkorea.co.kr/newdata/pokedex/mid/041302.png',\n",
       " 'https://data1.pokemonkorea.co.kr/newdata/pokedex/mid/041303.png',\n",
       " 'https://data1.pokemonkorea.co.kr/newdata/pokedex/mid/041401.png',\n",
       " 'https://data1.pokemonkorea.co.kr/newdata/pokedex/mid/041501.png',\n",
       " 'https://data1.pokemonkorea.co.kr/newdata/pokedex/mid/041601.png',\n",
       " 'https://data1.pokemonkorea.co.kr/newdata/pokedex/mid/041701.png',\n",
       " 'https://data1.pokemonkorea.co.kr/newdata/pokedex/mid/041801.png',\n",
       " 'https://data1.pokemonkorea.co.kr/newdata/pokedex/mid/041901.png',\n",
       " 'https://data1.pokemonkorea.co.kr/newdata/pokedex/mid/042001.png',\n",
       " 'https://data1.pokemonkorea.co.kr/newdata/pokedex/mid/042101.png',\n",
       " 'https://data1.pokemonkorea.co.kr/newdata/pokedex/mid/042102.png',\n",
       " 'https://data1.pokemonkorea.co.kr/newdata/pokedex/mid/042201.png',\n",
       " 'https://data1.pokemonkorea.co.kr/newdata/pokedex/mid/042202.png',\n",
       " 'https://data1.pokemonkorea.co.kr/newdata/pokedex/mid/042301.png',\n",
       " 'https://data1.pokemonkorea.co.kr/newdata/pokedex/mid/042302.png',\n",
       " 'https://data1.pokemonkorea.co.kr/newdata/pokedex/mid/042401.png',\n",
       " 'https://data1.pokemonkorea.co.kr/newdata/pokedex/mid/042501.png',\n",
       " 'https://data1.pokemonkorea.co.kr/newdata/pokedex/mid/042601.png',\n",
       " 'https://data1.pokemonkorea.co.kr/newdata/pokedex/mid/042701.png',\n",
       " 'https://data1.pokemonkorea.co.kr/newdata/pokedex/mid/042801.png',\n",
       " 'https://data1.pokemonkorea.co.kr/newdata/pokedex/mid/042802.png',\n",
       " 'https://data1.pokemonkorea.co.kr/newdata/pokedex/mid/042901.png',\n",
       " 'https://data1.pokemonkorea.co.kr/newdata/pokedex/mid/043001.png',\n",
       " 'https://data1.pokemonkorea.co.kr/newdata/pokedex/mid/043101.png',\n",
       " 'https://data1.pokemonkorea.co.kr/newdata/pokedex/mid/043201.png',\n",
       " 'https://data1.pokemonkorea.co.kr/newdata/pokedex/mid/043301.png',\n",
       " 'https://data1.pokemonkorea.co.kr/newdata/pokedex/mid/043401.png',\n",
       " 'https://data1.pokemonkorea.co.kr/newdata/pokedex/mid/043501.png',\n",
       " 'https://data1.pokemonkorea.co.kr/newdata/pokedex/mid/043601.png',\n",
       " 'https://data1.pokemonkorea.co.kr/newdata/pokedex/mid/043701.png',\n",
       " 'https://data1.pokemonkorea.co.kr/newdata/pokedex/mid/043801.png',\n",
       " 'https://data1.pokemonkorea.co.kr/newdata/pokedex/mid/043901.png',\n",
       " 'https://data1.pokemonkorea.co.kr/newdata/pokedex/mid/044001.png',\n",
       " 'https://data1.pokemonkorea.co.kr/newdata/pokedex/mid/044101.png',\n",
       " 'https://data1.pokemonkorea.co.kr/newdata/pokedex/mid/044201.png',\n",
       " 'https://data1.pokemonkorea.co.kr/newdata/pokedex/mid/044301.png',\n",
       " 'https://data1.pokemonkorea.co.kr/newdata/pokedex/mid/044401.png',\n",
       " 'https://data1.pokemonkorea.co.kr/newdata/pokedex/mid/044501.png',\n",
       " 'https://data1.pokemonkorea.co.kr/newdata/pokedex/mid/044502.png',\n",
       " 'https://data1.pokemonkorea.co.kr/newdata/pokedex/mid/044601.png',\n",
       " 'https://data1.pokemonkorea.co.kr/newdata/pokedex/mid/044701.png',\n",
       " 'https://data1.pokemonkorea.co.kr/newdata/pokedex/mid/044801.png',\n",
       " 'https://data1.pokemonkorea.co.kr/newdata/pokedex/mid/044802.png',\n",
       " 'https://data1.pokemonkorea.co.kr/newdata/pokedex/mid/044901.png',\n",
       " 'https://data1.pokemonkorea.co.kr/newdata/pokedex/mid/045001.png',\n",
       " 'https://data1.pokemonkorea.co.kr/newdata/pokedex/mid/045101.png',\n",
       " 'https://data1.pokemonkorea.co.kr/newdata/pokedex/mid/045201.png',\n",
       " 'https://data1.pokemonkorea.co.kr/newdata/pokedex/mid/045301.png',\n",
       " 'https://data1.pokemonkorea.co.kr/newdata/pokedex/mid/045401.png',\n",
       " 'https://data1.pokemonkorea.co.kr/newdata/pokedex/mid/045501.png',\n",
       " 'https://data1.pokemonkorea.co.kr/newdata/pokedex/mid/045601.png',\n",
       " 'https://data1.pokemonkorea.co.kr/newdata/pokedex/mid/045701.png',\n",
       " 'https://data1.pokemonkorea.co.kr/newdata/pokedex/mid/045801.png',\n",
       " 'https://data1.pokemonkorea.co.kr/newdata/pokedex/mid/045901.png',\n",
       " 'https://data1.pokemonkorea.co.kr/newdata/pokedex/mid/046001.png',\n",
       " 'https://data1.pokemonkorea.co.kr/newdata/pokedex/mid/046002.png',\n",
       " 'https://data1.pokemonkorea.co.kr/newdata/pokedex/mid/046101.png',\n",
       " 'https://data1.pokemonkorea.co.kr/newdata/pokedex/mid/046201.png',\n",
       " 'https://data1.pokemonkorea.co.kr/newdata/pokedex/mid/046301.png',\n",
       " 'https://data1.pokemonkorea.co.kr/newdata/pokedex/mid/046401.png',\n",
       " 'https://data1.pokemonkorea.co.kr/newdata/pokedex/mid/046501.png',\n",
       " 'https://data1.pokemonkorea.co.kr/newdata/pokedex/mid/046601.png',\n",
       " 'https://data1.pokemonkorea.co.kr/newdata/pokedex/mid/046701.png',\n",
       " 'https://data1.pokemonkorea.co.kr/newdata/pokedex/mid/046801.png',\n",
       " 'https://data1.pokemonkorea.co.kr/newdata/pokedex/mid/046901.png',\n",
       " 'https://data1.pokemonkorea.co.kr/newdata/pokedex/mid/047001.png',\n",
       " 'https://data1.pokemonkorea.co.kr/newdata/pokedex/mid/047101.png',\n",
       " 'https://data1.pokemonkorea.co.kr/newdata/pokedex/mid/047201.png',\n",
       " 'https://data1.pokemonkorea.co.kr/newdata/pokedex/mid/047301.png',\n",
       " 'https://data1.pokemonkorea.co.kr/newdata/pokedex/mid/047401.png',\n",
       " 'https://data1.pokemonkorea.co.kr/newdata/pokedex/mid/047501.png',\n",
       " 'https://data1.pokemonkorea.co.kr/newdata/pokedex/mid/047502.png',\n",
       " 'https://data1.pokemonkorea.co.kr/newdata/pokedex/mid/047601.png',\n",
       " 'https://data1.pokemonkorea.co.kr/newdata/pokedex/mid/047701.png',\n",
       " 'https://data1.pokemonkorea.co.kr/newdata/pokedex/mid/047801.png',\n",
       " 'https://data1.pokemonkorea.co.kr/newdata/pokedex/mid/047901.png',\n",
       " 'https://data1.pokemonkorea.co.kr/newdata/pokedex/mid/047902.png',\n",
       " 'https://data1.pokemonkorea.co.kr/newdata/pokedex/mid/047903.png',\n",
       " 'https://data1.pokemonkorea.co.kr/newdata/pokedex/mid/047904.png',\n",
       " 'https://data1.pokemonkorea.co.kr/newdata/pokedex/mid/047905.png',\n",
       " 'https://data1.pokemonkorea.co.kr/newdata/pokedex/mid/047906.png',\n",
       " 'https://data1.pokemonkorea.co.kr/newdata/pokedex/mid/048001.png',\n",
       " 'https://data1.pokemonkorea.co.kr/newdata/pokedex/mid/048101.png',\n",
       " 'https://data1.pokemonkorea.co.kr/newdata/pokedex/mid/048201.png',\n",
       " 'https://data1.pokemonkorea.co.kr/newdata/pokedex/mid/048301.png',\n",
       " 'https://data1.pokemonkorea.co.kr/newdata/pokedex/mid/048302.png',\n",
       " 'https://data1.pokemonkorea.co.kr/newdata/pokedex/mid/048401.png',\n",
       " 'https://data1.pokemonkorea.co.kr/newdata/pokedex/mid/048402.png',\n",
       " 'https://data1.pokemonkorea.co.kr/newdata/pokedex/mid/048501.png',\n",
       " 'https://data1.pokemonkorea.co.kr/newdata/pokedex/mid/048601.png',\n",
       " 'https://data1.pokemonkorea.co.kr/newdata/pokedex/mid/048701.png',\n",
       " 'https://data1.pokemonkorea.co.kr/newdata/pokedex/mid/048702.png',\n",
       " 'https://data1.pokemonkorea.co.kr/newdata/pokedex/mid/048801.png',\n",
       " 'https://data1.pokemonkorea.co.kr/newdata/pokedex/mid/048901.png',\n",
       " 'https://data1.pokemonkorea.co.kr/newdata/pokedex/mid/049001.png',\n",
       " 'https://data1.pokemonkorea.co.kr/newdata/pokedex/mid/049101.png',\n",
       " 'https://data1.pokemonkorea.co.kr/newdata/pokedex/mid/049201.png',\n",
       " 'https://data1.pokemonkorea.co.kr/newdata/pokedex/mid/049202.png',\n",
       " 'https://data1.pokemonkorea.co.kr/newdata/pokedex/mid/049301.png',\n",
       " 'https://data1.pokemonkorea.co.kr/newdata/pokedex/mid/049401.png',\n",
       " 'https://data1.pokemonkorea.co.kr/newdata/pokedex/mid/049501.png',\n",
       " 'https://data1.pokemonkorea.co.kr/newdata/pokedex/mid/049601.png',\n",
       " 'https://data1.pokemonkorea.co.kr/newdata/pokedex/mid/049701.png',\n",
       " 'https://data1.pokemonkorea.co.kr/newdata/pokedex/mid/049801.png',\n",
       " 'https://data1.pokemonkorea.co.kr/newdata/pokedex/mid/049901.png',\n",
       " 'https://data1.pokemonkorea.co.kr/newdata/pokedex/mid/050001.png',\n",
       " 'https://data1.pokemonkorea.co.kr/newdata/pokedex/mid/050101.png',\n",
       " 'https://data1.pokemonkorea.co.kr/newdata/pokedex/mid/050201.png',\n",
       " 'https://data1.pokemonkorea.co.kr/newdata/pokedex/mid/050301.png',\n",
       " 'https://data1.pokemonkorea.co.kr/newdata/pokedex/mid/050302.png',\n",
       " 'https://data1.pokemonkorea.co.kr/newdata/pokedex/mid/050401.png',\n",
       " 'https://data1.pokemonkorea.co.kr/newdata/pokedex/mid/050501.png',\n",
       " 'https://data1.pokemonkorea.co.kr/newdata/pokedex/mid/050601.png',\n",
       " 'https://data1.pokemonkorea.co.kr/newdata/pokedex/mid/050701.png',\n",
       " 'https://data1.pokemonkorea.co.kr/newdata/pokedex/mid/050801.png',\n",
       " 'https://data1.pokemonkorea.co.kr/newdata/pokedex/mid/050901.png',\n",
       " 'https://data1.pokemonkorea.co.kr/newdata/pokedex/mid/051001.png',\n",
       " 'https://data1.pokemonkorea.co.kr/newdata/pokedex/mid/051101.png',\n",
       " 'https://data1.pokemonkorea.co.kr/newdata/pokedex/mid/051201.png',\n",
       " 'https://data1.pokemonkorea.co.kr/newdata/pokedex/mid/051301.png',\n",
       " 'https://data1.pokemonkorea.co.kr/newdata/pokedex/mid/051401.png',\n",
       " 'https://data1.pokemonkorea.co.kr/newdata/pokedex/mid/051501.png',\n",
       " 'https://data1.pokemonkorea.co.kr/newdata/pokedex/mid/051601.png',\n",
       " 'https://data1.pokemonkorea.co.kr/newdata/pokedex/mid/051701.png',\n",
       " 'https://data1.pokemonkorea.co.kr/newdata/pokedex/mid/051801.png',\n",
       " 'https://data1.pokemonkorea.co.kr/newdata/pokedex/mid/051901.png',\n",
       " 'https://data1.pokemonkorea.co.kr/newdata/pokedex/mid/052001.png',\n",
       " 'https://data1.pokemonkorea.co.kr/newdata/pokedex/mid/052101.png',\n",
       " 'https://data1.pokemonkorea.co.kr/newdata/pokedex/mid/052102.png',\n",
       " 'https://data1.pokemonkorea.co.kr/newdata/pokedex/mid/052201.png',\n",
       " 'https://data1.pokemonkorea.co.kr/newdata/pokedex/mid/052301.png',\n",
       " 'https://data1.pokemonkorea.co.kr/newdata/pokedex/mid/052401.png',\n",
       " 'https://data1.pokemonkorea.co.kr/newdata/pokedex/mid/052501.png',\n",
       " 'https://data1.pokemonkorea.co.kr/newdata/pokedex/mid/052601.png',\n",
       " 'https://data1.pokemonkorea.co.kr/newdata/pokedex/mid/052701.png',\n",
       " 'https://data1.pokemonkorea.co.kr/newdata/pokedex/mid/052801.png',\n",
       " 'https://data1.pokemonkorea.co.kr/newdata/pokedex/mid/052901.png',\n",
       " 'https://data1.pokemonkorea.co.kr/newdata/pokedex/mid/053001.png',\n",
       " 'https://data1.pokemonkorea.co.kr/newdata/pokedex/mid/053101.png',\n",
       " 'https://data1.pokemonkorea.co.kr/newdata/pokedex/mid/053102.png',\n",
       " 'https://data1.pokemonkorea.co.kr/newdata/pokedex/mid/053201.png',\n",
       " 'https://data1.pokemonkorea.co.kr/newdata/pokedex/mid/053301.png',\n",
       " 'https://data1.pokemonkorea.co.kr/newdata/pokedex/mid/053401.png',\n",
       " 'https://data1.pokemonkorea.co.kr/newdata/pokedex/mid/053501.png',\n",
       " 'https://data1.pokemonkorea.co.kr/newdata/pokedex/mid/053601.png',\n",
       " 'https://data1.pokemonkorea.co.kr/newdata/pokedex/mid/053701.png',\n",
       " 'https://data1.pokemonkorea.co.kr/newdata/pokedex/mid/053801.png',\n",
       " 'https://data1.pokemonkorea.co.kr/newdata/pokedex/mid/053901.png',\n",
       " 'https://data1.pokemonkorea.co.kr/newdata/pokedex/mid/054001.png',\n",
       " 'https://data1.pokemonkorea.co.kr/newdata/pokedex/mid/054101.png',\n",
       " 'https://data1.pokemonkorea.co.kr/newdata/pokedex/mid/054201.png',\n",
       " 'https://data1.pokemonkorea.co.kr/newdata/pokedex/mid/054301.png',\n",
       " 'https://data1.pokemonkorea.co.kr/newdata/pokedex/mid/054401.png',\n",
       " 'https://data1.pokemonkorea.co.kr/newdata/pokedex/mid/054501.png',\n",
       " 'https://data1.pokemonkorea.co.kr/newdata/pokedex/mid/054601.png',\n",
       " 'https://data1.pokemonkorea.co.kr/newdata/pokedex/mid/054701.png',\n",
       " 'https://data1.pokemonkorea.co.kr/newdata/pokedex/mid/054801.png',\n",
       " 'https://data1.pokemonkorea.co.kr/newdata/pokedex/mid/054901.png',\n",
       " 'https://data1.pokemonkorea.co.kr/newdata/pokedex/mid/054902.png',\n",
       " 'https://data1.pokemonkorea.co.kr/newdata/pokedex/mid/055001.png',\n",
       " 'https://data1.pokemonkorea.co.kr/newdata/pokedex/mid/055002.png',\n",
       " 'https://data1.pokemonkorea.co.kr/newdata/pokedex/mid/055003.png',\n",
       " 'https://data1.pokemonkorea.co.kr/newdata/pokedex/mid/055101.png',\n",
       " 'https://data1.pokemonkorea.co.kr/newdata/pokedex/mid/055201.png',\n",
       " 'https://data1.pokemonkorea.co.kr/newdata/pokedex/mid/055301.png',\n",
       " 'https://data1.pokemonkorea.co.kr/newdata/pokedex/mid/055401.png',\n",
       " 'https://data1.pokemonkorea.co.kr/newdata/pokedex/mid/055402.png',\n",
       " 'https://data1.pokemonkorea.co.kr/newdata/pokedex/mid/055501.png',\n",
       " 'https://data1.pokemonkorea.co.kr/newdata/pokedex/mid/055502.png',\n",
       " 'https://data1.pokemonkorea.co.kr/newdata/pokedex/mid/055503.png',\n",
       " 'https://data1.pokemonkorea.co.kr/newdata/pokedex/mid/055504.png',\n",
       " 'https://data1.pokemonkorea.co.kr/newdata/pokedex/mid/055601.png',\n",
       " 'https://data1.pokemonkorea.co.kr/newdata/pokedex/mid/055701.png',\n",
       " 'https://data1.pokemonkorea.co.kr/newdata/pokedex/mid/055801.png',\n",
       " 'https://data1.pokemonkorea.co.kr/newdata/pokedex/mid/055901.png',\n",
       " 'https://data1.pokemonkorea.co.kr/newdata/pokedex/mid/056001.png',\n",
       " 'https://data1.pokemonkorea.co.kr/newdata/pokedex/mid/056101.png',\n",
       " 'https://data1.pokemonkorea.co.kr/newdata/pokedex/mid/056201.png',\n",
       " 'https://data1.pokemonkorea.co.kr/newdata/pokedex/mid/056202.png',\n",
       " 'https://data1.pokemonkorea.co.kr/newdata/pokedex/mid/056301.png',\n",
       " 'https://data1.pokemonkorea.co.kr/newdata/pokedex/mid/056401.png',\n",
       " 'https://data1.pokemonkorea.co.kr/newdata/pokedex/mid/056501.png',\n",
       " 'https://data1.pokemonkorea.co.kr/newdata/pokedex/mid/056601.png',\n",
       " 'https://data1.pokemonkorea.co.kr/newdata/pokedex/mid/056701.png',\n",
       " 'https://data1.pokemonkorea.co.kr/newdata/pokedex/mid/056801.png',\n",
       " 'https://data1.pokemonkorea.co.kr/newdata/pokedex/mid/056901.png',\n",
       " 'https://data1.pokemonkorea.co.kr/newdata/pokedex/mid/056902.png',\n",
       " 'https://data1.pokemonkorea.co.kr/newdata/pokedex/mid/057001.png',\n",
       " 'https://data1.pokemonkorea.co.kr/newdata/pokedex/mid/057002.png',\n",
       " 'https://data1.pokemonkorea.co.kr/newdata/pokedex/mid/057101.png',\n",
       " 'https://data1.pokemonkorea.co.kr/newdata/pokedex/mid/057102.png',\n",
       " 'https://data1.pokemonkorea.co.kr/newdata/pokedex/mid/057201.png',\n",
       " 'https://data1.pokemonkorea.co.kr/newdata/pokedex/mid/057301.png',\n",
       " 'https://data1.pokemonkorea.co.kr/newdata/pokedex/mid/057401.png',\n",
       " 'https://data1.pokemonkorea.co.kr/newdata/pokedex/mid/057501.png',\n",
       " 'https://data1.pokemonkorea.co.kr/newdata/pokedex/mid/057601.png',\n",
       " 'https://data1.pokemonkorea.co.kr/newdata/pokedex/mid/057701.png',\n",
       " 'https://data1.pokemonkorea.co.kr/newdata/pokedex/mid/057801.png',\n",
       " 'https://data1.pokemonkorea.co.kr/newdata/pokedex/mid/057901.png',\n",
       " 'https://data1.pokemonkorea.co.kr/newdata/pokedex/mid/058001.png',\n",
       " 'https://data1.pokemonkorea.co.kr/newdata/pokedex/mid/058101.png',\n",
       " 'https://data1.pokemonkorea.co.kr/newdata/pokedex/mid/058201.png',\n",
       " 'https://data1.pokemonkorea.co.kr/newdata/pokedex/mid/058301.png',\n",
       " 'https://data1.pokemonkorea.co.kr/newdata/pokedex/mid/058401.png',\n",
       " 'https://data1.pokemonkorea.co.kr/newdata/pokedex/mid/058501.png',\n",
       " 'https://data1.pokemonkorea.co.kr/newdata/pokedex/mid/058502.png',\n",
       " 'https://data1.pokemonkorea.co.kr/newdata/pokedex/mid/058503.png',\n",
       " 'https://data1.pokemonkorea.co.kr/newdata/pokedex/mid/058504.png',\n",
       " 'https://data1.pokemonkorea.co.kr/newdata/pokedex/mid/058601.png',\n",
       " 'https://data1.pokemonkorea.co.kr/newdata/pokedex/mid/058602.png',\n",
       " 'https://data1.pokemonkorea.co.kr/newdata/pokedex/mid/058603.png',\n",
       " 'https://data1.pokemonkorea.co.kr/newdata/pokedex/mid/058604.png',\n",
       " 'https://data1.pokemonkorea.co.kr/newdata/pokedex/mid/058701.png',\n",
       " 'https://data1.pokemonkorea.co.kr/newdata/pokedex/mid/058801.png',\n",
       " 'https://data1.pokemonkorea.co.kr/newdata/pokedex/mid/058901.png',\n",
       " 'https://data1.pokemonkorea.co.kr/newdata/pokedex/mid/059001.png',\n",
       " 'https://data1.pokemonkorea.co.kr/newdata/pokedex/mid/059101.png',\n",
       " 'https://data1.pokemonkorea.co.kr/newdata/pokedex/mid/059201.png',\n",
       " 'https://data1.pokemonkorea.co.kr/newdata/pokedex/mid/059202.png',\n",
       " 'https://data1.pokemonkorea.co.kr/newdata/pokedex/mid/059301.png',\n",
       " 'https://data1.pokemonkorea.co.kr/newdata/pokedex/mid/059302.png',\n",
       " 'https://data1.pokemonkorea.co.kr/newdata/pokedex/mid/059401.png',\n",
       " 'https://data1.pokemonkorea.co.kr/newdata/pokedex/mid/059501.png',\n",
       " 'https://data1.pokemonkorea.co.kr/newdata/pokedex/mid/059601.png',\n",
       " 'https://data1.pokemonkorea.co.kr/newdata/pokedex/mid/059701.png',\n",
       " 'https://data1.pokemonkorea.co.kr/newdata/pokedex/mid/059801.png',\n",
       " 'https://data1.pokemonkorea.co.kr/newdata/pokedex/mid/059901.png',\n",
       " 'https://data1.pokemonkorea.co.kr/newdata/pokedex/mid/060001.png',\n",
       " 'https://data1.pokemonkorea.co.kr/newdata/pokedex/mid/060101.png',\n",
       " 'https://data1.pokemonkorea.co.kr/newdata/pokedex/mid/060201.png',\n",
       " 'https://data1.pokemonkorea.co.kr/newdata/pokedex/mid/060301.png',\n",
       " 'https://data1.pokemonkorea.co.kr/newdata/pokedex/mid/060401.png',\n",
       " 'https://data1.pokemonkorea.co.kr/newdata/pokedex/mid/060501.png',\n",
       " 'https://data1.pokemonkorea.co.kr/newdata/pokedex/mid/060601.png',\n",
       " 'https://data1.pokemonkorea.co.kr/newdata/pokedex/mid/060701.png',\n",
       " 'https://data1.pokemonkorea.co.kr/newdata/pokedex/mid/060801.png',\n",
       " 'https://data1.pokemonkorea.co.kr/newdata/pokedex/mid/060901.png',\n",
       " 'https://data1.pokemonkorea.co.kr/newdata/pokedex/mid/061001.png',\n",
       " 'https://data1.pokemonkorea.co.kr/newdata/pokedex/mid/061101.png',\n",
       " 'https://data1.pokemonkorea.co.kr/newdata/pokedex/mid/061201.png',\n",
       " 'https://data1.pokemonkorea.co.kr/newdata/pokedex/mid/061301.png',\n",
       " 'https://data1.pokemonkorea.co.kr/newdata/pokedex/mid/061401.png',\n",
       " 'https://data1.pokemonkorea.co.kr/newdata/pokedex/mid/061501.png',\n",
       " 'https://data1.pokemonkorea.co.kr/newdata/pokedex/mid/061601.png',\n",
       " 'https://data1.pokemonkorea.co.kr/newdata/pokedex/mid/061701.png',\n",
       " 'https://data1.pokemonkorea.co.kr/newdata/pokedex/mid/061801.png',\n",
       " 'https://data1.pokemonkorea.co.kr/newdata/pokedex/mid/061802.png',\n",
       " 'https://data1.pokemonkorea.co.kr/newdata/pokedex/mid/061901.png',\n",
       " 'https://data1.pokemonkorea.co.kr/newdata/pokedex/mid/062001.png',\n",
       " 'https://data1.pokemonkorea.co.kr/newdata/pokedex/mid/062101.png',\n",
       " 'https://data1.pokemonkorea.co.kr/newdata/pokedex/mid/062201.png',\n",
       " 'https://data1.pokemonkorea.co.kr/newdata/pokedex/mid/062301.png',\n",
       " 'https://data1.pokemonkorea.co.kr/newdata/pokedex/mid/062401.png',\n",
       " 'https://data1.pokemonkorea.co.kr/newdata/pokedex/mid/062501.png',\n",
       " 'https://data1.pokemonkorea.co.kr/newdata/pokedex/mid/062601.png',\n",
       " 'https://data1.pokemonkorea.co.kr/newdata/pokedex/mid/062701.png',\n",
       " 'https://data1.pokemonkorea.co.kr/newdata/pokedex/mid/062801.png',\n",
       " 'https://data1.pokemonkorea.co.kr/newdata/pokedex/mid/062802.png',\n",
       " 'https://data1.pokemonkorea.co.kr/newdata/pokedex/mid/062901.png',\n",
       " 'https://data1.pokemonkorea.co.kr/newdata/pokedex/mid/063001.png',\n",
       " 'https://data1.pokemonkorea.co.kr/newdata/pokedex/mid/063101.png',\n",
       " 'https://data1.pokemonkorea.co.kr/newdata/pokedex/mid/063201.png',\n",
       " 'https://data1.pokemonkorea.co.kr/newdata/pokedex/mid/063301.png',\n",
       " 'https://data1.pokemonkorea.co.kr/newdata/pokedex/mid/063401.png',\n",
       " 'https://data1.pokemonkorea.co.kr/newdata/pokedex/mid/063501.png',\n",
       " 'https://data1.pokemonkorea.co.kr/newdata/pokedex/mid/063601.png',\n",
       " 'https://data1.pokemonkorea.co.kr/newdata/pokedex/mid/063701.png',\n",
       " 'https://data1.pokemonkorea.co.kr/newdata/pokedex/mid/063801.png',\n",
       " 'https://data1.pokemonkorea.co.kr/newdata/pokedex/mid/063901.png',\n",
       " 'https://data1.pokemonkorea.co.kr/newdata/pokedex/mid/064001.png',\n",
       " 'https://data1.pokemonkorea.co.kr/newdata/pokedex/mid/064101.png',\n",
       " 'https://data1.pokemonkorea.co.kr/newdata/pokedex/mid/064102.png',\n",
       " 'https://data1.pokemonkorea.co.kr/newdata/pokedex/mid/064201.png',\n",
       " 'https://data1.pokemonkorea.co.kr/newdata/pokedex/mid/064202.png',\n",
       " 'https://data1.pokemonkorea.co.kr/newdata/pokedex/mid/064301.png',\n",
       " 'https://data1.pokemonkorea.co.kr/newdata/pokedex/mid/064401.png',\n",
       " 'https://data1.pokemonkorea.co.kr/newdata/pokedex/mid/064501.png',\n",
       " 'https://data1.pokemonkorea.co.kr/newdata/pokedex/mid/064502.png',\n",
       " 'https://data1.pokemonkorea.co.kr/newdata/pokedex/mid/064601.png',\n",
       " 'https://data1.pokemonkorea.co.kr/newdata/pokedex/mid/064602.png',\n",
       " 'https://data1.pokemonkorea.co.kr/newdata/pokedex/mid/064603.png',\n",
       " 'https://data1.pokemonkorea.co.kr/newdata/pokedex/mid/064701.png',\n",
       " 'https://data1.pokemonkorea.co.kr/newdata/pokedex/mid/064702.png',\n",
       " 'https://data1.pokemonkorea.co.kr/newdata/pokedex/mid/064801.png',\n",
       " 'https://data1.pokemonkorea.co.kr/newdata/pokedex/mid/064802.png',\n",
       " 'https://data1.pokemonkorea.co.kr/newdata/pokedex/mid/064901.png',\n",
       " 'https://data1.pokemonkorea.co.kr/newdata/pokedex/mid/065001.png',\n",
       " 'https://data1.pokemonkorea.co.kr/newdata/pokedex/mid/065101.png',\n",
       " 'https://data1.pokemonkorea.co.kr/newdata/pokedex/mid/065201.png',\n",
       " 'https://data1.pokemonkorea.co.kr/newdata/pokedex/mid/065301.png',\n",
       " 'https://data1.pokemonkorea.co.kr/newdata/pokedex/mid/065401.png',\n",
       " 'https://data1.pokemonkorea.co.kr/newdata/pokedex/mid/065501.png',\n",
       " 'https://data1.pokemonkorea.co.kr/newdata/pokedex/mid/065601.png',\n",
       " 'https://data1.pokemonkorea.co.kr/newdata/pokedex/mid/065701.png',\n",
       " 'https://data1.pokemonkorea.co.kr/newdata/pokedex/mid/065801.png',\n",
       " 'https://data1.pokemonkorea.co.kr/newdata/pokedex/mid/065901.png',\n",
       " 'https://data1.pokemonkorea.co.kr/newdata/pokedex/mid/066001.png',\n",
       " 'https://data1.pokemonkorea.co.kr/newdata/pokedex/mid/066101.png',\n",
       " 'https://data1.pokemonkorea.co.kr/newdata/pokedex/mid/066201.png',\n",
       " 'https://data1.pokemonkorea.co.kr/newdata/pokedex/mid/066301.png',\n",
       " 'https://data1.pokemonkorea.co.kr/newdata/pokedex/mid/066401.png',\n",
       " 'https://data1.pokemonkorea.co.kr/newdata/pokedex/mid/066501.png',\n",
       " 'https://data1.pokemonkorea.co.kr/newdata/pokedex/mid/066601.png',\n",
       " 'https://data1.pokemonkorea.co.kr/newdata/pokedex/mid/066701.png',\n",
       " 'https://data1.pokemonkorea.co.kr/newdata/pokedex/mid/066801.png',\n",
       " 'https://data1.pokemonkorea.co.kr/newdata/pokedex/mid/066802.png',\n",
       " 'https://data1.pokemonkorea.co.kr/newdata/pokedex/mid/066901.png',\n",
       " 'https://data1.pokemonkorea.co.kr/newdata/pokedex/mid/067001.png',\n",
       " 'https://data1.pokemonkorea.co.kr/newdata/pokedex/mid/067101.png',\n",
       " 'https://data1.pokemonkorea.co.kr/newdata/pokedex/mid/067201.png',\n",
       " 'https://data1.pokemonkorea.co.kr/newdata/pokedex/mid/067301.png',\n",
       " 'https://data1.pokemonkorea.co.kr/newdata/pokedex/mid/067401.png',\n",
       " 'https://data1.pokemonkorea.co.kr/newdata/pokedex/mid/067501.png',\n",
       " 'https://data1.pokemonkorea.co.kr/newdata/pokedex/mid/067601.png',\n",
       " 'https://data1.pokemonkorea.co.kr/newdata/pokedex/mid/067701.png',\n",
       " 'https://data1.pokemonkorea.co.kr/newdata/pokedex/mid/067801.png',\n",
       " 'https://data1.pokemonkorea.co.kr/newdata/pokedex/mid/067802.png',\n",
       " 'https://data1.pokemonkorea.co.kr/newdata/pokedex/mid/067901.png',\n",
       " 'https://data1.pokemonkorea.co.kr/newdata/pokedex/mid/068001.png',\n",
       " 'https://data1.pokemonkorea.co.kr/newdata/pokedex/mid/068101.png',\n",
       " 'https://data1.pokemonkorea.co.kr/newdata/pokedex/mid/068102.png',\n",
       " 'https://data1.pokemonkorea.co.kr/newdata/pokedex/mid/068201.png',\n",
       " 'https://data1.pokemonkorea.co.kr/newdata/pokedex/mid/068301.png',\n",
       " 'https://data1.pokemonkorea.co.kr/newdata/pokedex/mid/068401.png',\n",
       " 'https://data1.pokemonkorea.co.kr/newdata/pokedex/mid/068501.png',\n",
       " 'https://data1.pokemonkorea.co.kr/newdata/pokedex/mid/068601.png',\n",
       " 'https://data1.pokemonkorea.co.kr/newdata/pokedex/mid/068701.png',\n",
       " 'https://data1.pokemonkorea.co.kr/newdata/pokedex/mid/068801.png',\n",
       " 'https://data1.pokemonkorea.co.kr/newdata/pokedex/mid/068901.png',\n",
       " 'https://data1.pokemonkorea.co.kr/newdata/pokedex/mid/069001.png',\n",
       " 'https://data1.pokemonkorea.co.kr/newdata/pokedex/mid/069101.png',\n",
       " 'https://data1.pokemonkorea.co.kr/newdata/pokedex/mid/069201.png',\n",
       " 'https://data1.pokemonkorea.co.kr/newdata/pokedex/mid/069301.png',\n",
       " 'https://data1.pokemonkorea.co.kr/newdata/pokedex/mid/069401.png',\n",
       " 'https://data1.pokemonkorea.co.kr/newdata/pokedex/mid/069501.png',\n",
       " 'https://data1.pokemonkorea.co.kr/newdata/pokedex/mid/069601.png',\n",
       " 'https://data1.pokemonkorea.co.kr/newdata/pokedex/mid/069701.png',\n",
       " 'https://data1.pokemonkorea.co.kr/newdata/pokedex/mid/069801.png',\n",
       " 'https://data1.pokemonkorea.co.kr/newdata/pokedex/mid/069901.png',\n",
       " 'https://data1.pokemonkorea.co.kr/newdata/pokedex/mid/070001.png',\n",
       " 'https://data1.pokemonkorea.co.kr/newdata/pokedex/mid/070101.png',\n",
       " 'https://data1.pokemonkorea.co.kr/newdata/pokedex/mid/070201.png',\n",
       " 'https://data1.pokemonkorea.co.kr/newdata/pokedex/mid/070301.png',\n",
       " 'https://data1.pokemonkorea.co.kr/newdata/pokedex/mid/070401.png',\n",
       " 'https://data1.pokemonkorea.co.kr/newdata/pokedex/mid/070501.png',\n",
       " 'https://data1.pokemonkorea.co.kr/newdata/pokedex/mid/070502.png',\n",
       " 'https://data1.pokemonkorea.co.kr/newdata/pokedex/mid/070601.png',\n",
       " 'https://data1.pokemonkorea.co.kr/newdata/pokedex/mid/070602.png',\n",
       " 'https://data1.pokemonkorea.co.kr/newdata/pokedex/mid/070701.png',\n",
       " 'https://data1.pokemonkorea.co.kr/newdata/pokedex/mid/070801.png',\n",
       " 'https://data1.pokemonkorea.co.kr/newdata/pokedex/mid/070901.png',\n",
       " 'https://data1.pokemonkorea.co.kr/newdata/pokedex/mid/071001.png',\n",
       " 'https://data1.pokemonkorea.co.kr/newdata/pokedex/mid/071101.png',\n",
       " 'https://data1.pokemonkorea.co.kr/newdata/pokedex/mid/071201.png',\n",
       " 'https://data1.pokemonkorea.co.kr/newdata/pokedex/mid/071301.png',\n",
       " 'https://data1.pokemonkorea.co.kr/newdata/pokedex/mid/071302.png',\n",
       " 'https://data1.pokemonkorea.co.kr/newdata/pokedex/mid/071401.png',\n",
       " 'https://data1.pokemonkorea.co.kr/newdata/pokedex/mid/071501.png',\n",
       " 'https://data1.pokemonkorea.co.kr/newdata/pokedex/mid/071601.png',\n",
       " 'https://data1.pokemonkorea.co.kr/newdata/pokedex/mid/071701.png',\n",
       " 'https://data1.pokemonkorea.co.kr/newdata/pokedex/mid/071801.png',\n",
       " 'https://data1.pokemonkorea.co.kr/newdata/pokedex/mid/071802.png',\n",
       " 'https://data1.pokemonkorea.co.kr/newdata/pokedex/mid/071803.png',\n",
       " 'https://data1.pokemonkorea.co.kr/newdata/pokedex/mid/071901.png',\n",
       " 'https://data1.pokemonkorea.co.kr/newdata/pokedex/mid/071902.png',\n",
       " 'https://data1.pokemonkorea.co.kr/newdata/pokedex/mid/072001.png',\n",
       " 'https://data1.pokemonkorea.co.kr/newdata/pokedex/mid/072002.png',\n",
       " 'https://data1.pokemonkorea.co.kr/newdata/pokedex/mid/072101.png',\n",
       " 'https://data1.pokemonkorea.co.kr/newdata/pokedex/mid/072201.png',\n",
       " 'https://data1.pokemonkorea.co.kr/newdata/pokedex/mid/072301.png',\n",
       " 'https://data1.pokemonkorea.co.kr/newdata/pokedex/mid/072401.png',\n",
       " 'https://data1.pokemonkorea.co.kr/newdata/pokedex/mid/072402.png',\n",
       " 'https://data1.pokemonkorea.co.kr/newdata/pokedex/mid/072501.png',\n",
       " 'https://data1.pokemonkorea.co.kr/newdata/pokedex/mid/072601.png',\n",
       " 'https://data1.pokemonkorea.co.kr/newdata/pokedex/mid/072701.png',\n",
       " 'https://data1.pokemonkorea.co.kr/newdata/pokedex/mid/072801.png',\n",
       " 'https://data1.pokemonkorea.co.kr/newdata/pokedex/mid/072901.png',\n",
       " 'https://data1.pokemonkorea.co.kr/newdata/pokedex/mid/073001.png',\n",
       " 'https://data1.pokemonkorea.co.kr/newdata/pokedex/mid/073101.png',\n",
       " 'https://data1.pokemonkorea.co.kr/newdata/pokedex/mid/073201.png',\n",
       " 'https://data1.pokemonkorea.co.kr/newdata/pokedex/mid/073301.png',\n",
       " 'https://data1.pokemonkorea.co.kr/newdata/pokedex/mid/073401.png',\n",
       " 'https://data1.pokemonkorea.co.kr/newdata/pokedex/mid/073501.png',\n",
       " 'https://data1.pokemonkorea.co.kr/newdata/pokedex/mid/073601.png',\n",
       " 'https://data1.pokemonkorea.co.kr/newdata/pokedex/mid/073701.png',\n",
       " 'https://data1.pokemonkorea.co.kr/newdata/pokedex/mid/073801.png',\n",
       " 'https://data1.pokemonkorea.co.kr/newdata/pokedex/mid/073901.png',\n",
       " 'https://data1.pokemonkorea.co.kr/newdata/pokedex/mid/074001.png',\n",
       " 'https://data1.pokemonkorea.co.kr/newdata/pokedex/mid/074101.png',\n",
       " 'https://data1.pokemonkorea.co.kr/newdata/pokedex/mid/074102.png',\n",
       " 'https://data1.pokemonkorea.co.kr/newdata/pokedex/mid/074103.png',\n",
       " 'https://data1.pokemonkorea.co.kr/newdata/pokedex/mid/074104.png',\n",
       " 'https://data1.pokemonkorea.co.kr/newdata/pokedex/mid/074201.png',\n",
       " 'https://data1.pokemonkorea.co.kr/newdata/pokedex/mid/074301.png',\n",
       " 'https://data1.pokemonkorea.co.kr/newdata/pokedex/mid/074401.png',\n",
       " 'https://data1.pokemonkorea.co.kr/newdata/pokedex/mid/074501.png',\n",
       " 'https://data1.pokemonkorea.co.kr/newdata/pokedex/mid/074502.png',\n",
       " 'https://data1.pokemonkorea.co.kr/newdata/pokedex/mid/074503.png',\n",
       " 'https://data1.pokemonkorea.co.kr/newdata/pokedex/mid/074601.png',\n",
       " 'https://data1.pokemonkorea.co.kr/newdata/pokedex/mid/074602.png',\n",
       " 'https://data1.pokemonkorea.co.kr/newdata/pokedex/mid/074701.png',\n",
       " 'https://data1.pokemonkorea.co.kr/newdata/pokedex/mid/074801.png',\n",
       " 'https://data1.pokemonkorea.co.kr/newdata/pokedex/mid/074901.png',\n",
       " 'https://data1.pokemonkorea.co.kr/newdata/pokedex/mid/075001.png',\n",
       " 'https://data1.pokemonkorea.co.kr/newdata/pokedex/mid/075101.png',\n",
       " 'https://data1.pokemonkorea.co.kr/newdata/pokedex/mid/075201.png',\n",
       " 'https://data1.pokemonkorea.co.kr/newdata/pokedex/mid/075301.png',\n",
       " 'https://data1.pokemonkorea.co.kr/newdata/pokedex/mid/075401.png',\n",
       " 'https://data1.pokemonkorea.co.kr/newdata/pokedex/mid/075501.png',\n",
       " 'https://data1.pokemonkorea.co.kr/newdata/pokedex/mid/075601.png',\n",
       " 'https://data1.pokemonkorea.co.kr/newdata/pokedex/mid/075701.png',\n",
       " 'https://data1.pokemonkorea.co.kr/newdata/pokedex/mid/075801.png',\n",
       " 'https://data1.pokemonkorea.co.kr/newdata/pokedex/mid/075901.png',\n",
       " 'https://data1.pokemonkorea.co.kr/newdata/pokedex/mid/076001.png',\n",
       " 'https://data1.pokemonkorea.co.kr/newdata/pokedex/mid/076101.png',\n",
       " 'https://data1.pokemonkorea.co.kr/newdata/pokedex/mid/076201.png',\n",
       " 'https://data1.pokemonkorea.co.kr/newdata/pokedex/mid/076301.png',\n",
       " 'https://data1.pokemonkorea.co.kr/newdata/pokedex/mid/076401.png',\n",
       " 'https://data1.pokemonkorea.co.kr/newdata/pokedex/mid/076501.png',\n",
       " 'https://data1.pokemonkorea.co.kr/newdata/pokedex/mid/076601.png',\n",
       " 'https://data1.pokemonkorea.co.kr/newdata/pokedex/mid/076701.png',\n",
       " 'https://data1.pokemonkorea.co.kr/newdata/pokedex/mid/076801.png',\n",
       " 'https://data1.pokemonkorea.co.kr/newdata/pokedex/mid/076901.png',\n",
       " 'https://data1.pokemonkorea.co.kr/newdata/pokedex/mid/077001.png',\n",
       " 'https://data1.pokemonkorea.co.kr/newdata/pokedex/mid/077101.png',\n",
       " 'https://data1.pokemonkorea.co.kr/newdata/pokedex/mid/077201.png',\n",
       " 'https://data1.pokemonkorea.co.kr/newdata/pokedex/mid/077301.png',\n",
       " 'https://data1.pokemonkorea.co.kr/newdata/pokedex/mid/077401.png',\n",
       " 'https://data1.pokemonkorea.co.kr/newdata/pokedex/mid/077402.png',\n",
       " 'https://data1.pokemonkorea.co.kr/newdata/pokedex/mid/077501.png',\n",
       " 'https://data1.pokemonkorea.co.kr/newdata/pokedex/mid/077601.png',\n",
       " 'https://data1.pokemonkorea.co.kr/newdata/pokedex/mid/077701.png',\n",
       " 'https://data1.pokemonkorea.co.kr/newdata/pokedex/mid/077801.png',\n",
       " 'https://data1.pokemonkorea.co.kr/newdata/pokedex/mid/077901.png',\n",
       " 'https://data1.pokemonkorea.co.kr/newdata/pokedex/mid/078001.png',\n",
       " 'https://data1.pokemonkorea.co.kr/newdata/pokedex/mid/078101.png',\n",
       " 'https://data1.pokemonkorea.co.kr/newdata/pokedex/mid/078201.png',\n",
       " 'https://data1.pokemonkorea.co.kr/newdata/pokedex/mid/078301.png',\n",
       " 'https://data1.pokemonkorea.co.kr/newdata/pokedex/mid/078401.png',\n",
       " 'https://data1.pokemonkorea.co.kr/newdata/pokedex/mid/078501.png',\n",
       " 'https://data1.pokemonkorea.co.kr/newdata/pokedex/mid/078601.png',\n",
       " 'https://data1.pokemonkorea.co.kr/newdata/pokedex/mid/078701.png',\n",
       " 'https://data1.pokemonkorea.co.kr/newdata/pokedex/mid/078801.png',\n",
       " 'https://data1.pokemonkorea.co.kr/newdata/pokedex/mid/078901.png',\n",
       " 'https://data1.pokemonkorea.co.kr/newdata/pokedex/mid/079001.png',\n",
       " 'https://data1.pokemonkorea.co.kr/newdata/pokedex/mid/079101.png',\n",
       " 'https://data1.pokemonkorea.co.kr/newdata/pokedex/mid/079201.png',\n",
       " 'https://data1.pokemonkorea.co.kr/newdata/pokedex/mid/079301.png',\n",
       " 'https://data1.pokemonkorea.co.kr/newdata/pokedex/mid/079401.png',\n",
       " 'https://data1.pokemonkorea.co.kr/newdata/pokedex/mid/079501.png',\n",
       " 'https://data1.pokemonkorea.co.kr/newdata/pokedex/mid/079601.png',\n",
       " 'https://data1.pokemonkorea.co.kr/newdata/pokedex/mid/079701.png',\n",
       " 'https://data1.pokemonkorea.co.kr/newdata/pokedex/mid/079801.png',\n",
       " 'https://data1.pokemonkorea.co.kr/newdata/pokedex/mid/079901.png',\n",
       " 'https://data1.pokemonkorea.co.kr/newdata/pokedex/mid/080001.png',\n",
       " 'https://data1.pokemonkorea.co.kr/newdata/pokedex/mid/080002.png',\n",
       " 'https://data1.pokemonkorea.co.kr/newdata/pokedex/mid/080003.png',\n",
       " 'https://data1.pokemonkorea.co.kr/newdata/pokedex/mid/080004.png',\n",
       " 'https://data1.pokemonkorea.co.kr/newdata/pokedex/mid/080101.png',\n",
       " 'https://data1.pokemonkorea.co.kr/newdata/pokedex/mid/080201.png',\n",
       " 'https://data1.pokemonkorea.co.kr/newdata/pokedex/mid/080301.png',\n",
       " 'https://data1.pokemonkorea.co.kr/newdata/pokedex/mid/080401.png',\n",
       " 'https://data1.pokemonkorea.co.kr/newdata/pokedex/mid/080501.png',\n",
       " 'https://data1.pokemonkorea.co.kr/newdata/pokedex/mid/080601.png',\n",
       " 'https://data1.pokemonkorea.co.kr/newdata/pokedex/mid/080701.png',\n",
       " 'https://data1.pokemonkorea.co.kr/newdata/pokedex/mid/080801.png',\n",
       " 'https://data1.pokemonkorea.co.kr/newdata/pokedex/mid/080901.png',\n",
       " 'https://data1.pokemonkorea.co.kr/newdata/pokedex/mid/080902.png',\n",
       " 'https://data1.pokemonkorea.co.kr/newdata/pokedex/mid/081001.png',\n",
       " 'https://data1.pokemonkorea.co.kr/newdata/pokedex/mid/081101.png',\n",
       " 'https://data1.pokemonkorea.co.kr/newdata/pokedex/mid/081201.png',\n",
       " 'https://data1.pokemonkorea.co.kr/newdata/pokedex/mid/081202.png',\n",
       " 'https://data1.pokemonkorea.co.kr/newdata/pokedex/mid/081301.png',\n",
       " 'https://data1.pokemonkorea.co.kr/newdata/pokedex/mid/081401.png',\n",
       " 'https://data1.pokemonkorea.co.kr/newdata/pokedex/mid/081501.png',\n",
       " 'https://data1.pokemonkorea.co.kr/newdata/pokedex/mid/081502.png',\n",
       " 'https://data1.pokemonkorea.co.kr/newdata/pokedex/mid/081601.png',\n",
       " 'https://data1.pokemonkorea.co.kr/newdata/pokedex/mid/081701.png',\n",
       " 'https://data1.pokemonkorea.co.kr/newdata/pokedex/mid/081801.png',\n",
       " 'https://data1.pokemonkorea.co.kr/newdata/pokedex/mid/081802.png',\n",
       " 'https://data1.pokemonkorea.co.kr/newdata/pokedex/mid/081901.png',\n",
       " 'https://data1.pokemonkorea.co.kr/newdata/pokedex/mid/082001.png',\n",
       " 'https://data1.pokemonkorea.co.kr/newdata/pokedex/mid/082101.png',\n",
       " ...]"
      ]
     },
     "execution_count": 180,
     "metadata": {},
     "output_type": "execute_result"
    }
   ],
   "source": [
    "# 속성을 가지고 오는 함수\n",
    "# get_attribute('')  \n",
    "\n",
    "url_list = [i.get_attribute('src') for i in tqdm(get_All_IMG)]\n",
    "\n",
    "url_list"
   ]
  },
  {
   "cell_type": "code",
   "execution_count": 181,
   "id": "893da667-f295-4e1f-9a07-4bfd06043f68",
   "metadata": {},
   "outputs": [],
   "source": [
    "driver.close()"
   ]
  },
  {
   "cell_type": "code",
   "execution_count": 182,
   "id": "e59c72c9-5eaf-422c-871e-5a17d69aaba5",
   "metadata": {},
   "outputs": [
    {
     "name": "stdout",
     "output_type": "stream",
     "text": [
      "이미지 수 : 1252\n",
      "이름의 수 : 1252\n"
     ]
    }
   ],
   "source": [
    "print(f'이미지 수 : {len(url_list)}')\n",
    "print(f'이름의 수 : {len(get_All_Name)}')"
   ]
  },
  {
   "cell_type": "code",
   "execution_count": 183,
   "id": "891116a9-8501-4f70-a6d1-ebd88659e988",
   "metadata": {},
   "outputs": [],
   "source": [
    "# url을 활용하여 이미지 다운로들\n",
    "from urllib.request import urlretrieve"
   ]
  },
  {
   "cell_type": "code",
   "execution_count": null,
   "id": "7b359cea-f7fa-4b6b-be07-1424cda057c9",
   "metadata": {
    "collapsed": true,
    "jupyter": {
     "outputs_hidden": true
    }
   },
   "outputs": [
    {
     "name": "stderr",
     "output_type": "stream",
     "text": [
      "  0%|▎                                                                                | 5/1252 [00:00<03:32,  5.87it/s]"
     ]
    },
    {
     "name": "stdout",
     "output_type": "stream",
     "text": [
      "이상해꽃의 이름이 중복이라 수정\n"
     ]
    },
    {
     "name": "stderr",
     "output_type": "stream",
     "text": [
      "  1%|▋                                                                               | 11/1252 [00:01<03:12,  6.44it/s]"
     ]
    },
    {
     "name": "stdout",
     "output_type": "stream",
     "text": [
      "리자몽의 이름이 중복이라 수정\n"
     ]
    },
    {
     "name": "stderr",
     "output_type": "stream",
     "text": [
      "  1%|█                                                                               | 16/1252 [00:02<02:57,  6.97it/s]"
     ]
    },
    {
     "name": "stdout",
     "output_type": "stream",
     "text": [
      "거북왕의 이름이 중복이라 수정\n"
     ]
    },
    {
     "name": "stderr",
     "output_type": "stream",
     "text": [
      "  2%|█▎                                                                              | 20/1252 [00:03<02:46,  7.38it/s]"
     ]
    },
    {
     "name": "stdout",
     "output_type": "stream",
     "text": [
      "버터플의 이름이 중복이라 수정\n"
     ]
    },
    {
     "name": "stderr",
     "output_type": "stream",
     "text": [
      "  2%|█▊                                                                              | 29/1252 [00:04<02:25,  8.42it/s]"
     ]
    },
    {
     "name": "stdout",
     "output_type": "stream",
     "text": [
      "꼬렛의 이름이 중복이라 수정\n"
     ]
    },
    {
     "name": "stderr",
     "output_type": "stream",
     "text": [
      "  3%|██                                                                              | 32/1252 [00:04<02:28,  8.24it/s]"
     ]
    },
    {
     "name": "stdout",
     "output_type": "stream",
     "text": [
      "레트라의 이름이 중복이라 수정\n"
     ]
    },
    {
     "name": "stderr",
     "output_type": "stream",
     "text": [
      "  3%|██▍                                                                             | 38/1252 [00:05<02:42,  7.46it/s]"
     ]
    },
    {
     "name": "stdout",
     "output_type": "stream",
     "text": [
      "피카츄의 이름이 중복이라 수정\n"
     ]
    },
    {
     "name": "stderr",
     "output_type": "stream",
     "text": [
      "  3%|██▌                                                                             | 40/1252 [00:05<02:35,  7.79it/s]"
     ]
    },
    {
     "name": "stdout",
     "output_type": "stream",
     "text": [
      "라이츄의 이름이 중복이라 수정\n"
     ]
    },
    {
     "name": "stderr",
     "output_type": "stream",
     "text": [
      "  3%|██▋                                                                             | 42/1252 [00:05<02:46,  7.26it/s]"
     ]
    },
    {
     "name": "stdout",
     "output_type": "stream",
     "text": [
      "모래두지의 이름이 중복이라 수정\n"
     ]
    },
    {
     "name": "stderr",
     "output_type": "stream",
     "text": [
      "  4%|██▊                                                                             | 44/1252 [00:06<02:45,  7.28it/s]"
     ]
    },
    {
     "name": "stdout",
     "output_type": "stream",
     "text": [
      "고지의 이름이 중복이라 수정\n"
     ]
    },
    {
     "name": "stderr",
     "output_type": "stream",
     "text": [
      "  4%|███▍                                                                            | 54/1252 [00:07<02:45,  7.22it/s]"
     ]
    },
    {
     "name": "stdout",
     "output_type": "stream",
     "text": [
      "식스테일의 이름이 중복이라 수정\n"
     ]
    },
    {
     "name": "stderr",
     "output_type": "stream",
     "text": [
      "  4%|███▌                                                                            | 56/1252 [00:07<02:41,  7.41it/s]"
     ]
    },
    {
     "name": "stdout",
     "output_type": "stream",
     "text": [
      "나인테일의 이름이 중복이라 수정\n"
     ]
    },
    {
     "name": "stderr",
     "output_type": "stream",
     "text": [
      "  6%|████▍                                                                           | 69/1252 [00:09<02:35,  7.63it/s]"
     ]
    },
    {
     "name": "stdout",
     "output_type": "stream",
     "text": [
      "디그다의 이름이 중복이라 수정\n"
     ]
    },
    {
     "name": "stderr",
     "output_type": "stream",
     "text": [
      "  6%|████▌                                                                           | 71/1252 [00:09<02:46,  7.09it/s]"
     ]
    },
    {
     "name": "stdout",
     "output_type": "stream",
     "text": [
      "닥트리오의 이름이 중복이라 수정\n"
     ]
    },
    {
     "name": "stderr",
     "output_type": "stream",
     "text": [
      "  6%|████▋                                                                           | 73/1252 [00:10<02:31,  7.78it/s]"
     ]
    },
    {
     "name": "stdout",
     "output_type": "stream",
     "text": [
      "나옹의 이름이 중복이라 수정\n",
      "나옹의 이름이 중복이라 수정\n",
      "나옹의 이름이 중복이라 수정\n"
     ]
    },
    {
     "name": "stderr",
     "output_type": "stream",
     "text": [
      "  6%|████▋                                                                           | 74/1252 [00:10<02:22,  8.28it/s]"
     ]
    },
    {
     "name": "stdout",
     "output_type": "stream",
     "text": [
      "나옹의 이름이 중복이라 수정\n",
      "나옹의 이름이 중복이라 수정\n",
      "나옹의 이름이 중복이라 수정\n"
     ]
    },
    {
     "name": "stderr",
     "output_type": "stream",
     "text": [
      "  6%|████▉                                                                           | 77/1252 [00:10<02:19,  8.44it/s]"
     ]
    },
    {
     "name": "stdout",
     "output_type": "stream",
     "text": [
      "페르시온의 이름이 중복이라 수정\n"
     ]
    },
    {
     "name": "stderr",
     "output_type": "stream",
     "text": [
      "  7%|█████▎                                                                          | 83/1252 [00:11<03:41,  5.29it/s]"
     ]
    },
    {
     "name": "stdout",
     "output_type": "stream",
     "text": [
      "가디의 이름이 중복이라 수정\n"
     ]
    },
    {
     "name": "stderr",
     "output_type": "stream",
     "text": [
      "  7%|█████▍                                                                          | 85/1252 [00:12<03:53,  4.99it/s]"
     ]
    },
    {
     "name": "stdout",
     "output_type": "stream",
     "text": [
      "윈디의 이름이 중복이라 수정\n"
     ]
    },
    {
     "name": "stderr",
     "output_type": "stream",
     "text": [
      "  8%|██████▏                                                                         | 96/1252 [00:14<03:23,  5.69it/s]"
     ]
    },
    {
     "name": "stdout",
     "output_type": "stream",
     "text": [
      "괴력몬의 이름이 중복이라 수정\n"
     ]
    },
    {
     "name": "stderr",
     "output_type": "stream",
     "text": [
      "  8%|██████▍                                                                        | 103/1252 [00:15<03:09,  6.07it/s]"
     ]
    },
    {
     "name": "stdout",
     "output_type": "stream",
     "text": [
      "꼬마돌의 이름이 중복이라 수정\n"
     ]
    },
    {
     "name": "stderr",
     "output_type": "stream",
     "text": [
      "  8%|██████▋                                                                        | 105/1252 [00:16<03:43,  5.14it/s]"
     ]
    },
    {
     "name": "stdout",
     "output_type": "stream",
     "text": [
      "데구리의 이름이 중복이라 수정\n"
     ]
    },
    {
     "name": "stderr",
     "output_type": "stream",
     "text": [
      "  8%|██████▋                                                                        | 106/1252 [00:16<04:02,  4.73it/s]"
     ]
    },
    {
     "name": "stdout",
     "output_type": "stream",
     "text": [
      "딱구리의 이름이 중복이라 수정\n"
     ]
    },
    {
     "name": "stderr",
     "output_type": "stream",
     "text": [
      "  9%|██████▉                                                                        | 109/1252 [00:17<03:52,  4.92it/s]"
     ]
    },
    {
     "name": "stdout",
     "output_type": "stream",
     "text": [
      "포니타의 이름이 중복이라 수정\n"
     ]
    },
    {
     "name": "stderr",
     "output_type": "stream",
     "text": [
      "  9%|███████                                                                        | 111/1252 [00:17<04:03,  4.68it/s]"
     ]
    },
    {
     "name": "stdout",
     "output_type": "stream",
     "text": [
      "날쌩마의 이름이 중복이라 수정\n"
     ]
    },
    {
     "name": "stderr",
     "output_type": "stream",
     "text": [
      "  9%|███████▏                                                                       | 113/1252 [00:17<03:35,  5.28it/s]"
     ]
    },
    {
     "name": "stdout",
     "output_type": "stream",
     "text": [
      "야돈의 이름이 중복이라 수정\n"
     ]
    },
    {
     "name": "stderr",
     "output_type": "stream",
     "text": [
      "  9%|███████▎                                                                       | 115/1252 [00:18<03:18,  5.72it/s]"
     ]
    },
    {
     "name": "stdout",
     "output_type": "stream",
     "text": [
      "야도란의 이름이 중복이라 수정\n"
     ]
    },
    {
     "name": "stderr",
     "output_type": "stream",
     "text": [
      " 10%|███████▌                                                                       | 119/1252 [00:18<03:19,  5.67it/s]"
     ]
    },
    {
     "name": "stdout",
     "output_type": "stream",
     "text": [
      "파오리의 이름이 중복이라 수정\n"
     ]
    },
    {
     "name": "stderr",
     "output_type": "stream",
     "text": [
      " 10%|███████▉                                                                       | 126/1252 [00:20<03:58,  4.72it/s]"
     ]
    },
    {
     "name": "stdout",
     "output_type": "stream",
     "text": [
      "질퍽이의 이름이 중복이라 수정\n"
     ]
    },
    {
     "name": "stderr",
     "output_type": "stream",
     "text": [
      " 10%|████████                                                                       | 128/1252 [00:20<03:34,  5.25it/s]"
     ]
    },
    {
     "name": "stdout",
     "output_type": "stream",
     "text": [
      "질뻐기의 이름이 중복이라 수정\n"
     ]
    },
    {
     "name": "stderr",
     "output_type": "stream",
     "text": [
      " 11%|████████▌                                                                      | 135/1252 [00:22<03:13,  5.77it/s]"
     ]
    },
    {
     "name": "stdout",
     "output_type": "stream",
     "text": [
      "팬텀의 이름이 중복이라 수정\n"
     ]
    },
    {
     "name": "stderr",
     "output_type": "stream",
     "text": [
      " 11%|████████▊                                                                      | 140/1252 [00:23<03:39,  5.07it/s]"
     ]
    },
    {
     "name": "stdout",
     "output_type": "stream",
     "text": [
      "킹크랩의 이름이 중복이라 수정\n"
     ]
    },
    {
     "name": "stderr",
     "output_type": "stream",
     "text": [
      " 11%|█████████                                                                      | 143/1252 [00:23<03:43,  4.97it/s]"
     ]
    },
    {
     "name": "stdout",
     "output_type": "stream",
     "text": [
      "찌리리공의 이름이 중복이라 수정\n"
     ]
    },
    {
     "name": "stderr",
     "output_type": "stream",
     "text": [
      " 12%|█████████▏                                                                     | 145/1252 [00:24<03:28,  5.30it/s]"
     ]
    },
    {
     "name": "stdout",
     "output_type": "stream",
     "text": [
      "붐볼의 이름이 중복이라 수정\n"
     ]
    },
    {
     "name": "stderr",
     "output_type": "stream",
     "text": [
      " 12%|█████████▎                                                                     | 147/1252 [00:24<03:21,  5.48it/s]"
     ]
    },
    {
     "name": "stdout",
     "output_type": "stream",
     "text": [
      "나시의 이름이 중복이라 수정\n"
     ]
    },
    {
     "name": "stderr",
     "output_type": "stream",
     "text": [
      " 12%|█████████▌                                                                     | 151/1252 [00:24<02:50,  6.47it/s]"
     ]
    },
    {
     "name": "stdout",
     "output_type": "stream",
     "text": [
      "텅구리의 이름이 중복이라 수정\n"
     ]
    },
    {
     "name": "stderr",
     "output_type": "stream",
     "text": [
      " 13%|█████████▉                                                                     | 157/1252 [00:25<02:35,  7.04it/s]"
     ]
    },
    {
     "name": "stdout",
     "output_type": "stream",
     "text": [
      "또도가스의 이름이 중복이라 수정\n"
     ]
    },
    {
     "name": "stderr",
     "output_type": "stream",
     "text": [
      " 14%|██████████▊                                                                    | 171/1252 [00:27<02:30,  7.20it/s]"
     ]
    },
    {
     "name": "stdout",
     "output_type": "stream",
     "text": [
      "마임맨의 이름이 중복이라 수정\n"
     ]
    },
    {
     "name": "stderr",
     "output_type": "stream",
     "text": [
      " 14%|███████████▎                                                                   | 180/1252 [00:29<02:03,  8.69it/s]"
     ]
    },
    {
     "name": "stdout",
     "output_type": "stream",
     "text": [
      "켄타로스의 이름이 중복이라 수정\n",
      "켄타로스의 이름이 중복이라 수정\n",
      "켄타로스의 이름이 중복이라 수정\n",
      "켄타로스의 이름이 중복이라 수정\n",
      "켄타로스의 이름이 중복이라 수정\n",
      "켄타로스의 이름이 중복이라 수정\n"
     ]
    },
    {
     "name": "stderr",
     "output_type": "stream",
     "text": [
      " 15%|███████████▋                                                                   | 186/1252 [00:29<02:14,  7.93it/s]"
     ]
    },
    {
     "name": "stdout",
     "output_type": "stream",
     "text": [
      "라프라스의 이름이 중복이라 수정\n"
     ]
    },
    {
     "name": "stderr",
     "output_type": "stream",
     "text": [
      " 15%|███████████▉                                                                   | 189/1252 [00:30<02:12,  8.03it/s]"
     ]
    },
    {
     "name": "stdout",
     "output_type": "stream",
     "text": [
      "이브이의 이름이 중복이라 수정\n"
     ]
    },
    {
     "name": "stderr",
     "output_type": "stream",
     "text": [
      " 16%|████████████▋                                                                  | 201/1252 [00:31<02:16,  7.67it/s]"
     ]
    },
    {
     "name": "stdout",
     "output_type": "stream",
     "text": [
      "잠만보의 이름이 중복이라 수정\n"
     ]
    },
    {
     "name": "stderr",
     "output_type": "stream",
     "text": [
      " 16%|████████████▊                                                                  | 203/1252 [00:32<02:13,  7.87it/s]"
     ]
    },
    {
     "name": "stdout",
     "output_type": "stream",
     "text": [
      "프리져의 이름이 중복이라 수정\n"
     ]
    },
    {
     "name": "stderr",
     "output_type": "stream",
     "text": [
      " 16%|████████████▉                                                                  | 205/1252 [00:32<02:06,  8.29it/s]"
     ]
    },
    {
     "name": "stdout",
     "output_type": "stream",
     "text": [
      "썬더의 이름이 중복이라 수정\n"
     ]
    },
    {
     "name": "stderr",
     "output_type": "stream",
     "text": [
      " 17%|█████████████                                                                  | 207/1252 [00:32<02:09,  8.10it/s]"
     ]
    },
    {
     "name": "stdout",
     "output_type": "stream",
     "text": [
      "파이어의 이름이 중복이라 수정\n"
     ]
    },
    {
     "name": "stderr",
     "output_type": "stream",
     "text": [
      " 18%|█████████████▉                                                                 | 221/1252 [00:34<02:00,  8.56it/s]"
     ]
    },
    {
     "name": "stdout",
     "output_type": "stream",
     "text": [
      "블레이범의 이름이 중복이라 수정\n"
     ]
    },
    {
     "name": "stderr",
     "output_type": "stream",
     "text": [
      " 21%|████████████████▎                                                              | 259/1252 [00:39<02:15,  7.34it/s]"
     ]
    },
    {
     "name": "stdout",
     "output_type": "stream",
     "text": [
      "우파의 이름이 중복이라 수정\n"
     ]
    },
    {
     "name": "stderr",
     "output_type": "stream",
     "text": [
      " 21%|████████████████▊                                                              | 266/1252 [00:40<02:03,  7.98it/s]"
     ]
    },
    {
     "name": "stdout",
     "output_type": "stream",
     "text": [
      "야도킹의 이름이 중복이라 수정\n"
     ]
    },
    {
     "name": "stderr",
     "output_type": "stream",
     "text": [
      " 22%|█████████████████▌                                                             | 279/1252 [00:42<02:17,  7.09it/s]"
     ]
    },
    {
     "name": "stdout",
     "output_type": "stream",
     "text": [
      "침바루의 이름이 중복이라 수정\n"
     ]
    },
    {
     "name": "stderr",
     "output_type": "stream",
     "text": [
      " 23%|██████████████████                                                             | 287/1252 [00:43<02:02,  7.85it/s]"
     ]
    },
    {
     "name": "stdout",
     "output_type": "stream",
     "text": [
      "포푸니의 이름이 중복이라 수정\n"
     ]
    },
    {
     "name": "stderr",
     "output_type": "stream",
     "text": [
      " 24%|██████████████████▌                                                            | 295/1252 [00:44<02:06,  7.58it/s]"
     ]
    },
    {
     "name": "stdout",
     "output_type": "stream",
     "text": [
      "코산호의 이름이 중복이라 수정\n"
     ]
    },
    {
     "name": "stderr",
     "output_type": "stream",
     "text": [
      " 27%|█████████████████████▌                                                         | 342/1252 [00:50<01:46,  8.55it/s]"
     ]
    },
    {
     "name": "stdout",
     "output_type": "stream",
     "text": [
      "지그제구리의 이름이 중복이라 수정\n",
      "직구리의 이름이 중복이라 수정\n"
     ]
    },
    {
     "name": "stderr",
     "output_type": "stream",
     "text": [
      " 30%|███████████████████████▊                                                       | 377/1252 [00:54<01:51,  7.88it/s]"
     ]
    }
   ],
   "source": [
    "# urlretrieve('이미지 링크', '경로 파일명.확장자')  \n",
    "for i in tqdm(range(len(url_list))):\n",
    "    file_order = 0\n",
    "    url = url_list[i]  \n",
    "    file_name = f\"{get_All_Name[i]}_{file_order:02}.jpg\"   \n",
    "    while(True) : \n",
    "        check = os.path.isfile(file_name)\n",
    "        #만약 이미 있으면 true\n",
    "        if(check) : \n",
    "            file_order += 1\n",
    "            file_name = f\"{get_All_Name[i]}_{file_order:02}.jpg\"    \n",
    "        else :\n",
    "            break\n",
    "    urlretrieve(url, file_name)    \n",
    "print(f'저장 완료!')"
   ]
  },
  {
   "cell_type": "code",
   "execution_count": null,
   "id": "c686f00f-0ba6-4eb8-ae97-35360db0c9d6",
   "metadata": {},
   "outputs": [],
   "source": []
  },
  {
   "cell_type": "code",
   "execution_count": null,
   "id": "6e9642dd-0016-4861-a396-9c419204875c",
   "metadata": {},
   "outputs": [],
   "source": []
  },
  {
   "cell_type": "code",
   "execution_count": null,
   "id": "b3bc8927-9c5a-4a99-b9d5-802db54e0a58",
   "metadata": {},
   "outputs": [],
   "source": []
  },
  {
   "cell_type": "code",
   "execution_count": null,
   "id": "64ab41c4-9354-4f1a-b10d-3cefc01cc09b",
   "metadata": {},
   "outputs": [],
   "source": []
  },
  {
   "cell_type": "code",
   "execution_count": null,
   "id": "b89b0932-21ef-47f8-a78e-4f9c6b12d1d4",
   "metadata": {},
   "outputs": [],
   "source": []
  },
  {
   "cell_type": "code",
   "execution_count": null,
   "id": "93bcf7c3-4ea9-4721-91b8-8207890ce366",
   "metadata": {},
   "outputs": [],
   "source": []
  },
  {
   "cell_type": "code",
   "execution_count": null,
   "id": "26dba221-8964-4858-938c-a470d514846f",
   "metadata": {},
   "outputs": [],
   "source": []
  },
  {
   "cell_type": "code",
   "execution_count": null,
   "id": "0efe5196-9f55-4ca2-8026-dc7d0d863e3b",
   "metadata": {},
   "outputs": [],
   "source": []
  },
  {
   "cell_type": "code",
   "execution_count": null,
   "id": "8c6e0457-2144-4e52-94c9-f54909431557",
   "metadata": {},
   "outputs": [],
   "source": []
  },
  {
   "cell_type": "code",
   "execution_count": null,
   "id": "fcf3d7c4-bd70-400e-a684-5a1da8357d01",
   "metadata": {},
   "outputs": [],
   "source": []
  },
  {
   "cell_type": "code",
   "execution_count": null,
   "id": "aac3443e-fdad-45f8-8a90-8b53e03e327d",
   "metadata": {},
   "outputs": [],
   "source": []
  },
  {
   "cell_type": "code",
   "execution_count": null,
   "id": "d05421b7-2ad5-45f2-9333-b0d92777c78f",
   "metadata": {},
   "outputs": [],
   "source": []
  },
  {
   "cell_type": "code",
   "execution_count": null,
   "id": "c5b47b06-83fb-449f-a14e-f3757d74f009",
   "metadata": {},
   "outputs": [],
   "source": []
  },
  {
   "cell_type": "code",
   "execution_count": null,
   "id": "81f170d0-aab3-4f6c-bb5b-3231d27944eb",
   "metadata": {},
   "outputs": [],
   "source": []
  },
  {
   "cell_type": "code",
   "execution_count": null,
   "id": "3a8f1c0f-6354-4554-9a4c-ff15aa1f9164",
   "metadata": {},
   "outputs": [],
   "source": []
  },
  {
   "cell_type": "code",
   "execution_count": null,
   "id": "af408443-a343-4e26-b969-d3aaac88e0b0",
   "metadata": {},
   "outputs": [],
   "source": []
  },
  {
   "cell_type": "code",
   "execution_count": null,
   "id": "ed19f869-f75a-47e5-b1fd-3a4b785e9810",
   "metadata": {},
   "outputs": [],
   "source": []
  },
  {
   "cell_type": "code",
   "execution_count": null,
   "id": "16d25537-c981-4196-b576-305fab54eb1a",
   "metadata": {},
   "outputs": [],
   "source": []
  },
  {
   "cell_type": "code",
   "execution_count": null,
   "id": "4bc1b0ff-f65f-4431-88da-9d9d4b07e85a",
   "metadata": {},
   "outputs": [],
   "source": []
  }
 ],
 "metadata": {
  "kernelspec": {
   "display_name": "Python 3 (ipykernel)",
   "language": "python",
   "name": "python3"
  },
  "language_info": {
   "codemirror_mode": {
    "name": "ipython",
    "version": 3
   },
   "file_extension": ".py",
   "mimetype": "text/x-python",
   "name": "python",
   "nbconvert_exporter": "python",
   "pygments_lexer": "ipython3",
   "version": "3.13.2"
  }
 },
 "nbformat": 4,
 "nbformat_minor": 5
}
