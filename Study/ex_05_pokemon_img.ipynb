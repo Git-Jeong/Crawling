{
 "cells": [
  {
   "cell_type": "markdown",
   "id": "11b63808-764e-49bf-a720-eca5c7eabaae",
   "metadata": {},
   "source": [
    "### 포켓몬 이미지 수집을 위한 파이썬 코드\n",
    "- 웹 크롤링을 통한 이미지 파일의 수집\n",
    "- 폴더 생성\n",
    "- 이미지 링크 수집 후 다운로드 자동화"
   ]
  },
  {
   "cell_type": "code",
   "execution_count": 1,
   "id": "c6afb269-6302-4c36-afec-91eec6d1aa59",
   "metadata": {},
   "outputs": [],
   "source": [
    "# 필요한 라이브러리 import\n",
    "\n",
    "# 운영체제를 다룰 수 있는 라이브러리\n",
    "import os # 폴더 생성, 삭제 등의 운영체제에 접근해서 관리할 수 있는 라이브러리\n",
    "  "
   ]
  },
  {
   "cell_type": "code",
   "execution_count": 2,
   "id": "db76d313-104e-44bb-a6ab-7ce2c4b38e6a",
   "metadata": {},
   "outputs": [],
   "source": [
    "# 필요한 것들 정리\n",
    "\n",
    "# 포켓몬 이미지 파일의 위치\n",
    "POKEMON_URL = 'https://www.pokemonkorea.co.kr/pokedex#pokedex_1'\n",
    "\n",
    "# 메인폴더 위치\n",
    "ORIGIN_URL = \"C:\\\\Users\\\\smhrd1\\\\Documents\\\\GitHub\\\\Crawling\\\\Study\"\n",
    "MKDIR_NAME = 'pokemon'\n",
    "\n",
    "# 1,225개?의 이미지가 나올 것\n",
    "# class = 'img-fluid' 인 img를 크롤링\n"
   ]
  },
  {
   "cell_type": "code",
   "execution_count": 4,
   "id": "8801e802-db87-4e95-9dd3-69cd7892d083",
   "metadata": {},
   "outputs": [
    {
     "name": "stdout",
     "output_type": "stream",
     "text": [
      "현재 위치 : C:\\Users\\smhrd1\\Documents\\GitHub\\Crawling\\Study\n",
      "폴더가 이미 존재합니다.\n",
      "pokemon폴더로 이동합니다.\n",
      "현재 위치 : C:\\Users\\smhrd1\\Documents\\GitHub\\Crawling\\Study\\pokemon\n"
     ]
    }
   ],
   "source": [
    "os.chdir(ORIGIN_URL)\n",
    "\n",
    "print(f'현재 위치 : {os.getcwd()}')\n",
    "\n",
    "try :\n",
    "    os.mkdir(MKDIR_NAME) \n",
    "    print(f'{MKDIR_NAME}폴더를 생성했습니다.')\n",
    "except FileExistsError:\n",
    "    print(\"폴더가 이미 존재합니다.\") \n",
    "except :\n",
    "    print(\"폴더 생성 에러\")\n",
    " \n",
    "try : \n",
    "    os.chdir(MKDIR_NAME)\n",
    "    print(f'{MKDIR_NAME}폴더로 이동합니다.')\n",
    "except NameError :\n",
    "    print('이동할 폴더가 없습니다.')\n",
    "\n",
    "print(f'현재 위치 : {os.getcwd()}')"
   ]
  },
  {
   "cell_type": "code",
   "execution_count": null,
   "id": "84c181a1-1d1c-4f51-96c3-dbbe892f456a",
   "metadata": {},
   "outputs": [],
   "source": []
  },
  {
   "cell_type": "code",
   "execution_count": null,
   "id": "1f05c1d6-dd05-472f-b42b-d612850cf4dd",
   "metadata": {},
   "outputs": [],
   "source": []
  },
  {
   "cell_type": "code",
   "execution_count": null,
   "id": "be365742-815d-44e4-90e9-5fec38ca6116",
   "metadata": {},
   "outputs": [],
   "source": []
  },
  {
   "cell_type": "code",
   "execution_count": null,
   "id": "891116a9-8501-4f70-a6d1-ebd88659e988",
   "metadata": {},
   "outputs": [],
   "source": []
  },
  {
   "cell_type": "code",
   "execution_count": null,
   "id": "7b359cea-f7fa-4b6b-be07-1424cda057c9",
   "metadata": {},
   "outputs": [],
   "source": []
  },
  {
   "cell_type": "code",
   "execution_count": null,
   "id": "c686f00f-0ba6-4eb8-ae97-35360db0c9d6",
   "metadata": {},
   "outputs": [],
   "source": []
  },
  {
   "cell_type": "code",
   "execution_count": null,
   "id": "6e9642dd-0016-4861-a396-9c419204875c",
   "metadata": {},
   "outputs": [],
   "source": []
  },
  {
   "cell_type": "code",
   "execution_count": null,
   "id": "b3bc8927-9c5a-4a99-b9d5-802db54e0a58",
   "metadata": {},
   "outputs": [],
   "source": []
  },
  {
   "cell_type": "code",
   "execution_count": null,
   "id": "64ab41c4-9354-4f1a-b10d-3cefc01cc09b",
   "metadata": {},
   "outputs": [],
   "source": []
  },
  {
   "cell_type": "code",
   "execution_count": null,
   "id": "b89b0932-21ef-47f8-a78e-4f9c6b12d1d4",
   "metadata": {},
   "outputs": [],
   "source": []
  },
  {
   "cell_type": "code",
   "execution_count": null,
   "id": "93bcf7c3-4ea9-4721-91b8-8207890ce366",
   "metadata": {},
   "outputs": [],
   "source": []
  },
  {
   "cell_type": "code",
   "execution_count": null,
   "id": "26dba221-8964-4858-938c-a470d514846f",
   "metadata": {},
   "outputs": [],
   "source": []
  },
  {
   "cell_type": "code",
   "execution_count": null,
   "id": "0efe5196-9f55-4ca2-8026-dc7d0d863e3b",
   "metadata": {},
   "outputs": [],
   "source": []
  },
  {
   "cell_type": "code",
   "execution_count": null,
   "id": "8c6e0457-2144-4e52-94c9-f54909431557",
   "metadata": {},
   "outputs": [],
   "source": []
  },
  {
   "cell_type": "code",
   "execution_count": null,
   "id": "fcf3d7c4-bd70-400e-a684-5a1da8357d01",
   "metadata": {},
   "outputs": [],
   "source": []
  },
  {
   "cell_type": "code",
   "execution_count": null,
   "id": "aac3443e-fdad-45f8-8a90-8b53e03e327d",
   "metadata": {},
   "outputs": [],
   "source": []
  },
  {
   "cell_type": "code",
   "execution_count": null,
   "id": "d05421b7-2ad5-45f2-9333-b0d92777c78f",
   "metadata": {},
   "outputs": [],
   "source": []
  },
  {
   "cell_type": "code",
   "execution_count": null,
   "id": "c5b47b06-83fb-449f-a14e-f3757d74f009",
   "metadata": {},
   "outputs": [],
   "source": []
  },
  {
   "cell_type": "code",
   "execution_count": null,
   "id": "81f170d0-aab3-4f6c-bb5b-3231d27944eb",
   "metadata": {},
   "outputs": [],
   "source": []
  },
  {
   "cell_type": "code",
   "execution_count": null,
   "id": "3a8f1c0f-6354-4554-9a4c-ff15aa1f9164",
   "metadata": {},
   "outputs": [],
   "source": []
  },
  {
   "cell_type": "code",
   "execution_count": null,
   "id": "af408443-a343-4e26-b969-d3aaac88e0b0",
   "metadata": {},
   "outputs": [],
   "source": []
  },
  {
   "cell_type": "code",
   "execution_count": null,
   "id": "ed19f869-f75a-47e5-b1fd-3a4b785e9810",
   "metadata": {},
   "outputs": [],
   "source": []
  },
  {
   "cell_type": "code",
   "execution_count": null,
   "id": "16d25537-c981-4196-b576-305fab54eb1a",
   "metadata": {},
   "outputs": [],
   "source": []
  },
  {
   "cell_type": "code",
   "execution_count": null,
   "id": "4bc1b0ff-f65f-4431-88da-9d9d4b07e85a",
   "metadata": {},
   "outputs": [],
   "source": []
  }
 ],
 "metadata": {
  "kernelspec": {
   "display_name": "Python 3 (ipykernel)",
   "language": "python",
   "name": "python3"
  },
  "language_info": {
   "codemirror_mode": {
    "name": "ipython",
    "version": 3
   },
   "file_extension": ".py",
   "mimetype": "text/x-python",
   "name": "python",
   "nbconvert_exporter": "python",
   "pygments_lexer": "ipython3",
   "version": "3.13.2"
  }
 },
 "nbformat": 4,
 "nbformat_minor": 5
}
