{
 "cells": [
  {
   "cell_type": "markdown",
   "id": "11b63808-764e-49bf-a720-eca5c7eabaae",
   "metadata": {},
   "source": [
    "### 포켓몬 이미지 수집을 위한 파이썬 코드\n",
    "- 웹 크롤링을 통한 이미지 파일의 수집\n",
    "- 폴더 생성\n",
    "- 이미지 링크 수집 후 다운로드 자동화"
   ]
  },
  {
   "cell_type": "code",
   "execution_count": null,
   "id": "7d0df170-3143-4752-ae33-67d0e080b327",
   "metadata": {},
   "outputs": [],
   "source": []
  },
  {
   "cell_type": "code",
   "execution_count": 207,
   "id": "c6afb269-6302-4c36-afec-91eec6d1aa59",
   "metadata": {},
   "outputs": [],
   "source": [
    "# 필요한 라이브러리 import\n",
    "try :\n",
    "    import os  # 운영체제 관련 작업 (폴더 생성, 삭제 등)\n",
    "except ModuleNotFoundError:\n",
    "    !pip install os\n",
    "    \n",
    "try :\n",
    "    import time  # 시간 관련 기능 (대기, 지연)\n",
    "except ModuleNotFoundError:\n",
    "    !pip install time \n",
    "    \n",
    "try:\n",
    "    from selenium import webdriver as wb\n",
    "    from selenium.webdriver.common.keys import Keys\n",
    "    from selenium.webdriver.common.by import By\n",
    "except ModuleNotFoundError:\n",
    "    !pip install selenium"
   ]
  },
  {
   "cell_type": "code",
   "execution_count": 208,
   "id": "db76d313-104e-44bb-a6ab-7ce2c4b38e6a",
   "metadata": {},
   "outputs": [],
   "source": [
    "# 필요한 것들 정리\n",
    "\n",
    "# 포켓몬 이미지 파일의 위치\n",
    "POKEMON_URL = 'https://www.pokemonkorea.co.kr/pokedex#pokedex_1'\n",
    "\n",
    "# 메인폴더 위치\n",
    "ORIGIN_URL = \"C:\\\\Users\\\\smhrd1\\\\Documents\\\\GitHub\\\\Crawling\\\\Study\"\n",
    "\n",
    "# 생성할 폴더의 이름\n",
    "MKDIR_NAME = 'pokemon'\n",
    "\n",
    "# 1,225개?의 이미지가 나올 것\n",
    "# class = 'img-fluid' 인 img를 크롤링\n",
    "TARGET_IMG_CLASS = 'img-fluid'\n",
    "TARGET_NAME_CLASS = 'div.bx-txt > h3'"
   ]
  },
  {
   "cell_type": "code",
   "execution_count": 209,
   "id": "8801e802-db87-4e95-9dd3-69cd7892d083",
   "metadata": {},
   "outputs": [
    {
     "name": "stdout",
     "output_type": "stream",
     "text": [
      "현재 위치 : C:\\Users\\smhrd1\\Documents\\GitHub\\Crawling\\Study\n",
      "메인 폴더가 이미 존재합니다.\n",
      "pokemon폴더로 이동합니다.\n",
      "현재 위치 : C:\\Users\\smhrd1\\Documents\\GitHub\\Crawling\\Study\\pokemon\n",
      "6 폴더를 생성했습니다.\n",
      "6 폴더로 이동합니다.\n",
      "현재 위치 : C:\\Users\\smhrd1\\Documents\\GitHub\\Crawling\\Study\\pokemon\\6\n"
     ]
    }
   ],
   "source": [
    "os.chdir(ORIGIN_URL)\n",
    "\n",
    "print(f'현재 위치 : {os.getcwd()}')\n",
    "\n",
    "try :\n",
    "    os.mkdir(MKDIR_NAME) \n",
    "    print(f'{MKDIR_NAME}폴더를 생성했습니다.')\n",
    "except FileExistsError:\n",
    "    print(\"메인 폴더가 이미 존재합니다.\") \n",
    "except :\n",
    "    print(\"폴더 생성 에러\")\n",
    " \n",
    "try : \n",
    "    os.chdir(MKDIR_NAME)\n",
    "    print(f'{MKDIR_NAME}폴더로 이동합니다.')\n",
    "except NameError :\n",
    "    print('이동할 폴더가 없습니다.')\n",
    "\n",
    "print(f'현재 위치 : {os.getcwd()}')\n",
    "\n",
    "index = 1\n",
    "while(True):\n",
    "    index_str = str(index)  # 정수를 문자열로 변환\n",
    "    if not os.path.isdir(index_str):\n",
    "        os.mkdir(index_str)\n",
    "        print(f'{index_str} 폴더를 생성했습니다.')\n",
    "        break\n",
    "    else:\n",
    "        index += 1\n",
    "\n",
    "try:\n",
    "    os.chdir(index_str)\n",
    "    print(f'{index_str} 폴더로 이동합니다.')\n",
    "except OSError:\n",
    "    print('이동할 폴더가 없습니다.')\n",
    "\n",
    "print(f'현재 위치 : {os.getcwd()}')"
   ]
  },
  {
   "cell_type": "code",
   "execution_count": 210,
   "id": "84c181a1-1d1c-4f51-96c3-dbbe892f456a",
   "metadata": {},
   "outputs": [],
   "source": [
    "# 크롬 실행\n",
    "driver = wb.Edge()\n",
    "driver.get(POKEMON_URL)\n",
    "time.sleep(3)"
   ]
  },
  {
   "cell_type": "code",
   "execution_count": 211,
   "id": "0ac6229c-dcf6-4554-89a9-a639bd3dcb2b",
   "metadata": {},
   "outputs": [
    {
     "name": "stdout",
     "output_type": "stream",
     "text": [
      "페이지가 끝났는지 검사 중... \n",
      "페이지가 끝나지 않았음\n",
      "페이지가 끝났는지 검사 중... \n",
      "페이지가 끝나서 반복을 종료합니다.\n"
     ]
    }
   ],
   "source": [
    "# selenium 을 통해 스크롤을 내릴 수 없음. 그럼 어찌 해야 되나??\n",
    "# 대안 : 키보드의 end키를 눌러야 됨.\n",
    "\n",
    " \n",
    "while(True) :  \n",
    "    body = driver.find_element(By.TAG_NAME, 'body')\n",
    "    before_find = len(driver.find_elements(By.CSS_SELECTOR, 'li')) \n",
    "    body.send_keys(Keys.END)\n",
    "    time.sleep(0.5) \n",
    "    later_find = len(driver.find_elements(By.CSS_SELECTOR, 'li')) \n",
    "    \n",
    "    if (before_find == later_find): \n",
    "        # 느린 인터넷의 에러를 보정\n",
    "        print(f'페이지가 끝났는지 검사 중... ')\n",
    "        time.sleep(2) \n",
    "        later_find_check = len(driver.find_elements(By.CSS_SELECTOR, 'li')) \n",
    "        if(later_find == later_find_check) :\n",
    "            print(f'페이지가 끝나서 반복을 종료합니다.')\n",
    "            break \n",
    "        else :\n",
    "            print(f'페이지가 끝나지 않았음')"
   ]
  },
  {
   "cell_type": "code",
   "execution_count": 212,
   "id": "1f05c1d6-dd05-472f-b42b-d612850cf4dd",
   "metadata": {
    "scrolled": true
   },
   "outputs": [],
   "source": [
    "get_All_IMG = driver.find_elements(By.CLASS_NAME, TARGET_IMG_CLASS)\n",
    "\n",
    "temp_get_All_info = driver.find_elements(By.CSS_SELECTOR, TARGET_NAME_CLASS)  "
   ]
  },
  {
   "cell_type": "code",
   "execution_count": 213,
   "id": "60086284-1243-4afa-8506-c7f8b737bfcf",
   "metadata": {},
   "outputs": [],
   "source": [
    "# 반복분  \n",
    "try : \n",
    "    from tqdm import tqdm\n",
    "except ModuleNotFoundError :\n",
    "    !pip install tqdm"
   ]
  },
  {
   "cell_type": "code",
   "execution_count": 214,
   "id": "be365742-815d-44e4-90e9-5fec38ca6116",
   "metadata": {
    "scrolled": true
   },
   "outputs": [
    {
     "name": "stderr",
     "output_type": "stream",
     "text": [
      "100%|█████████████████████████████████████████████████████████████████████████████| 1252/1252 [00:03<00:00, 385.26it/s]\n",
      "100%|█████████████████████████████████████████████████████████████████████████| 1252/1252 [00:00<00:00, 3159608.07it/s]\n",
      "100%|█████████████████████████████████████████████████████████████████████████| 1252/1252 [00:00<00:00, 4045661.49it/s]\n"
     ]
    }
   ],
   "source": [
    "# 속성을 가지고 오는 함수\n",
    "# get_attribute('')  \n",
    "\n",
    "url_list = [i.get_attribute('src') for i in tqdm(get_All_IMG)]\n",
    "\n",
    "temp_get_All_Name = [name.text.split('\\n')[1] for name in temp_get_All_info] \n",
    "temp_get_All_Number = [number.text.split('\\n')[0] for number in temp_get_All_info]\n",
    "\n",
    "name_list = [name.replace(\"'\", \"\") for name in tqdm(temp_get_All_Name)] \n",
    "number_list = [name.replace(\".\", \"_\") for name in tqdm(temp_get_All_Number)]  "
   ]
  },
  {
   "cell_type": "code",
   "execution_count": 215,
   "id": "893da667-f295-4e1f-9a07-4bfd06043f68",
   "metadata": {},
   "outputs": [],
   "source": [
    "driver.close()"
   ]
  },
  {
   "cell_type": "code",
   "execution_count": 216,
   "id": "e59c72c9-5eaf-422c-871e-5a17d69aaba5",
   "metadata": {},
   "outputs": [
    {
     "name": "stdout",
     "output_type": "stream",
     "text": [
      "이미지 수 : 1252\n",
      "이름의 수 : 1252\n",
      "도감의 수 : 1252\n"
     ]
    }
   ],
   "source": [
    "print(f'이미지 수 : {len(url_list)}')\n",
    "print(f'이름의 수 : {len(name_list)}')\n",
    "print(f'도감의 수 : {len(number_list)}')"
   ]
  },
  {
   "cell_type": "code",
   "execution_count": 217,
   "id": "891116a9-8501-4f70-a6d1-ebd88659e988",
   "metadata": {},
   "outputs": [],
   "source": [
    "# url을 활용하여 이미지 다운로들\n",
    "from urllib.request import urlretrieve"
   ]
  },
  {
   "cell_type": "code",
   "execution_count": 218,
   "id": "7b359cea-f7fa-4b6b-be07-1424cda057c9",
   "metadata": {},
   "outputs": [
    {
     "name": "stderr",
     "output_type": "stream",
     "text": [
      "100%|██████████████████████████████████████████████████████████████████████████████| 1252/1252 [02:41<00:00,  7.74it/s]"
     ]
    },
    {
     "name": "stdout",
     "output_type": "stream",
     "text": [
      "저장 완료!\n"
     ]
    },
    {
     "name": "stderr",
     "output_type": "stream",
     "text": [
      "\n"
     ]
    }
   ],
   "source": [
    "# urlretrieve('이미지 링크', '경로 파일명.확장자')  \n",
    "for i in tqdm(range(len(url_list))):\n",
    "    file_order = 0\n",
    "    url = url_list[i]  \n",
    "    file_name = f\"{number_list[i]}_{name_list[i]}_{file_order:02}.jpg\"   \n",
    "    while(True) : \n",
    "        check = os.path.isfile(file_name)\n",
    "        #만약 이미 있으면 true\n",
    "        if(check) : \n",
    "            file_order += 1\n",
    "            file_name = f\"{number_list[i]}_{name_list[i]}_{file_order:02}.jpg\"   \n",
    "        else :\n",
    "            break\n",
    "    urlretrieve(url, file_name)    \n",
    "print(f'저장 완료!')"
   ]
  },
  {
   "cell_type": "code",
   "execution_count": null,
   "id": "c686f00f-0ba6-4eb8-ae97-35360db0c9d6",
   "metadata": {},
   "outputs": [],
   "source": []
  },
  {
   "cell_type": "code",
   "execution_count": null,
   "id": "6e9642dd-0016-4861-a396-9c419204875c",
   "metadata": {},
   "outputs": [],
   "source": []
  },
  {
   "cell_type": "code",
   "execution_count": null,
   "id": "b3bc8927-9c5a-4a99-b9d5-802db54e0a58",
   "metadata": {},
   "outputs": [],
   "source": []
  },
  {
   "cell_type": "code",
   "execution_count": null,
   "id": "64ab41c4-9354-4f1a-b10d-3cefc01cc09b",
   "metadata": {},
   "outputs": [],
   "source": []
  },
  {
   "cell_type": "code",
   "execution_count": null,
   "id": "b89b0932-21ef-47f8-a78e-4f9c6b12d1d4",
   "metadata": {},
   "outputs": [],
   "source": []
  },
  {
   "cell_type": "code",
   "execution_count": null,
   "id": "93bcf7c3-4ea9-4721-91b8-8207890ce366",
   "metadata": {},
   "outputs": [],
   "source": []
  },
  {
   "cell_type": "code",
   "execution_count": null,
   "id": "26dba221-8964-4858-938c-a470d514846f",
   "metadata": {},
   "outputs": [],
   "source": []
  },
  {
   "cell_type": "code",
   "execution_count": null,
   "id": "0efe5196-9f55-4ca2-8026-dc7d0d863e3b",
   "metadata": {},
   "outputs": [],
   "source": []
  },
  {
   "cell_type": "code",
   "execution_count": null,
   "id": "8c6e0457-2144-4e52-94c9-f54909431557",
   "metadata": {},
   "outputs": [],
   "source": []
  },
  {
   "cell_type": "code",
   "execution_count": null,
   "id": "fcf3d7c4-bd70-400e-a684-5a1da8357d01",
   "metadata": {},
   "outputs": [],
   "source": []
  },
  {
   "cell_type": "code",
   "execution_count": null,
   "id": "aac3443e-fdad-45f8-8a90-8b53e03e327d",
   "metadata": {},
   "outputs": [],
   "source": []
  },
  {
   "cell_type": "code",
   "execution_count": null,
   "id": "d05421b7-2ad5-45f2-9333-b0d92777c78f",
   "metadata": {},
   "outputs": [],
   "source": []
  },
  {
   "cell_type": "code",
   "execution_count": null,
   "id": "c5b47b06-83fb-449f-a14e-f3757d74f009",
   "metadata": {},
   "outputs": [],
   "source": []
  },
  {
   "cell_type": "code",
   "execution_count": null,
   "id": "81f170d0-aab3-4f6c-bb5b-3231d27944eb",
   "metadata": {},
   "outputs": [],
   "source": []
  },
  {
   "cell_type": "code",
   "execution_count": null,
   "id": "3a8f1c0f-6354-4554-9a4c-ff15aa1f9164",
   "metadata": {},
   "outputs": [],
   "source": []
  },
  {
   "cell_type": "code",
   "execution_count": null,
   "id": "af408443-a343-4e26-b969-d3aaac88e0b0",
   "metadata": {},
   "outputs": [],
   "source": []
  },
  {
   "cell_type": "code",
   "execution_count": null,
   "id": "ed19f869-f75a-47e5-b1fd-3a4b785e9810",
   "metadata": {},
   "outputs": [],
   "source": []
  },
  {
   "cell_type": "code",
   "execution_count": null,
   "id": "16d25537-c981-4196-b576-305fab54eb1a",
   "metadata": {},
   "outputs": [],
   "source": []
  },
  {
   "cell_type": "code",
   "execution_count": null,
   "id": "4bc1b0ff-f65f-4431-88da-9d9d4b07e85a",
   "metadata": {},
   "outputs": [],
   "source": []
  }
 ],
 "metadata": {
  "kernelspec": {
   "display_name": "Python 3 (ipykernel)",
   "language": "python",
   "name": "python3"
  },
  "language_info": {
   "codemirror_mode": {
    "name": "ipython",
    "version": 3
   },
   "file_extension": ".py",
   "mimetype": "text/x-python",
   "name": "python",
   "nbconvert_exporter": "python",
   "pygments_lexer": "ipython3",
   "version": "3.13.2"
  }
 },
 "nbformat": 4,
 "nbformat_minor": 5
}
