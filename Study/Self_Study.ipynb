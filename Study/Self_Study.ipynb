{
 "cells": [
  {
   "cell_type": "code",
   "execution_count": 5,
   "id": "0d687d72-47a3-4dc9-bd31-34c24eca23d5",
   "metadata": {},
   "outputs": [
    {
     "name": "stdout",
     "output_type": "stream",
     "text": [
      "['\\n', '오늘 탄핵심판 변론 종결…尹 대국민 메시지 주목', '서울경찰청장 직대 \"탄핵심판 선고일 \\'갑호비상\\' 발령 검토\"', \"국방부, 前계엄사령관 박안수 육군총장 '기소휴직' 조치\", '[긴급] 與, 崔대행에 상법·명태균특검법 거부권 행사 요청키로', '해제 가능 \\'그린벨트 총면적\\' 17년만에 확대…崔 \"투자가 살길\"', '농식품부, 농촌살린다…체류형단지 3곳·규제혁신지구 10곳 지정', '한은 오늘 금통위…성장 전망 대폭 낮추고 금리 인하할까', '여야 원내대표, 오후 우의장 주재 회동…연금개혁안 논의', '안보리, 러 침략 언급없는 美제안 우크라전쟁 결의 채택', '넥스트레이드 출범 한주 앞으로…복수 증권거래소 시대 열린다', '개인정보 알리페이에 넘겨놓곤…애플 측, 韓정부에 모르쇠 일관']\n"
     ]
    }
   ],
   "source": [
    "# 인터넷 뉴스 기사 제목 가져오기\n",
    "import requests\n",
    "from bs4 import BeautifulSoup\n",
    "\n",
    "def crawler(soup):\n",
    "    div = soup.find(\"div\", class_ = \"list_body\")\n",
    "\n",
    "    result = []\n",
    "    for a in div.find_all(\"a\"): # find_all 반환값 형태는 리스트다! \n",
    "        result.append(a.get_text())\n",
    "    return result\n",
    "\n",
    "def main():\n",
    "    # 요청 url 변수에 담긴 url의 html 문서를 출력한다. \n",
    "    custom_header = {\n",
    "        'referer' : 'https://www.naver.com/',\n",
    "        'user-agent' : 'Mozilla/5.0 (Macintosh; Intel Mac OS X 10_14_4) AppleWebKit/537.36 (KHTML, like Gecko) Chrome/73.0.3683.103 Safari/537.36'\n",
    "    }\n",
    "    \n",
    "    url = \"https://news.naver.com/main/list.nhn?mode=LPOD&mid=sec&sid1=001&sid2=140&oid=001&isYeonhapFlash=Y\"\n",
    "    req = requests.get(url, headers = custom_header)\n",
    "    soup = BeautifulSoup(req.text, \"html.parser\")\n",
    "    result = crawler(soup)\n",
    "    print(result)\n",
    "\n",
    "if __name__ == \"__main__\":\n",
    "    main()"
   ]
  },
  {
   "cell_type": "code",
   "execution_count": null,
   "id": "109db7aa-cb01-44a7-a6ae-986ed00a0c75",
   "metadata": {},
   "outputs": [],
   "source": []
  }
 ],
 "metadata": {
  "kernelspec": {
   "display_name": "Python 3 (ipykernel)",
   "language": "python",
   "name": "python3"
  },
  "language_info": {
   "codemirror_mode": {
    "name": "ipython",
    "version": 3
   },
   "file_extension": ".py",
   "mimetype": "text/x-python",
   "name": "python",
   "nbconvert_exporter": "python",
   "pygments_lexer": "ipython3",
   "version": "3.13.2"
  }
 },
 "nbformat": 4,
 "nbformat_minor": 5
}
