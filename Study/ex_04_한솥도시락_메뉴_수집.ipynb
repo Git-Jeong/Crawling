{
 "cells": [
  {
   "cell_type": "markdown",
   "id": "d5681dde-b92f-475e-ae0b-d8a8b70886e1",
   "metadata": {},
   "source": [
    "### 실습\n",
    "- selenium 라이브러리를 통해 한솥도시락 메뉴데이터 수집\n",
    "- 수집한 데이터를 csv 파일로 추출"
   ]
  },
  {
   "cell_type": "code",
   "execution_count": 112,
   "id": "bfe35901-d439-4780-8c0b-78595017b4f6",
   "metadata": {},
   "outputs": [],
   "source": [
    "# 필요한 라이브러리 설치\n",
    "# !pip install selenium\n",
    "# !pip install webdriver\n",
    "# !pip install pandas"
   ]
  },
  {
   "cell_type": "code",
   "execution_count": 113,
   "id": "a904d6c5-d560-4fb7-a70d-42bc804697db",
   "metadata": {},
   "outputs": [],
   "source": [
    "# 필요한 라이브러리 import\n",
    "\n",
    "from selenium import webdriver as wb # 컴퓨터용 부라우저 \n",
    "from selenium.webdriver.common.keys import Keys # 컴퓨터용 키보드 \n",
    "from selenium.webdriver.common.by import By # 선택자 지정 방식\n",
    "import pandas as pd\n",
    "import time"
   ]
  },
  {
   "cell_type": "code",
   "execution_count": 114,
   "id": "200ce4a9-e7c9-4273-ab15-f986e6ae9cda",
   "metadata": {},
   "outputs": [],
   "source": [
    "# 타겟 정보\n",
    "\n",
    "url = 'https://www.hsd.co.kr/menu/menu_list'\n",
    "\n",
    "# 더보기 버튼의 class name\n",
    "MORE_PAGE = 'c_05'\n",
    "\n",
    "# 메뉴의 이름 class name : \n",
    "MENU_NAME = 'h.fz_03'\n",
    "\n",
    "# 메뉴의 가격 class : \n",
    "MENU_PRICE = 'div.item-price > strong'\n"
   ]
  },
  {
   "cell_type": "code",
   "execution_count": 115,
   "id": "53c2119c-08b7-44c1-88b7-1c3164e83b07",
   "metadata": {},
   "outputs": [],
   "source": [
    "# 목표 사이트 접속\n",
    "driver = wb.Chrome()\n",
    "\n",
    "driver.get(url)\n",
    "time.sleep(1)"
   ]
  },
  {
   "cell_type": "code",
   "execution_count": 116,
   "id": "939d65f5-5cca-4cfc-a61a-5587390e7d27",
   "metadata": {},
   "outputs": [],
   "source": [
    "def find_css_list_position(input) :\n",
    "    result = driver.find_elements(By.CLASS_NAME, input) \n",
    "    return result \n",
    "     "
   ]
  },
  {
   "cell_type": "code",
   "execution_count": 117,
   "id": "95a8fb6b-47fc-4390-8911-55945012736a",
   "metadata": {
    "scrolled": true
   },
   "outputs": [
    {
     "name": "stdout",
     "output_type": "stream",
     "text": [
      "버튼을 더이상 찾을 수 없습니다.\n"
     ]
    }
   ],
   "source": [
    "while(True) : \n",
    "    try :\n",
    "        moreButton = driver.find_element(By.CLASS_NAME, MORE_PAGE)  \n",
    "        moreButton.click()\n",
    "        time.sleep(1) \n",
    "    except :\n",
    "        print(f'버튼을 더이상 찾을 수 없습니다.')\n",
    "        break;"
   ]
  },
  {
   "cell_type": "code",
   "execution_count": 118,
   "id": "30f78625-fd1d-4a83-8f2c-d0ab6edeeb2f",
   "metadata": {},
   "outputs": [],
   "source": [
    "get_menu_list = driver.find_elements(By.CLASS_NAME, MENU_NAME) \n",
    "get_menu_price = driver.find_elements(By.CSS_SELECTOR, MENU_PRICE) \n",
    "driver.close()"
   ]
  },
  {
   "cell_type": "code",
   "execution_count": 119,
   "id": "9befcca8-de01-4add-8c7f-275c59720c47",
   "metadata": {
    "scrolled": true
   },
   "outputs": [
    {
     "name": "stdout",
     "output_type": "stream",
     "text": [
      "91\n"
     ]
    }
   ],
   "source": [
    "print(len(get_menu_list))\n",
    "menu_list = [t.text for t in get_menu_list]"
   ]
  },
  {
   "cell_type": "code",
   "execution_count": 120,
   "id": "91b0774f-0100-4da7-b064-bb53648c66ac",
   "metadata": {
    "scrolled": true
   },
   "outputs": [
    {
     "name": "stdout",
     "output_type": "stream",
     "text": [
      "91\n"
     ]
    }
   ],
   "source": [
    "print(len(get_menu_price))\n",
    "menu_price = [t.text for t in get_menu_price]"
   ]
  },
  {
   "cell_type": "code",
   "execution_count": 121,
   "id": "d2978229-02a3-4b16-b7e7-ca68cd0a10ea",
   "metadata": {},
   "outputs": [
    {
     "data": {
      "text/html": [
       "<div>\n",
       "<style scoped>\n",
       "    .dataframe tbody tr th:only-of-type {\n",
       "        vertical-align: middle;\n",
       "    }\n",
       "\n",
       "    .dataframe tbody tr th {\n",
       "        vertical-align: top;\n",
       "    }\n",
       "\n",
       "    .dataframe thead th {\n",
       "        text-align: right;\n",
       "    }\n",
       "</style>\n",
       "<table border=\"1\" class=\"dataframe\">\n",
       "  <thead>\n",
       "    <tr style=\"text-align: right;\">\n",
       "      <th></th>\n",
       "      <th>메뉴</th>\n",
       "      <th>가격</th>\n",
       "    </tr>\n",
       "  </thead>\n",
       "  <tbody>\n",
       "    <tr>\n",
       "      <th>1</th>\n",
       "      <td>빅 제많덮(빅 제육 많이 덮밥)</td>\n",
       "      <td>6,900</td>\n",
       "    </tr>\n",
       "    <tr>\n",
       "      <th>2</th>\n",
       "      <td>제많덮(제육 많이 덮밥)</td>\n",
       "      <td>5,900</td>\n",
       "    </tr>\n",
       "    <tr>\n",
       "      <th>3</th>\n",
       "      <td>진달래</td>\n",
       "      <td>8,000</td>\n",
       "    </tr>\n",
       "    <tr>\n",
       "      <th>4</th>\n",
       "      <td>해바라기</td>\n",
       "      <td>10,000</td>\n",
       "    </tr>\n",
       "    <tr>\n",
       "      <th>5</th>\n",
       "      <td>매화</td>\n",
       "      <td>10,500</td>\n",
       "    </tr>\n",
       "    <tr>\n",
       "      <th>...</th>\n",
       "      <td>...</td>\n",
       "      <td>...</td>\n",
       "    </tr>\n",
       "    <tr>\n",
       "      <th>87</th>\n",
       "      <td>후라이드 순살(소)_케이준소스</td>\n",
       "      <td>4,000</td>\n",
       "    </tr>\n",
       "    <tr>\n",
       "      <th>88</th>\n",
       "      <td>후라이드 순살(중)</td>\n",
       "      <td>7,500</td>\n",
       "    </tr>\n",
       "    <tr>\n",
       "      <th>89</th>\n",
       "      <td>치킹 반반순살(양념, 후라이드)</td>\n",
       "      <td>16,900</td>\n",
       "    </tr>\n",
       "    <tr>\n",
       "      <th>90</th>\n",
       "      <td>치킹 반반순살(후라이드)</td>\n",
       "      <td>16,900</td>\n",
       "    </tr>\n",
       "    <tr>\n",
       "      <th>91</th>\n",
       "      <td>제주녹차 미니꿀호떡</td>\n",
       "      <td>2,500</td>\n",
       "    </tr>\n",
       "  </tbody>\n",
       "</table>\n",
       "<p>91 rows × 2 columns</p>\n",
       "</div>"
      ],
      "text/plain": [
       "                   메뉴      가격\n",
       "1   빅 제많덮(빅 제육 많이 덮밥)   6,900\n",
       "2       제많덮(제육 많이 덮밥)   5,900\n",
       "3                 진달래   8,000\n",
       "4                해바라기  10,000\n",
       "5                  매화  10,500\n",
       "..                ...     ...\n",
       "87   후라이드 순살(소)_케이준소스   4,000\n",
       "88         후라이드 순살(중)   7,500\n",
       "89  치킹 반반순살(양념, 후라이드)  16,900\n",
       "90      치킹 반반순살(후라이드)  16,900\n",
       "91         제주녹차 미니꿀호떡   2,500\n",
       "\n",
       "[91 rows x 2 columns]"
      ]
     },
     "execution_count": 121,
     "metadata": {},
     "output_type": "execute_result"
    }
   ],
   "source": [
    "df = pd.DataFrame({'메뉴' : menu_list ,'가격': menu_price})\n",
    "df = df.reset_index(drop=True)  # 인덱스를 0부터 다시 설정\n",
    "df.index = df.index + 1  # 인덱스를 1부터 시작하도록 변경\n",
    "df"
   ]
  },
  {
   "cell_type": "code",
   "execution_count": 123,
   "id": "130f96ce-1715-4cbc-976c-f3ddd804c96e",
   "metadata": {},
   "outputs": [],
   "source": [
    "# csv 파일로 만들기\n",
    "\n",
    "df.to_csv('hs_menu_name_and_price.csv', encoding = 'utf-8')"
   ]
  },
  {
   "cell_type": "code",
   "execution_count": 134,
   "id": "b6eb02af-4b9d-4737-864b-91741329f208",
   "metadata": {},
   "outputs": [],
   "source": [
    "df['가격'] = df['가격'].str.replace(',', '', regex=True).astype('int')"
   ]
  },
  {
   "cell_type": "code",
   "execution_count": 145,
   "id": "c2910533-cd36-405e-8986-8c15bb4ccc53",
   "metadata": {},
   "outputs": [
    {
     "name": "stdout",
     "output_type": "stream",
     "text": [
      "한솥의 평균 가격 : 5116원\n",
      "한솥의 최소 가격 : 16900원\n",
      "한솥의 최대 가격 : 500원\n"
     ]
    }
   ],
   "source": [
    "priceMean = df['가격'].mean().astype('int')\n",
    "priceMax = df['가격'].max()\n",
    "priceMin = df['가격'].min()\n",
    "print(f'한솥의 평균 가격 : {priceMean}원')\n",
    "print(f'한솥의 최소 가격 : {priceMax}원')\n",
    "print(f'한솥의 최대 가격 : {priceMin}원')"
   ]
  },
  {
   "cell_type": "code",
   "execution_count": null,
   "id": "d7fff87d-486f-40cd-a06c-1fee907d6e7d",
   "metadata": {},
   "outputs": [],
   "source": []
  },
  {
   "cell_type": "code",
   "execution_count": null,
   "id": "5e56ab8f-57aa-49e1-b7a1-47a28755e223",
   "metadata": {},
   "outputs": [],
   "source": []
  },
  {
   "cell_type": "code",
   "execution_count": null,
   "id": "3cef0c08-4eb8-4ed5-b960-78312bdbea05",
   "metadata": {},
   "outputs": [],
   "source": []
  },
  {
   "cell_type": "code",
   "execution_count": null,
   "id": "2c81a894-da92-4d8a-bd0b-19490a131abb",
   "metadata": {},
   "outputs": [],
   "source": []
  }
 ],
 "metadata": {
  "kernelspec": {
   "display_name": "Python 3 (ipykernel)",
   "language": "python",
   "name": "python3"
  },
  "language_info": {
   "codemirror_mode": {
    "name": "ipython",
    "version": 3
   },
   "file_extension": ".py",
   "mimetype": "text/x-python",
   "name": "python",
   "nbconvert_exporter": "python",
   "pygments_lexer": "ipython3",
   "version": "3.13.2"
  }
 },
 "nbformat": 4,
 "nbformat_minor": 5
}
