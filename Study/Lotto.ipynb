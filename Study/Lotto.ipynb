{
 "cells": [
  {
   "cell_type": "code",
   "execution_count": 1,
   "id": "dece5e56-47f3-4bff-9076-b81049fc0103",
   "metadata": {
    "collapsed": true,
    "jupyter": {
     "outputs_hidden": true
    }
   },
   "outputs": [
    {
     "name": "stdout",
     "output_type": "stream",
     "text": [
      "Requirement already satisfied: requests in c:\\python313\\lib\\site-packages (2.32.3)\n",
      "Requirement already satisfied: beautifulsoup4 in c:\\python313\\lib\\site-packages (4.13.3)\n",
      "Requirement already satisfied: pandas in c:\\python313\\lib\\site-packages (2.2.3)\n",
      "Requirement already satisfied: charset-normalizer<4,>=2 in c:\\python313\\lib\\site-packages (from requests) (3.4.1)\n",
      "Requirement already satisfied: idna<4,>=2.5 in c:\\python313\\lib\\site-packages (from requests) (3.10)\n",
      "Requirement already satisfied: urllib3<3,>=1.21.1 in c:\\python313\\lib\\site-packages (from requests) (2.3.0)\n",
      "Requirement already satisfied: certifi>=2017.4.17 in c:\\python313\\lib\\site-packages (from requests) (2025.1.31)\n",
      "Requirement already satisfied: soupsieve>1.2 in c:\\python313\\lib\\site-packages (from beautifulsoup4) (2.6)\n",
      "Requirement already satisfied: typing-extensions>=4.0.0 in c:\\python313\\lib\\site-packages (from beautifulsoup4) (4.12.2)\n",
      "Requirement already satisfied: numpy>=1.26.0 in c:\\python313\\lib\\site-packages (from pandas) (2.2.2)\n",
      "Requirement already satisfied: python-dateutil>=2.8.2 in c:\\python313\\lib\\site-packages (from pandas) (2.9.0.post0)\n",
      "Requirement already satisfied: pytz>=2020.1 in c:\\python313\\lib\\site-packages (from pandas) (2025.1)\n",
      "Requirement already satisfied: tzdata>=2022.7 in c:\\python313\\lib\\site-packages (from pandas) (2025.1)\n",
      "Requirement already satisfied: six>=1.5 in c:\\python313\\lib\\site-packages (from python-dateutil>=2.8.2->pandas) (1.17.0)\n"
     ]
    },
    {
     "name": "stderr",
     "output_type": "stream",
     "text": [
      "WARNING: Ignoring invalid distribution ~ip (C:\\Python313\\Lib\\site-packages)\n",
      "WARNING: Ignoring invalid distribution ~ip (C:\\Python313\\Lib\\site-packages)\n",
      "WARNING: Ignoring invalid distribution ~ip (C:\\Python313\\Lib\\site-packages)\n"
     ]
    }
   ],
   "source": [
    "# 필요한 라이브러리 설치\n",
    "# !pip install requests beautifulsoup4 pandas"
   ]
  },
  {
   "cell_type": "code",
   "execution_count": 8,
   "id": "e31b0bb8-4865-4a1f-8bcd-0a6959ae9cec",
   "metadata": {},
   "outputs": [
    {
     "name": "stdout",
     "output_type": "stream",
     "text": [
      "1160회 로또번호 : 7 13 18 36 39 45 \n",
      "데이터가 lotto_results.csv 파일에 저장되었습니다.\n"
     ]
    }
   ],
   "source": [
    "import requests\n",
    "import pandas as pd\n",
    "import csv\n",
    "from bs4 import BeautifulSoup\n",
    "\n",
    "# 최신 로또 번호 크롤링 함수\n",
    "def get_lotto_numbers():\n",
    "    url = \"https://dhlottery.co.kr/gameResult.do?method=byWin\"\n",
    "    response = requests.get(url)\n",
    "    response.raise_for_status()\n",
    "    \n",
    "    soup = BeautifulSoup(response.text, \"html.parser\")\n",
    "    round_number = soup.select_one(\".win_result h4 strong\").text.strip()\n",
    "    numbers = [num.text for num in soup.select(\".win span\")]\n",
    "    bonus_number = soup.select_one(\".bonus span\").text.strip()\n",
    "\n",
    "    print(round_number, '로또번호 : ', end = '')\n",
    "    for i in numbers :\n",
    "        print (i, end = ' ')\n",
    "    print()\n",
    "    return {\n",
    "        \"회차\": round_number,\n",
    "        \"번호1\": numbers[0], \"번호2\": numbers[1], \"번호3\": numbers[2],\n",
    "        \"번호4\": numbers[3], \"번호5\": numbers[4], \"번호6\": numbers[5],\n",
    "        \"보너스번호\": bonus_number\n",
    "    }\n",
    "\n",
    "# 데이터 저장 함수\n",
    "def save_to_csv(data, filename=\"lotto_results.csv\"):\n",
    "    try:\n",
    "        df = pd.DataFrame([data])\n",
    "        df.to_csv(filename, mode='a', index=False, encoding='utf-8-sig', header=not pd.io.common.file_exists(filename))\n",
    "        print(f\"데이터가 {filename} 파일에 저장되었습니다.\")\n",
    "    except Exception as e:\n",
    "        print(f\"파일 저장 중 오류 발생: {e}\")\n",
    "\n",
    "# 실행\n",
    "lotto_data = get_lotto_numbers()\n",
    "save_to_csv(lotto_data)\n"
   ]
  },
  {
   "cell_type": "code",
   "execution_count": null,
   "id": "81b52cc6-472d-4109-bec8-8e1832be0e17",
   "metadata": {},
   "outputs": [],
   "source": []
  }
 ],
 "metadata": {
  "kernelspec": {
   "display_name": "Python 3 (ipykernel)",
   "language": "python",
   "name": "python3"
  },
  "language_info": {
   "codemirror_mode": {
    "name": "ipython",
    "version": 3
   },
   "file_extension": ".py",
   "mimetype": "text/x-python",
   "name": "python",
   "nbconvert_exporter": "python",
   "pygments_lexer": "ipython3",
   "version": "3.13.2"
  }
 },
 "nbformat": 4,
 "nbformat_minor": 5
}
