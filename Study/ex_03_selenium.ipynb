{
 "cells": [
  {
   "cell_type": "markdown",
   "id": "fec39eff-4ba8-4d61-8851-4accc143e822",
   "metadata": {},
   "source": [
    "### selenium 라이브러리\n",
    "- 웹 브라우저를 자동으로 제어하기 위한 라이브러리"
   ]
  },
  {
   "cell_type": "code",
   "execution_count": 162,
   "id": "4f7de6da-1d00-4364-ab7f-5d4e4fcd90a5",
   "metadata": {},
   "outputs": [],
   "source": [
    "# selenium 설치\n",
    "# !pip install selenium\n",
    "# !pip install webdriver"
   ]
  },
  {
   "cell_type": "code",
   "execution_count": 163,
   "id": "a937564a-9745-4059-84c2-fcd737a13c01",
   "metadata": {},
   "outputs": [],
   "source": [
    "# 필요한 라이브러리 불러오기\n",
    "\n",
    "from selenium import webdriver as wb # 컴퓨터용 부라우저 \n",
    "from selenium.webdriver.common.keys import Keys # 컴퓨터용 키보드 \n",
    "from selenium.webdriver.common.by import By # 선택자 지정 방식\n",
    "import time"
   ]
  },
  {
   "cell_type": "code",
   "execution_count": 164,
   "id": "ee4afe5f-d9bf-4bd8-9816-867c3737e918",
   "metadata": {},
   "outputs": [],
   "source": [
    "# 검색에 필요한 것을 변수로 선언\n",
    "SEARCH_INPUT_CODE = 'query'\n",
    "SEARCH_SEND_CODE = 'search-btn'"
   ]
  },
  {
   "cell_type": "code",
   "execution_count": 165,
   "id": "037fda08-e017-412e-8d16-48b6d540bee3",
   "metadata": {},
   "outputs": [],
   "source": [
    "# 컴퓨터용 브라우저 실행\n",
    "\n",
    "driver = wb.Chrome()"
   ]
  },
  {
   "cell_type": "code",
   "execution_count": 166,
   "id": "9687e259-f3b6-4565-ae13-8a2f61af22c8",
   "metadata": {},
   "outputs": [],
   "source": [
    "# url 요청 보내기\n",
    "\n",
    "driver.get('https://www.naver.com')\n",
    "time.sleep(1)"
   ]
  },
  {
   "cell_type": "code",
   "execution_count": 167,
   "id": "95d14fe8-e6da-425f-b02d-507fb35988c8",
   "metadata": {},
   "outputs": [],
   "source": [
    "# 네이버에 특정 키워드를 검색하기"
   ]
  },
  {
   "cell_type": "code",
   "execution_count": 200,
   "id": "0953494c-5c66-42cd-b8c1-5a1bf1368862",
   "metadata": {},
   "outputs": [],
   "source": [
    "def find_position(input) :\n",
    "    result = driver.find_element(By.ID, input)\n",
    "    return result \n",
    "    \n",
    "def find_and_search(input) : \n",
    "    search_point = find_position(SEARCH_INPUT_CODE)\n",
    "    search_point.send_keys(input) \n",
    "    time.sleep(0.5)\n",
    "    search_point.send_keys(Keys.ENTER)\n",
    "    return"
   ]
  },
  {
   "cell_type": "code",
   "execution_count": 169,
   "id": "135f5bcf-9c02-4395-89ed-6ec6b0cf308a",
   "metadata": {},
   "outputs": [],
   "source": [
    "# search=  driver.find_element(By.ID, 'query')\n",
    "# search = driver.find_element(By.CSS_SELECTOR, 'input#query')\n",
    "search = find_position('query')\n",
    "time.sleep(1)"
   ]
  },
  {
   "cell_type": "code",
   "execution_count": 170,
   "id": "e7594067-180f-41a0-b4a1-9ad1b7af09b4",
   "metadata": {},
   "outputs": [],
   "source": [
    "# send_keys() : 비보드 입력을 위한 함수 \n",
    "search.clear() # 먼저 입력창 청소\n",
    "search.send_keys('순천시 날씨')\n",
    "time.sleep(1)"
   ]
  },
  {
   "cell_type": "code",
   "execution_count": 171,
   "id": "2506e3ff-b8ac-4a73-9727-fe2f430aad1b",
   "metadata": {},
   "outputs": [],
   "source": [
    "# 검색한 결과를 보기 위한 방법 1. 엔터키, 2. 검색 요청\n",
    "\n",
    "# 1. 엔터를 입력하기\n",
    "search.send_keys(Keys.ENTER)\n",
    "time.sleep(1)"
   ]
  },
  {
   "cell_type": "code",
   "execution_count": 172,
   "id": "4e4f73c1-020d-4c9a-b7a5-59974526b746",
   "metadata": {},
   "outputs": [],
   "source": [
    "# 페이지 뒤로가기 \n",
    "driver.back()\n",
    "time.sleep(1)"
   ]
  },
  {
   "cell_type": "code",
   "execution_count": 173,
   "id": "29af4b6d-5f28-4438-a9e3-f66855d44284",
   "metadata": {},
   "outputs": [],
   "source": [
    "# 페이지 앞으로 가기\n",
    "driver.forward()\n",
    "time.sleep(1)"
   ]
  },
  {
   "cell_type": "code",
   "execution_count": 174,
   "id": "d02261ff-8dd6-41be-bd29-e3cc5f8aee87",
   "metadata": {},
   "outputs": [],
   "source": [
    "# 새로운 검색어 입력하기\n",
    "driver.back()\n",
    "time.sleep(1)\n",
    "\n",
    "# search.send_keys('순천 맛집')\n",
    "# 이걸 바로 실행하면 안 됨! 새로고침이나, 페이지가 다시 로드된다고 하면 위치를 다시 파악해야 됨"
   ]
  },
  {
   "cell_type": "code",
   "execution_count": 175,
   "id": "83a1581a-d043-40cb-942d-7a25a3c7ad50",
   "metadata": {},
   "outputs": [],
   "source": [
    "search = find_position(SEARCH_INPUT_CODE)\n",
    "search.send_keys('순천 맛집')"
   ]
  },
  {
   "cell_type": "code",
   "execution_count": 176,
   "id": "35515fcb-8cfc-4180-aa1a-e8cf3a5132d9",
   "metadata": {},
   "outputs": [],
   "source": [
    "# 전송을 요청하기\n",
    "send_button = find_position(SEARCH_SEND_CODE)\n",
    "time.sleep(1)\n",
    "send_button.click()"
   ]
  },
  {
   "cell_type": "code",
   "execution_count": 177,
   "id": "8483beda-3875-45ea-986f-e2972f580294",
   "metadata": {},
   "outputs": [],
   "source": [
    "driver.back()"
   ]
  },
  {
   "cell_type": "code",
   "execution_count": 178,
   "id": "fa54b91e-a0d6-4f2e-b3f0-9dd087404650",
   "metadata": {},
   "outputs": [],
   "source": [
    "find_and_search('대한민국 수도')"
   ]
  },
  {
   "cell_type": "code",
   "execution_count": 179,
   "id": "1c6cf075-8d21-4469-b226-e5c5fdd300b1",
   "metadata": {},
   "outputs": [],
   "source": [
    "# 자원 반납\n",
    "time.sleep(3)\n",
    "driver.close()"
   ]
  },
  {
   "cell_type": "code",
   "execution_count": null,
   "id": "1807baac-23a0-429f-86b4-0f66c2d7bc99",
   "metadata": {},
   "outputs": [],
   "source": []
  },
  {
   "cell_type": "markdown",
   "id": "e08701cc-4728-4095-9a5e-607b6a8e0a6f",
   "metadata": {},
   "source": [
    "## 실습!! 뉴스 기사 제목 수집!\n",
    "- selenium 라이브러리를 통해 뉴스 제목을 수집"
   ]
  },
  {
   "cell_type": "code",
   "execution_count": 213,
   "id": "d29129e0-6491-4348-a4ba-d490a6589b8c",
   "metadata": {},
   "outputs": [],
   "source": [
    "# # 필요한 라이브러리 불러오기\n",
    "\n",
    "# from selenium import webdriver as wb # 컴퓨터용 부라우저 \n",
    "# from selenium.webdriver.common.keys import Keys # 컴퓨터용 키보드 \n",
    "# from selenium.webdriver.common.by import By # 선택자 지정 방식\n",
    "# import time"
   ]
  },
  {
   "cell_type": "code",
   "execution_count": 221,
   "id": "aef5cbbd-db88-4122-bf9e-8b32fde824a3",
   "metadata": {},
   "outputs": [],
   "source": [
    "# css class name으로 위치 파악하는 함수\n",
    "def find_css_position(input) :\n",
    "    result = driver.find_element(By.CSS_SELECTOR, input)\n",
    "    return result"
   ]
  },
  {
   "cell_type": "code",
   "execution_count": 227,
   "id": "6468c9f4-3e60-4e61-8e91-8e869da922fc",
   "metadata": {},
   "outputs": [],
   "source": []
  },
  {
   "cell_type": "code",
   "execution_count": 229,
   "id": "4e42bdf7-ef04-4406-8f28-3c5ebbfdeaaf",
   "metadata": {},
   "outputs": [
    {
     "name": "stdin",
     "output_type": "stream",
     "text": [
      "검색어를 입력하세요 :  한국어\n"
     ]
    }
   ],
   "source": [
    "query = input('검색어를 입력하세요 : ')\n",
    "url = f'https://search.naver.com/search.naver?ssc=tab.news.all&where=news&sm=tab_jum&query={query}'\n",
    "driver = wb.Chrome()\n",
    "driver.get(url)"
   ]
  },
  {
   "cell_type": "code",
   "execution_count": 230,
   "id": "04ee40bd-aa83-48cc-a33f-8443b1ae1502",
   "metadata": {},
   "outputs": [],
   "source": [
    "NEWS_KEYWORD = 'a.news_tit'\n",
    "\n",
    "result = find_css_position(NEWS_KEYWORD)\n",
    "news_title = result.text"
   ]
  },
  {
   "cell_type": "code",
   "execution_count": 231,
   "id": "86037a7c-cd6c-4ea8-9513-52324fc2af56",
   "metadata": {},
   "outputs": [
    {
     "name": "stdout",
     "output_type": "stream",
     "text": [
      "국내 아이폰 사용자도 4월부터 '애플 AI' 쓴다…한국어 지원\n"
     ]
    }
   ],
   "source": [
    "print(news_title)"
   ]
  },
  {
   "cell_type": "code",
   "execution_count": 232,
   "id": "89726f9f-ef0b-4bef-b909-14eabef21ef0",
   "metadata": {},
   "outputs": [],
   "source": [
    "driver.close()"
   ]
  },
  {
   "cell_type": "code",
   "execution_count": null,
   "id": "41c74cf3-4b8d-4e0c-9209-058f1492d110",
   "metadata": {},
   "outputs": [],
   "source": []
  },
  {
   "cell_type": "code",
   "execution_count": null,
   "id": "ea5f22c8-d448-4ba8-b29d-8c424e1e2118",
   "metadata": {},
   "outputs": [],
   "source": []
  },
  {
   "cell_type": "code",
   "execution_count": null,
   "id": "1995d7aa-7f0d-42de-9ceb-f0e03849228b",
   "metadata": {},
   "outputs": [],
   "source": []
  },
  {
   "cell_type": "code",
   "execution_count": null,
   "id": "5c119de7-31f1-4c27-ac45-40f0c972834a",
   "metadata": {},
   "outputs": [],
   "source": []
  },
  {
   "cell_type": "code",
   "execution_count": null,
   "id": "511511c7-e1b3-4c3a-bfe7-169a3169132c",
   "metadata": {},
   "outputs": [],
   "source": []
  },
  {
   "cell_type": "code",
   "execution_count": null,
   "id": "f979299c-3e2a-40a5-8512-29156c8460c0",
   "metadata": {},
   "outputs": [],
   "source": []
  }
 ],
 "metadata": {
  "kernelspec": {
   "display_name": "Python 3 (ipykernel)",
   "language": "python",
   "name": "python3"
  },
  "language_info": {
   "codemirror_mode": {
    "name": "ipython",
    "version": 3
   },
   "file_extension": ".py",
   "mimetype": "text/x-python",
   "name": "python",
   "nbconvert_exporter": "python",
   "pygments_lexer": "ipython3",
   "version": "3.13.2"
  }
 },
 "nbformat": 4,
 "nbformat_minor": 5
}
