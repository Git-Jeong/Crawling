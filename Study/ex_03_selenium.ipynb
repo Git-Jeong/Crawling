{
 "cells": [
  {
   "cell_type": "markdown",
   "id": "fec39eff-4ba8-4d61-8851-4accc143e822",
   "metadata": {},
   "source": [
    "### selenium 라이브러리\n",
    "- 웹 브라우저를 자동으로 제어하기 위한 라이브러리"
   ]
  },
  {
   "cell_type": "code",
   "execution_count": 126,
   "id": "4f7de6da-1d00-4364-ab7f-5d4e4fcd90a5",
   "metadata": {},
   "outputs": [],
   "source": [
    "# selenium 설치\n",
    "# !pip install selenium\n",
    "# !pip install webdriver"
   ]
  },
  {
   "cell_type": "code",
   "execution_count": 127,
   "id": "a937564a-9745-4059-84c2-fcd737a13c01",
   "metadata": {},
   "outputs": [],
   "source": [
    "# 필요한 라이브러리 불러오기\n",
    "\n",
    "from selenium import webdriver as wb # 컴퓨터용 부라우저 \n",
    "from selenium.webdriver.common.keys import Keys # 컴퓨터용 키보드 \n",
    "from selenium.webdriver.common.by import By # 선택자 지정 방식\n",
    "import time"
   ]
  },
  {
   "cell_type": "code",
   "execution_count": 128,
   "id": "037fda08-e017-412e-8d16-48b6d540bee3",
   "metadata": {},
   "outputs": [],
   "source": [
    "# 컴퓨터용 브라우저 실행\n",
    "\n",
    "driver = wb.Chrome()"
   ]
  },
  {
   "cell_type": "code",
   "execution_count": 129,
   "id": "9687e259-f3b6-4565-ae13-8a2f61af22c8",
   "metadata": {},
   "outputs": [],
   "source": [
    "# url 요청 보내기\n",
    "\n",
    "driver.get('https://www.naver.com')\n",
    "time.sleep(1)"
   ]
  },
  {
   "cell_type": "code",
   "execution_count": 130,
   "id": "95d14fe8-e6da-425f-b02d-507fb35988c8",
   "metadata": {},
   "outputs": [],
   "source": [
    "# 네이버에 특정 키워드를 검색하기"
   ]
  },
  {
   "cell_type": "code",
   "execution_count": 131,
   "id": "0953494c-5c66-42cd-b8c1-5a1bf1368862",
   "metadata": {},
   "outputs": [],
   "source": [
    "def find_position(input) :\n",
    "    result = driver.find_element(By.ID, input)\n",
    "    return result\n",
    "\n",
    "def find_and_search(input) : \n",
    "    search_point = find_position('query')\n",
    "    search_point.send_keys(input) \n",
    "    time.sleep(0.5)\n",
    "    search_point.send_keys(Keys.ENTER)\n",
    "    return"
   ]
  },
  {
   "cell_type": "code",
   "execution_count": 132,
   "id": "135f5bcf-9c02-4395-89ed-6ec6b0cf308a",
   "metadata": {},
   "outputs": [],
   "source": [
    "# search=  driver.find_element(By.ID, 'query')\n",
    "# search = driver.find_element(By.CSS_SELECTOR, 'input#query')\n",
    "search = find_position('query')\n",
    "time.sleep(1)"
   ]
  },
  {
   "cell_type": "code",
   "execution_count": 133,
   "id": "e7594067-180f-41a0-b4a1-9ad1b7af09b4",
   "metadata": {},
   "outputs": [],
   "source": [
    "# send_keys() : 비보드 입력을 위한 함수 \n",
    "search.clear() # 먼저 입력창 청소\n",
    "search.send_keys('순천시 날씨')\n",
    "time.sleep(1)"
   ]
  },
  {
   "cell_type": "code",
   "execution_count": 134,
   "id": "2506e3ff-b8ac-4a73-9727-fe2f430aad1b",
   "metadata": {},
   "outputs": [],
   "source": [
    "# 검색한 결과를 보기 위한 방법 1. 엔터키, 2. 검색 요청\n",
    "\n",
    "# 1. 엔터를 입력하기\n",
    "search.send_keys(Keys.ENTER)\n",
    "time.sleep(1)"
   ]
  },
  {
   "cell_type": "code",
   "execution_count": 135,
   "id": "4e4f73c1-020d-4c9a-b7a5-59974526b746",
   "metadata": {},
   "outputs": [],
   "source": [
    "# 페이지 뒤로가기 \n",
    "driver.back()\n",
    "time.sleep(1)"
   ]
  },
  {
   "cell_type": "code",
   "execution_count": 136,
   "id": "29af4b6d-5f28-4438-a9e3-f66855d44284",
   "metadata": {},
   "outputs": [],
   "source": [
    "# 페이지 앞으로 가기\n",
    "driver.forward()\n",
    "time.sleep(1)"
   ]
  },
  {
   "cell_type": "code",
   "execution_count": 137,
   "id": "d02261ff-8dd6-41be-bd29-e3cc5f8aee87",
   "metadata": {},
   "outputs": [],
   "source": [
    "# 새로운 검색어 입력하기\n",
    "driver.back()\n",
    "time.sleep(1)\n",
    "\n",
    "# search.send_keys('순천 맛집')\n",
    "# 이걸 바로 실행하면 안 됨! 새로고침이나, 페이지가 다시 로드된다고 하면 위치를 다시 파악해야 됨"
   ]
  },
  {
   "cell_type": "code",
   "execution_count": 138,
   "id": "83a1581a-d043-40cb-942d-7a25a3c7ad50",
   "metadata": {},
   "outputs": [],
   "source": [
    "search = find_position('query')\n",
    "search.send_keys('순천 맛집')"
   ]
  },
  {
   "cell_type": "code",
   "execution_count": 139,
   "id": "35515fcb-8cfc-4180-aa1a-e8cf3a5132d9",
   "metadata": {},
   "outputs": [],
   "source": [
    "# 전송을 요청하기\n",
    "send_button = find_position('search-btn')\n",
    "time.sleep(1)\n",
    "send_button.click()"
   ]
  },
  {
   "cell_type": "code",
   "execution_count": 140,
   "id": "8483beda-3875-45ea-986f-e2972f580294",
   "metadata": {},
   "outputs": [],
   "source": [
    "driver.back()"
   ]
  },
  {
   "cell_type": "code",
   "execution_count": null,
   "id": "fa54b91e-a0d6-4f2e-b3f0-9dd087404650",
   "metadata": {},
   "outputs": [],
   "source": []
  },
  {
   "cell_type": "code",
   "execution_count": null,
   "id": "1c6cf075-8d21-4469-b226-e5c5fdd300b1",
   "metadata": {},
   "outputs": [],
   "source": []
  },
  {
   "cell_type": "code",
   "execution_count": null,
   "id": "1807baac-23a0-429f-86b4-0f66c2d7bc99",
   "metadata": {},
   "outputs": [],
   "source": []
  },
  {
   "cell_type": "code",
   "execution_count": null,
   "id": "f979299c-3e2a-40a5-8512-29156c8460c0",
   "metadata": {},
   "outputs": [],
   "source": []
  }
 ],
 "metadata": {
  "kernelspec": {
   "display_name": "Python 3 (ipykernel)",
   "language": "python",
   "name": "python3"
  },
  "language_info": {
   "codemirror_mode": {
    "name": "ipython",
    "version": 3
   },
   "file_extension": ".py",
   "mimetype": "text/x-python",
   "name": "python",
   "nbconvert_exporter": "python",
   "pygments_lexer": "ipython3",
   "version": "3.13.2"
  }
 },
 "nbformat": 4,
 "nbformat_minor": 5
}
