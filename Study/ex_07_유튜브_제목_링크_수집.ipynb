{
 "cells": [
  {
   "cell_type": "markdown",
   "id": "41193bfb-ec8c-416c-96a1-627b0596a0b9",
   "metadata": {},
   "source": [
    "### 실습 : 유튜브에 있는 제목 및 링크 수집하기"
   ]
  },
  {
   "cell_type": "code",
   "execution_count": 12,
   "id": "cc21ad61-89dc-4597-887b-8bae7a9e66e8",
   "metadata": {},
   "outputs": [
    {
     "name": "stdout",
     "output_type": "stream",
     "text": [
      "필요한 라이브러리 import 완료\n"
     ]
    }
   ],
   "source": [
    "# 라이브러리 불러오기\n",
    "  \n",
    "try :\n",
    "    import os  # 운영체제 관련 작업 (폴더 생성, 삭제 등)\n",
    "except ModuleNotFoundError:\n",
    "    !pip install os\n",
    "    \n",
    "try :\n",
    "    # 페이지 로딩 시간을 부여하는 라이브러리\n",
    "    import time  # 시간 관련 기능 (대기, 지연)\n",
    "except ModuleNotFoundError:\n",
    "    !pip install time \n",
    "    \n",
    "try:\n",
    "    # 컴퓨터용 브라우저\n",
    "    # 컴퓨터용 키보드\n",
    "    # 선택지 지정방식\n",
    "    from selenium import webdriver as wb\n",
    "    from selenium.webdriver.common.keys import Keys\n",
    "    from selenium.webdriver.common.by import By\n",
    "except ModuleNotFoundError:\n",
    "    !pip install selenium\n",
    "    \n",
    "try : \n",
    "    # 반복문 진행 상황을 확인할 수 있는 도구\n",
    "    from tqdm import tqdm\n",
    "except ModuleNotFoundError :\n",
    "    !pip install tqdm\n",
    "\n",
    "try :\n",
    "    # 랭과 열로 이루어진 표와 같은 형태를 다룰 수 있는 라이브러리\n",
    "    import pandas as pd \n",
    "except ModuleNotFoundError :\n",
    "    !pip install pandas\n",
    "\n",
    "print(f'필요한 라이브러리 import 완료')"
   ]
  },
  {
   "cell_type": "code",
   "execution_count": 13,
   "id": "516e2a9a-90db-42ab-ac08-5f0d758bf655",
   "metadata": {},
   "outputs": [],
   "source": [
    "# 전체적으로 관리할 변수를 관리\n",
    "\n",
    "# 내가 수집하는 유투브의 이름\n",
    "YOUTUBER_NAME = 'ootb_STUDIO'\n",
    "# 내가 수집하는 유튜브의 동영상 링크\n",
    "YOUTUBE_URL = 'https://www.youtube.com/@ootbstudio/videos'\n",
    "\n",
    "# 수집하려는 영상 제목의 ID값\n",
    "VIDEO_TITLE_ID = 'video-title-link'\n",
    "# 수집하려는 영상 링크의 ID값\n",
    "VIDEO_URL_ID = 'video-title-link'\n",
    "\n",
    "# csv로 저장하려는 파일의 이름\n",
    "FILE_NAME = f'{YOUTUBER_NAME}' + '_youtube_list.csv'\n",
    "\n",
    "# 최종적으로 가지고 있을 유튜브의 정보들\n",
    "# 영상의 이름들을 보관할 리스트\n",
    "get_all_title = []\n",
    "# 영상의 링크들을 보관할 리스트\n",
    "get_all_url = []\n"
   ]
  },
  {
   "cell_type": "code",
   "execution_count": 14,
   "id": "2f367cc9-c933-4997-b687-48d15bbaf445",
   "metadata": {},
   "outputs": [],
   "source": [
    "def web_start() :\n",
    "    global driver\n",
    "    driver = wb.Chrome()\n",
    "    driver.get(YOUTUBE_URL)\n",
    "    time.sleep(3)"
   ]
  },
  {
   "cell_type": "code",
   "execution_count": 15,
   "id": "d52eeda7-5f0d-4799-9a05-0b750bfd28cd",
   "metadata": {},
   "outputs": [],
   "source": [
    "def find_elements_ID(input) : \n",
    "    try :\n",
    "        fint_result = driver.find_elements(By.ID, input)\n",
    "        return fint_result\n",
    "    except :\n",
    "        return 0\n",
    "\n",
    "def find_element_ID(input) : \n",
    "    try :\n",
    "        fint_result = driver.find_element(By.ID, input)\n",
    "        return fint_result\n",
    "    except :\n",
    "        return 0\n",
    "\n",
    "def page_Scroll() : \n",
    "    while(True) :\n",
    "        origin_title = find_elements_ID(VIDEO_TITLE_ID) # 페이지 검사를 위한 사전 타이틀 수 파악\n",
    "        body = driver.find_element(By.TAG_NAME, 'body') #페이지의 바디를 찾기\n",
    "        body.send_keys(Keys.END) # 바디에서 스크롤을 위한 'END'버튼 클릭\n",
    "        time.sleep(0.5) # 페이지 로딩을 위한 0.5초 로딩 \n",
    "        later_title = find_elements_ID(VIDEO_TITLE_ID)  #페이지 검사를 위한 타이틀 수 파악\n",
    "        \n",
    "        if(origin_title == later_title) : \n",
    "            print(\"페이지의 끝인지 검사중...\")\n",
    "            body.send_keys(Keys.END) # 바디에서 스크롤을 위한 'END'버튼 클릭\n",
    "            time.sleep(3)\n",
    "            check_title = find_elements_ID(VIDEO_TITLE_ID)  #페이지 검사를 위한 타이틀 수 파악\n",
    "            if (check_title == later_title) :\n",
    "                # 여전히 타이틀 수가 같으면\n",
    "                print(f'페이지가 끝났습니다. 최종 영상의 수 : ', len(later_title))\n",
    "                break\n",
    "            else :\n",
    "                print(\"페이지가 아직 끝나지 않아 스크롤을 다시 시작합니다. 현재 영상의 수 : \", len(check_title)) "
   ]
  },
  {
   "cell_type": "code",
   "execution_count": 16,
   "id": "a4c4592b-eb46-4130-9b32-a035ab5b6813",
   "metadata": {},
   "outputs": [],
   "source": [
    "def get_All_Title() : \n",
    "    temp_list = find_elements_ID(VIDEO_TITLE_ID) \n",
    "    temp_get_all_title = [i.text for i in temp_list] \n",
    "    for i in temp_get_all_title : \n",
    "        get_all_title.append(i) \n",
    "    print(f'{len(get_all_title)}개의 제목 데이터를 수집 완료')"
   ]
  },
  {
   "cell_type": "code",
   "execution_count": 17,
   "id": "b9a49e64-4e57-48d6-b805-98ded8fa94a4",
   "metadata": {},
   "outputs": [],
   "source": [
    "def get_All_Url() :\n",
    "    temp_list = find_elements_ID(VIDEO_URL_ID) \n",
    "    temp_get_all_url = [element.get_attribute(\"href\") for element in temp_list] \n",
    "    for i in temp_get_all_url :\n",
    "        get_all_url.append(i)\n",
    "    print(f'{len(get_all_url)}개의 제목 링크 데이터를 수집 완료')"
   ]
  },
  {
   "cell_type": "code",
   "execution_count": 18,
   "id": "c5ad36d0-3534-450c-a212-25cfad89772f",
   "metadata": {},
   "outputs": [],
   "source": [
    "def make_csv() :\n",
    "    df = pd.DataFrame({'제목' : get_all_title, '링크' : get_all_url})\n",
    "    df.index = df.index + 1  \n",
    "    df.to_csv(FILE_NAME, encoding='utf-8') "
   ]
  },
  {
   "cell_type": "code",
   "execution_count": 19,
   "id": "f6297fef-2552-413c-bfd1-548eb77f4f75",
   "metadata": {},
   "outputs": [],
   "source": [
    "def web_close() :\n",
    "    driver.close()"
   ]
  },
  {
   "cell_type": "code",
   "execution_count": 20,
   "id": "ea39ed35-fa78-4bae-8b93-7f9c488bd465",
   "metadata": {},
   "outputs": [
    {
     "name": "stdout",
     "output_type": "stream",
     "text": [
      "페이지의 끝인지 검사중...\n",
      "페이지가 끝났습니다. 최종 영상의 수 :  188\n",
      "188개의 제목 데이터를 수집 완료\n",
      "188개의 제목 링크 데이터를 수집 완료\n"
     ]
    }
   ],
   "source": [
    "driver = None\n",
    "\n",
    "web_start()\n",
    "page_Scroll()\n",
    "get_All_Title()\n",
    "get_All_Url()\n",
    "web_close()\n",
    "make_csv() "
   ]
  },
  {
   "cell_type": "code",
   "execution_count": null,
   "id": "4379d167-01b1-4776-8f76-bab08b8e2c54",
   "metadata": {},
   "outputs": [],
   "source": []
  },
  {
   "cell_type": "code",
   "execution_count": null,
   "id": "53d07d7d-1daa-4330-8de2-c9d4a163316b",
   "metadata": {},
   "outputs": [],
   "source": []
  },
  {
   "cell_type": "code",
   "execution_count": null,
   "id": "2cc5a95b-9ef1-46e1-b9eb-7933d77f93f1",
   "metadata": {},
   "outputs": [],
   "source": []
  },
  {
   "cell_type": "code",
   "execution_count": null,
   "id": "3c9e745e-48cc-4fe6-8fc7-6267a7688a55",
   "metadata": {},
   "outputs": [],
   "source": []
  },
  {
   "cell_type": "code",
   "execution_count": null,
   "id": "f4075c9d-dc1a-404a-970a-5e9f974786b6",
   "metadata": {},
   "outputs": [],
   "source": []
  },
  {
   "cell_type": "code",
   "execution_count": null,
   "id": "c125df0c-1a84-436e-8239-29b0006b6ff8",
   "metadata": {},
   "outputs": [],
   "source": []
  },
  {
   "cell_type": "code",
   "execution_count": null,
   "id": "5d500283-ce51-4d18-887c-46496e93e8ae",
   "metadata": {},
   "outputs": [],
   "source": []
  },
  {
   "cell_type": "code",
   "execution_count": null,
   "id": "987a1997-5dd4-4c65-adec-65fea22d7025",
   "metadata": {},
   "outputs": [],
   "source": []
  },
  {
   "cell_type": "code",
   "execution_count": null,
   "id": "bd575ee8-b36f-45c7-ad4c-38f0cb608e2d",
   "metadata": {},
   "outputs": [],
   "source": []
  },
  {
   "cell_type": "code",
   "execution_count": null,
   "id": "c30e6f60-c0ef-4621-9408-37929041dd70",
   "metadata": {},
   "outputs": [],
   "source": []
  }
 ],
 "metadata": {
  "kernelspec": {
   "display_name": "Python 3 (ipykernel)",
   "language": "python",
   "name": "python3"
  },
  "language_info": {
   "codemirror_mode": {
    "name": "ipython",
    "version": 3
   },
   "file_extension": ".py",
   "mimetype": "text/x-python",
   "name": "python",
   "nbconvert_exporter": "python",
   "pygments_lexer": "ipython3",
   "version": "3.13.2"
  }
 },
 "nbformat": 4,
 "nbformat_minor": 5
}
